{
 "cells": [
  {
   "cell_type": "code",
   "execution_count": 1,
   "metadata": {
    "pycharm": {
     "is_executing": true
    }
   },
   "outputs": [],
   "source": [
    "#Import packages\n",
    "import pandas as pd\n",
    "import numpy as np\n",
    "import matplotlib.pyplot as plt\n",
    "import seaborn as sns\n",
    "import copy\n",
    "import warnings\n",
    "import math\n",
    "from sklearn.model_selection import train_test_split\n",
    "from sklearn.metrics import f1_score,accuracy_score,recall_score,precision_score, confusion_matrix\n",
    "from sklearn.preprocessing import label_binarize\n",
    "import pickle\n",
    "from MVDD.MVDD import MVDD\n",
    "import MVDD.MVDD_Generator as mvGen\n",
    "\n",
    "%matplotlib inline\n",
    "\n",
    "plt.rc('font', size=12)\n",
    "warnings.filterwarnings('ignore')"
   ]
  },
  {
   "cell_type": "code",
   "execution_count": null,
   "outputs": [],
   "source": [
    "#HELPER CODE\n",
    "\n",
    "#Validation Method\n",
    "def performValidation(model, data, realScores, aucName):\n",
    "    #MVDD Accuracy\n",
    "    print(\"\\n*****MVDD Validation*****\")\n",
    "    y_pred = model.predictScoreSet(data)\n",
    "    print(\"y_pred\", y_pred)\n",
    "    y_test = realScores\n",
    "    \n",
    "    FP = confusion_matrix(y_test,y_pred).sum(axis=0) - np.diag(confusion_matrix(y_test,y_pred))\n",
    "    FN = confusion_matrix(y_test,y_pred).sum(axis=1) - np.diag(confusion_matrix(y_test,y_pred))\n",
    "    TP = np.diag(confusion_matrix(y_test,y_pred))\n",
    "    TN = confusion_matrix(y_test,y_pred).sum() - (FP + FN + TP)\n",
    "\n",
    "    # Sensitivity, hit rate, recall, or true positive rate\n",
    "    TPR = TP/(TP+FN)\n",
    "    TPR = TPR[~np.isnan(TPR)]\n",
    "    # Specificity or true negative rate\n",
    "    TNR = TN/(TN+FP) \n",
    "    TNR = TNR[~np.isnan(TNR)]\n",
    "    # Precision or positive predictive value\n",
    "    PPV = TP/(TP+FP)\n",
    "    PPV = PPV[~np.isnan(PPV)]\n",
    "    # Negative predictive value\n",
    "    NPV = TN/(TN+FN)\n",
    "    NPV = NPV[~np.isnan(NPV)]\n",
    "    # Fall out or false positive rate\n",
    "    FPR = FP/(FP+TN)\n",
    "    FPR = FPR[~np.isnan(FPR)]\n",
    "    # False negative rate\n",
    "    FNR = FN/(TP+FN)\n",
    "    FNR = FNR[~np.isnan(FNR)]\n",
    "    # False discovery rate\n",
    "    FDR = FP/(TP+FP)\n",
    "    FDR = FDR[~np.isnan(FDR)]\n",
    "\n",
    "    # Overall accuracy\n",
    "    ACC = (TP+TN)/(TP+FP+FN+TN)\n",
    "    \n",
    "    #ROC AUC Score\n",
    "    y_score = label_binarize(y_pred, classes=[1,2,3,4,5])\n",
    "    y_test = label_binarize(realScores, classes=[1,2,3,4,5])\n",
    "    fpr, tpr, roc_auc = mvGen.getClassROC(y_test,y_score)\n",
    "    \n",
    "    mvGen.getAverageROCGraph(fpr, tpr, roc_auc, aucName)\n",
    "    \n",
    "    auc = np.array(list(roc_auc.values()))\n",
    "    auc = auc[~np.isnan(auc)]\n",
    "    \n",
    "#     print(\"Sensitivity (TPR): %0.3f(±%0.3f)\" % (np.mean(TPR), np.std(TPR) * 2))\n",
    "#     print(\"Specificity (TNR): %0.3f(±%0.3f)\" % (np.mean(TNR), np.std(TNR) * 2))\n",
    "#     print(\"Precision (PPV): %0.3f(±%0.3f)\" % (np.mean(PPV), np.std(PPV) * 2))\n",
    "#     print(\"Negative Predictive Value (NPV): %0.3f(±%0.3f)\" % (np.mean(NPV), np.std(NPV) * 2))\n",
    "#     print(\"FPR: %0.3f(±%0.3f)\" % (np.mean(FPR), np.std(FPR) * 2))\n",
    "#     print(\"FNR: %0.3f(±%0.3f)\" % (np.mean(FNR), np.std(FNR) * 2))\n",
    "#     print(\"Accuracy: %0.3f(±%0.3f)\" % (np.mean(ACC), np.std(ACC) * 2))\n",
    "#     print(\"Averaged AUC: %0.3f(±%0.3f)\" % (np.mean(auc), np.std(auc) * 2))\n",
    "\n",
    "    n = len(data)\n",
    "    print(\"Sensitivity (TPR): %0.3f +/- %0.3f\" % (np.mean(TPR), CI(np.mean(TPR), n)))\n",
    "    print(\"Specificity (TNR): %0.3f +/- %0.3f\" % (np.mean(TNR), CI(np.mean(TNR), n)))\n",
    "    print(\"Precision (PPV): %0.3f +/- % 0.3f\" % (np.mean(PPV), CI(np.mean(PPV), n)))\n",
    "    print(\"Negative Predictive Value (NPV): %0.3f +/- %0.3f\" % (np.mean(NPV), CI(np.mean(NPV), n)))\n",
    "    print(\"FPR: %0.3f +/- %0.3f\" % (np.mean(FPR), CI(np.mean(FPR), n)))\n",
    "    print(\"FNR: %0.3f +/- %0.3f\" % (np.mean(FNR), CI(np.mean(FNR), n)))\n",
    "    print(\"Accuracy: %0.3f +/- %0.3f\" % (np.mean(ACC), CI(np.mean(ACC), n)))\n",
    "    print(\"Averaged AUC: %0.3f +/- %0.3f\" % (np.mean(auc), CI(np.mean(auc), n)))\n",
    "    \n",
    "    \n",
    "# Helper functions\n",
    "# Return 95% Confidence Interval for Value\n",
    "def CI(val, n):\n",
    "    ci = 1.96 * math.sqrt(abs(val - (1 - val)) / n)\n",
    "    return ci\n"
   ],
   "metadata": {
    "collapsed": false,
    "pycharm": {
     "name": "#%%\n"
    }
   }
  },
  {
   "cell_type": "markdown",
   "source": [
    "# Hemodynamic Model Validation"
   ],
   "metadata": {
    "collapsed": false,
    "pycharm": {
     "name": "#%% md\n"
    }
   }
  },
  {
   "cell_type": "markdown",
   "source": [
    "## Label = Death"
   ],
   "metadata": {
    "collapsed": false,
    "pycharm": {
     "name": "#%% md\n"
    }
   }
  },
  {
   "cell_type": "markdown",
   "source": [
    "### Cardiogenic Shock"
   ],
   "metadata": {
    "collapsed": false,
    "pycharm": {
     "name": "#%% md\n"
    }
   }
  },
  {
   "cell_type": "code",
   "execution_count": null,
   "outputs": [],
   "source": [
    "testModel = mvGen.loadMVDDFromFile('TreeFiles/Hemo_Death')"
   ],
   "metadata": {
    "collapsed": false,
    "pycharm": {
     "name": "#%%\n"
    }
   }
  },
  {
   "cell_type": "code",
   "execution_count": null,
   "outputs": [],
   "source": [
    "hemoCohort = pd.read_csv(\"Data Validation/Cardiogenic Shock/Preprocessed Data/CardiogenicShock_Hemo.csv\", sep=\",\", index_col='ID')\n",
    "deathLabels = hemoCohort['ScoreDeath']\n",
    "\n",
    "hemo = hemoCohort.drop('ScoreDeath', axis=1)\n",
    "hemo = hemo.drop('Score', axis=1)\n",
    "hemo = hemo.drop('ScoreRehosp', axis=1)\n",
    "hemo = hemo.drop('ScoreReadmission', axis=1)\n",
    "hemo = hemo.replace(np.inf, 0)\n",
    "hemo = hemo.fillna(0)\n",
    "\n",
    "#get predicted scores from model\n",
    "performValidation(model=testModel, data=hemo, realScores=deathLabels, aucName='HemoCardShockDeLvTx')"
   ],
   "metadata": {
    "collapsed": false,
    "pycharm": {
     "name": "#%%\n"
    }
   }
  },
  {
   "cell_type": "markdown",
   "source": [
    "### Serial Cardiac"
   ],
   "metadata": {
    "collapsed": false,
    "pycharm": {
     "name": "#%% md\n"
    }
   }
  },
  {
   "cell_type": "code",
   "execution_count": null,
   "outputs": [],
   "source": [
    "testModel = mvGen.loadMVDDFromFile('TreeFiles/Hemo_Death')"
   ],
   "metadata": {
    "collapsed": false,
    "pycharm": {
     "name": "#%%\n"
    }
   }
  },
  {
   "cell_type": "code",
   "execution_count": null,
   "outputs": [],
   "source": [
    "hemoCohort = pd.read_csv(\"Data Validation/Serial Cardiac Caths/Preprocessed Data/SerialCardiac_Hemo.csv\", sep=\",\", index_col='ID')\n",
    "deathLabels = hemoCohort['ScoreDeath']\n",
    "\n",
    "hemo = hemoCohort.drop('ScoreDeath', axis=1)\n",
    "hemo = hemo.drop('Score', axis=1)\n",
    "hemo = hemo.drop('ScoreRehosp', axis=1)\n",
    "hemo = hemo.drop('ScoreReadmission', axis=1)\n",
    "hemo = hemo.replace(np.inf, 0)\n",
    "hemo = hemo.fillna(0)\n",
    "\n",
    "#get predicted scores from model\n",
    "performValidation(model=testModel, data=hemo, realScores=deathLabels, aucName='HemoSerialCardiacDeLvTx')"
   ],
   "metadata": {
    "collapsed": false,
    "pycharm": {
     "name": "#%%\n"
    }
   }
  },
  {
   "cell_type": "markdown",
   "source": [
    "## Label = Rehosp\n"
   ],
   "metadata": {
    "collapsed": false,
    "pycharm": {
     "name": "#%% md\n"
    }
   }
  },
  {
   "cell_type": "markdown",
   "source": [
    "### Cardiogenic Shock"
   ],
   "metadata": {
    "collapsed": false,
    "pycharm": {
     "name": "#%% md\n"
    }
   }
  },
  {
   "cell_type": "code",
   "execution_count": null,
   "outputs": [],
   "source": [
    "testModel = mvGen.loadMVDDFromFile('TreeFiles/Hemo_Rehosp')"
   ],
   "metadata": {
    "collapsed": false,
    "pycharm": {
     "name": "#%%\n"
    }
   }
  },
  {
   "cell_type": "code",
   "execution_count": null,
   "outputs": [],
   "source": [
    "hemoCohort = pd.read_csv(\"Data Validation/Cardiogenic Shock/Preprocessed Data/CardiogenicShock_Hemo.csv\", sep=\",\", index_col='ID')\n",
    "deathLabels = hemoCohort['ScoreRehosp']\n",
    "\n",
    "hemo = hemoCohort.drop('ScoreRehosp', axis=1)\n",
    "hemo = hemo.drop('Score', axis=1)\n",
    "hemo = hemo.drop('ScoreDeath', axis=1)\n",
    "hemo = hemo.drop('ScoreReadmission', axis=1)\n",
    "hemo = hemo.replace(np.inf, 0)\n",
    "hemo = hemo.fillna(0)\n",
    "\n",
    "#get predicted scores from model\n",
    "performValidation(model=testModel, data=hemo, realScores=deathLabels, aucName='HemoCardShockRehosp')"
   ],
   "metadata": {
    "collapsed": false,
    "pycharm": {
     "name": "#%%\n"
    }
   }
  },
  {
   "cell_type": "markdown",
   "source": [
    "### Serial Cardiac"
   ],
   "metadata": {
    "collapsed": false,
    "pycharm": {
     "name": "#%% md\n"
    }
   }
  },
  {
   "cell_type": "code",
   "execution_count": null,
   "outputs": [],
   "source": [
    "testModel = mvGen.loadMVDDFromFile('TreeFiles/Hemo_Rehosp')"
   ],
   "metadata": {
    "collapsed": false,
    "pycharm": {
     "name": "#%%\n"
    }
   }
  },
  {
   "cell_type": "code",
   "execution_count": null,
   "outputs": [],
   "source": [
    "hemoCohort = pd.read_csv(\"Data Validation/Serial Cardiac Caths/Preprocessed Data/SerialCardiac_Hemo.csv\", sep=\",\", index_col='ID')\n",
    "deathLabels = hemoCohort['ScoreRehosp']\n",
    "\n",
    "hemo = hemoCohort.drop('ScoreRehosp', axis=1)\n",
    "hemo = hemo.drop('Score', axis=1)\n",
    "hemo = hemo.drop('ScoreDeath', axis=1)\n",
    "hemo = hemo.drop('ScoreReadmission', axis=1)\n",
    "hemo = hemo.replace(np.inf, 0)\n",
    "hemo = hemo.fillna(0)\n",
    "\n",
    "#get predicted scores from model\n",
    "performValidation(model=testModel, data=hemo, realScores=deathLabels, aucName='HemoSerialCardiacRehosp')"
   ],
   "metadata": {
    "collapsed": false,
    "pycharm": {
     "name": "#%%\n"
    }
   }
  },
  {
   "cell_type": "code",
   "execution_count": null,
   "outputs": [],
   "source": [],
   "metadata": {
    "collapsed": false,
    "pycharm": {
     "name": "#%%\n"
    }
   }
  },
  {
   "cell_type": "markdown",
   "source": [
    "# All Data Model Validation"
   ],
   "metadata": {
    "collapsed": false,
    "pycharm": {
     "name": "#%% md\n"
    }
   }
  },
  {
   "cell_type": "markdown",
   "source": [
    "## Label = Death\n",
    "Note: All Validation Datasets have the death label"
   ],
   "metadata": {
    "collapsed": false,
    "pycharm": {
     "name": "#%% md\n"
    }
   }
  },
  {
   "cell_type": "markdown",
   "source": [
    "### BEST All Data Validation"
   ],
   "metadata": {
    "collapsed": false,
    "pycharm": {
     "name": "#%% md\n"
    }
   }
  },
  {
   "cell_type": "code",
   "execution_count": null,
   "outputs": [],
   "source": [
    "testModel = mvGen.loadMVDDFromFile('TreeFiles/AllData_Death')"
   ],
   "metadata": {
    "collapsed": false,
    "pycharm": {
     "name": "#%%\n"
    }
   }
  },
  {
   "cell_type": "code",
   "execution_count": null,
   "outputs": [],
   "source": [
    "guideAllData = pd.read_csv(\"Data Validation/BEST/Preprocessed Data/BEST_AllData.csv\", sep=\",\", index_col='ID')\n",
    "deathLabels = guideAllData['ScoreDeath']\n",
    "\n",
    "allD = guideAllData.drop('ScoreDeath', axis=1)\n",
    "allD = allD.drop('Score', axis=1)\n",
    "allD = allD.drop('ScoreRehosp', axis=1)\n",
    "allD = allD.drop('ScoreReadmission', axis=1)\n",
    "allD = allD.replace(np.inf, 0)\n",
    "allD = allD.fillna(0)\n",
    "\n",
    "#get predicted scores from model\n",
    "performValidation(model=testModel, data=allD, realScores=deathLabels, aucName='AllDataBestDeLvTx')"
   ],
   "metadata": {
    "collapsed": false,
    "pycharm": {
     "name": "#%%\n"
    }
   }
  },
  {
   "cell_type": "markdown",
   "source": [
    "### GUIDE-IT All Data Validation"
   ],
   "metadata": {
    "collapsed": false,
    "pycharm": {
     "name": "#%% md\n"
    }
   }
  },
  {
   "cell_type": "code",
   "execution_count": null,
   "outputs": [],
   "source": [
    "testModel = mvGen.loadMVDDFromFile('TreeFiles/AllData_Death')"
   ],
   "metadata": {
    "collapsed": false,
    "pycharm": {
     "name": "#%%\n"
    }
   }
  },
  {
   "cell_type": "code",
   "execution_count": null,
   "outputs": [],
   "source": [
    "guideAllData = pd.read_csv(\"Data Validation/GUIDE-IT/Preprocessed Data/GUIDE-IT_AllData.csv\", sep=\",\", index_col='ID')\n",
    "deathLabels = guideAllData['ScoreDeath']\n",
    "\n",
    "allD = guideAllData.drop('ScoreDeath', axis=1)\n",
    "allD = allD.drop('Score', axis=1)\n",
    "allD = allD.drop('ScoreRehosp', axis=1)\n",
    "allD = allD.drop('ScoreReadmission', axis=1)\n",
    "allD = allD.replace(np.inf, 0)\n",
    "allD = allD.fillna(0)\n",
    "\n",
    "#get predicted scores from model\n",
    "performValidation(model=testModel, data=allD, realScores=deathLabels, aucName='AllDataGuideItDeLvTx')"
   ],
   "metadata": {
    "collapsed": false,
    "pycharm": {
     "name": "#%%\n"
    }
   }
  },
  {
   "cell_type": "markdown",
   "source": [
    "### Cardiogenic Shock All Data Validation"
   ],
   "metadata": {
    "collapsed": false,
    "pycharm": {
     "name": "#%% md\n"
    }
   }
  },
  {
   "cell_type": "code",
   "execution_count": null,
   "outputs": [],
   "source": [
    "testModel = mvGen.loadMVDDFromFile('TreeFiles/AllData_Death')"
   ],
   "metadata": {
    "collapsed": false,
    "pycharm": {
     "name": "#%%\n"
    }
   }
  },
  {
   "cell_type": "code",
   "execution_count": null,
   "outputs": [],
   "source": [
    "allDataCohort = pd.read_csv(\"Data Validation/Cardiogenic Shock/Preprocessed Data/CardiogenicShock_AllData.csv\", sep=\",\", index_col='ID')\n",
    "deathLabels = allDataCohort['ScoreDeath']\n",
    "\n",
    "ad = allDataCohort.drop('ScoreDeath', axis=1)\n",
    "ad = ad.drop('Score', axis=1)\n",
    "ad = ad.drop('ScoreRehosp', axis=1)\n",
    "ad = ad.drop('ScoreReadmission', axis=1)\n",
    "ad = ad.replace(np.inf, 0)\n",
    "ad = ad.fillna(0)\n",
    "\n",
    "#get predicted scores from model\n",
    "performValidation(model=testModel, data=ad, realScores=deathLabels, aucName='AllDataCardShockDeLvTx')"
   ],
   "metadata": {
    "collapsed": false,
    "pycharm": {
     "name": "#%%\n"
    }
   }
  },
  {
   "cell_type": "markdown",
   "source": [
    "### Serial Cardiac All Data Validation"
   ],
   "metadata": {
    "collapsed": false,
    "pycharm": {
     "name": "#%% md\n"
    }
   }
  },
  {
   "cell_type": "code",
   "execution_count": null,
   "outputs": [],
   "source": [
    "testModel = mvGen.loadMVDDFromFile('TreeFiles/AllData_Death')"
   ],
   "metadata": {
    "collapsed": false,
    "pycharm": {
     "name": "#%%\n"
    }
   }
  },
  {
   "cell_type": "code",
   "execution_count": null,
   "outputs": [],
   "source": [
    "allDataCohort = pd.read_csv(\"Data Validation/Serial Cardiac Caths/Preprocessed Data/SerialCardiac_AllData.csv\", sep=\",\", index_col='ID')\n",
    "deathLabels = allDataCohort['ScoreDeath']\n",
    "\n",
    "ad = allDataCohort.drop('ScoreDeath', axis=1)\n",
    "ad = ad.drop('Score', axis=1)\n",
    "ad = ad.drop('ScoreRehosp', axis=1)\n",
    "ad = ad.drop('ScoreReadmission', axis=1)\n",
    "ad = ad.replace(np.inf, 0)\n",
    "ad = ad.fillna(0)\n",
    "\n",
    "#get predicted scores from model\n",
    "performValidation(model=testModel, data=ad, realScores=deathLabels, aucName='AllDataSerialCardiacDeLvTx')"
   ],
   "metadata": {
    "collapsed": false,
    "pycharm": {
     "name": "#%%\n"
    }
   }
  },
  {
   "cell_type": "markdown",
   "source": [
    "## Label = Rehospitalization\n",
    "Note: Only HF-ACTION, BEST and GUIDE-IT have rehosp"
   ],
   "metadata": {
    "collapsed": false,
    "pycharm": {
     "name": "#%% md\n"
    }
   }
  },
  {
   "cell_type": "markdown",
   "source": [
    "### BEST All Data Validation"
   ],
   "metadata": {
    "collapsed": false,
    "pycharm": {
     "name": "#%% md\n"
    }
   }
  },
  {
   "cell_type": "code",
   "execution_count": null,
   "outputs": [],
   "source": [
    "testModel = mvGen.loadMVDDFromFile('TreeFiles/AllData_Rehosp')"
   ],
   "metadata": {
    "collapsed": false,
    "pycharm": {
     "name": "#%%\n"
    }
   }
  },
  {
   "cell_type": "code",
   "execution_count": null,
   "outputs": [],
   "source": [
    "guideAllData = pd.read_csv(\"Data Validation/BEST/Preprocessed Data/BEST_AllData.csv\", sep=\",\", index_col='ID')\n",
    "labels = guideAllData['ScoreRehosp']\n",
    "\n",
    "allD = guideAllData.drop('ScoreDeath', axis=1)\n",
    "allD = allD.drop('Score', axis=1)\n",
    "allD = allD.drop('ScoreRehosp', axis=1)\n",
    "allD = allD.drop('ScoreReadmission', axis=1)\n",
    "allD = allD.replace(np.inf, 0)\n",
    "allD = allD.fillna(0)\n",
    "\n",
    "#get predicted scores from model\n",
    "performValidation(model=testModel, data=allD, realScores=labels, aucName='AllDataBestRehosp')"
   ],
   "metadata": {
    "collapsed": false,
    "pycharm": {
     "name": "#%%\n"
    }
   }
  },
  {
   "cell_type": "markdown",
   "source": [
    "### GUIDE-IT All Data Validation"
   ],
   "metadata": {
    "collapsed": false,
    "pycharm": {
     "name": "#%% md\n"
    }
   }
  },
  {
   "cell_type": "code",
   "execution_count": null,
   "outputs": [],
   "source": [
    "testModel = mvGen.loadMVDDFromFile('TreeFiles/AllData_Rehosp')"
   ],
   "metadata": {
    "collapsed": false,
    "pycharm": {
     "name": "#%%\n"
    }
   }
  },
  {
   "cell_type": "code",
   "execution_count": null,
   "outputs": [],
   "source": [
    "guideAllData = pd.read_csv(\"Data Validation/GUIDE-IT/Preprocessed Data/GUIDE-IT_AllData.csv\", sep=\",\", index_col='ID')\n",
    "labels = guideAllData['ScoreRehosp']\n",
    "\n",
    "allD = guideAllData.drop('ScoreDeath', axis=1)\n",
    "allD = allD.drop('Score', axis=1)\n",
    "allD = allD.drop('ScoreRehosp', axis=1)\n",
    "allD = allD.drop('ScoreReadmission', axis=1)\n",
    "allD = allD.replace(np.inf, 0)\n",
    "allD = allD.fillna(0)\n",
    "\n",
    "#get predicted scores from model\n",
    "performValidation(model=testModel, data=allD, realScores=labels, aucName='AllDataGuideItRehosp')"
   ],
   "metadata": {
    "collapsed": false,
    "pycharm": {
     "name": "#%%\n"
    }
   }
  },
  {
   "cell_type": "markdown",
   "source": [
    "### Cardiogenic Shock All Data Validation"
   ],
   "metadata": {
    "collapsed": false,
    "pycharm": {
     "name": "#%% md\n"
    }
   }
  },
  {
   "cell_type": "code",
   "execution_count": null,
   "outputs": [],
   "source": [
    "testModel = mvGen.loadMVDDFromFile('TreeFiles/AllData_Rehosp')"
   ],
   "metadata": {
    "collapsed": false,
    "pycharm": {
     "name": "#%%\n"
    }
   }
  },
  {
   "cell_type": "code",
   "execution_count": null,
   "outputs": [],
   "source": [
    "allDataCohort = pd.read_csv(\"Data Validation/Cardiogenic Shock/Preprocessed Data/CardiogenicShock_AllData.csv\", sep=\",\", index_col='ID')\n",
    "deathLabels = allDataCohort['ScoreDeath']\n",
    "\n",
    "ad = allDataCohort.drop('ScoreRehosp', axis=1)\n",
    "ad = ad.drop('Score', axis=1)\n",
    "ad = ad.drop('ScoreDeath', axis=1)\n",
    "ad = ad.drop('ScoreReadmission', axis=1)\n",
    "ad = ad.replace(np.inf, 0)\n",
    "ad = ad.fillna(0)\n",
    "\n",
    "#get predicted scores from model\n",
    "performValidation(model=testModel, data=ad, realScores=deathLabels, aucName='AllDataCardShockRehosp')"
   ],
   "metadata": {
    "collapsed": false,
    "pycharm": {
     "name": "#%%\n"
    }
   }
  },
  {
   "cell_type": "markdown",
   "source": [
    "### Serial Cardiac All Data Validation"
   ],
   "metadata": {
    "collapsed": false,
    "pycharm": {
     "name": "#%% md\n"
    }
   }
  },
  {
   "cell_type": "code",
   "execution_count": null,
   "outputs": [],
   "source": [
    "testModel = mvGen.loadMVDDFromFile('TreeFiles/AllData_Rehosp')"
   ],
   "metadata": {
    "collapsed": false,
    "pycharm": {
     "name": "#%%\n"
    }
   }
  },
  {
   "cell_type": "code",
   "execution_count": null,
   "outputs": [],
   "source": [
    "allDataCohort = pd.read_csv(\"Data Validation/Serial Cardiac Caths/Preprocessed Data/SerialCardiac_AllData.csv\", sep=\",\", index_col='ID')\n",
    "deathLabels = allDataCohort['ScoreRehosp']\n",
    "\n",
    "ad = allDataCohort.drop('ScoreRehosp', axis=1)\n",
    "ad = ad.drop('Score', axis=1)\n",
    "ad = ad.drop('ScoreDeath', axis=1)\n",
    "ad = ad.drop('ScoreReadmission', axis=1)\n",
    "ad = ad.replace(np.inf, 0)\n",
    "ad = ad.fillna(0)\n",
    "\n",
    "#get predicted scores from model\n",
    "performValidation(model=testModel, data=ad, realScores=deathLabels, aucName='AllDataSerialCardiacRehosp')"
   ],
   "metadata": {
    "collapsed": false,
    "pycharm": {
     "name": "#%%\n"
    }
   }
  },
  {
   "cell_type": "code",
   "execution_count": null,
   "outputs": [],
   "source": [],
   "metadata": {
    "collapsed": false,
    "pycharm": {
     "name": "#%%\n"
    }
   }
  },
  {
   "cell_type": "code",
   "execution_count": null,
   "outputs": [],
   "source": [],
   "metadata": {
    "collapsed": false,
    "pycharm": {
     "name": "#%%\n"
    }
   }
  },
  {
   "cell_type": "code",
   "execution_count": null,
   "metadata": {
    "pycharm": {
     "is_executing": true
    }
   },
   "outputs": [],
   "source": []
  },
  {
   "cell_type": "code",
   "execution_count": null,
   "metadata": {},
   "outputs": [],
   "source": []
  },
  {
   "cell_type": "code",
   "execution_count": null,
   "metadata": {},
   "outputs": [],
   "source": []
  },
  {
   "cell_type": "code",
   "execution_count": null,
   "metadata": {},
   "outputs": [],
   "source": []
  },
  {
   "cell_type": "code",
   "execution_count": null,
   "metadata": {},
   "outputs": [],
   "source": []
  }
 ],
 "metadata": {
  "kernelspec": {
   "display_name": "Python 3 (ipykernel)",
   "language": "python",
   "name": "python3"
  },
  "language_info": {
   "codemirror_mode": {
    "name": "ipython",
    "version": 3
   },
   "file_extension": ".py",
   "mimetype": "text/x-python",
   "name": "python",
   "nbconvert_exporter": "python",
   "pygments_lexer": "ipython3",
   "version": "3.8.9"
  }
 },
 "nbformat": 4,
 "nbformat_minor": 4
}