{
 "cells": [
  {
   "cell_type": "code",
   "execution_count": 1,
   "metadata": {},
   "outputs": [],
   "source": [
    "#Import packages\n",
    "import pandas as pd\n",
    "import numpy as np\n",
    "import matplotlib.pyplot as plt\n",
    "import seaborn as sns\n",
    "import copy\n",
    "import warnings\n",
    "\n",
    "plt.rc('font', size=12)\n",
    "warnings.filterwarnings('ignore')"
   ]
  },
  {
   "cell_type": "code",
   "execution_count": 2,
   "metadata": {},
   "outputs": [],
   "source": [
    "#Load ESCAPE training data\n",
    "escapeAllData = pd.read_csv(\"Data/Original DataFrames/AllDataSingleValue.csv\", sep=\",\", index_col='DEIDNUM').sort_index() #all feature dataset\n",
    "escapeHemo = pd.read_csv(\"Data/Original DataFrames/HemoSingleValue.csv\", sep=\",\", index_col='DEIDNUM').sort_index() #dataset with only hemodynamics\n",
    "escapeLabels  = pd.read_csv(\"Data/Original DataFrames/Labels.csv\", sep=\",\", index_col='DEIDNUM').sort_index() #labels for prediction classes \n",
    "escapeHemoLabels = escapeLabels[escapeLabels.index.isin(escapeHemo.index)]\n",
    "\n",
    "#Cardiogenic Shock\n",
    "cardShockHemo = pd.read_csv(\"Data Validation/Cardiogenic Shock/Original DataFrames/HemoCardiogenicShock.csv\", sep=\",\", index_col='ID').sort_index()\n",
    "cardShockAllData = pd.read_csv(\"Data Validation/Cardiogenic Shock/Original DataFrames/AllDataCardiogenicShock.csv\", sep=\",\", index_col='ID').sort_index()\n",
    "cardShockHemoLabels = pd.read_csv(\"Data Validation/Cardiogenic Shock/Original DataFrames/HemoLabelsCardiogenicShock.csv\", sep=\",\", index_col='ID').sort_index()\n",
    "cardShockLabels = pd.read_csv(\"Data Validation/Cardiogenic Shock/Original DataFrames/LabelsCardiogenicShock.csv\", sep=\",\", index_col='ID').sort_index()\n",
    "\n",
    "#Serial Cardiac\n",
    "serialHemo = pd.read_csv(\"Data Validation/Serial Cardiac Caths/Original DataFrames/HemoSerialCardiac.csv\", sep=\",\", index_col='ID').sort_index()\n",
    "serialAllData = pd.read_csv(\"Data Validation/Serial Cardiac Caths/Original DataFrames/AllDataSerialCardiac.csv\", sep=\",\", index_col='ID').sort_index()\n",
    "serialHemoLabels = pd.read_csv(\"Data Validation/Serial Cardiac Caths/Original DataFrames/HemoLabelsSerialCardiac.csv\", sep=\",\", index_col='ID').sort_index()\n",
    "serialLabels = pd.read_csv(\"Data Validation/Serial Cardiac Caths/Original DataFrames/LabelsSerialCardiac.csv\", sep=\",\", index_col='ID').sort_index()\n",
    "\n",
    "#HF-ACTION\n",
    "hfactionAllData = pd.read_csv(\"Data Validation/HF-ACTION/Original DataFrames/AllDataHF-ACTION.csv\", sep=\",\", index_col='ID').sort_index()\n",
    "hfactionLabels = pd.read_csv(\"Data Validation/HF-ACTION/Original DataFrames/LabelsHF-ACTION.csv\", sep=\",\", index_col='ID').sort_index()\n",
    "\n",
    "#BEST\n",
    "bestAllData = pd.read_csv(\"Data Validation/BEST/Original DataFrames/AllDataBEST.csv\", sep=\",\", index_col='ID').sort_index()\n",
    "bestLabels = pd.read_csv(\"Data Validation/BEST/Original DataFrames/LabelsBEST.csv\", sep=\",\", index_col='ID').sort_index()\n",
    "\n",
    "#Guide it\n",
    "guideAllData = pd.read_csv(\"Data Validation/GUIDE-IT/Original DataFrames/AllDataGUIDE-IT.csv\", sep=\",\", index_col='ID').sort_index()\n",
    "guideLabels = pd.read_csv(\"Data Validation/GUIDE-IT/Original DataFrames/LabelsGUIDE-IT.csv\", sep=\",\", index_col='ID').sort_index()\n"
   ]
  },
  {
   "cell_type": "code",
   "execution_count": 3,
   "metadata": {},
   "outputs": [
    {
     "data": {
      "text/html": [
       "<div>\n",
       "<style scoped>\n",
       "    .dataframe tbody tr th:only-of-type {\n",
       "        vertical-align: middle;\n",
       "    }\n",
       "\n",
       "    .dataframe tbody tr th {\n",
       "        vertical-align: top;\n",
       "    }\n",
       "\n",
       "    .dataframe thead th {\n",
       "        text-align: right;\n",
       "    }\n",
       "</style>\n",
       "<table border=\"1\" class=\"dataframe\">\n",
       "  <thead>\n",
       "    <tr style=\"text-align: right;\">\n",
       "      <th></th>\n",
       "      <th>ESCAPE</th>\n",
       "      <th>HF-ACTION</th>\n",
       "      <th>BEST</th>\n",
       "      <th>GUIDE-IT</th>\n",
       "      <th>UVA Cardiogenic Shock</th>\n",
       "      <th>UVA Serial Cath</th>\n",
       "    </tr>\n",
       "  </thead>\n",
       "  <tbody>\n",
       "    <tr>\n",
       "      <th>n</th>\n",
       "      <td>433</td>\n",
       "      <td>2130</td>\n",
       "      <td>2707</td>\n",
       "      <td>894</td>\n",
       "      <td>364</td>\n",
       "      <td>183</td>\n",
       "    </tr>\n",
       "    <tr>\n",
       "      <th>Age (years)</th>\n",
       "      <td>56.1±13.9</td>\n",
       "      <td>58.6±12.7</td>\n",
       "      <td>60.2±12.3</td>\n",
       "      <td>61.5±13.9</td>\n",
       "      <td>59.4±18.5</td>\n",
       "      <td>60.6±15.1</td>\n",
       "    </tr>\n",
       "    <tr>\n",
       "      <th>Gender (%, female)</th>\n",
       "      <td>25.9</td>\n",
       "      <td>28.1</td>\n",
       "      <td>21.9</td>\n",
       "      <td>68</td>\n",
       "      <td>35.2</td>\n",
       "      <td>43.2</td>\n",
       "    </tr>\n",
       "    <tr>\n",
       "      <th>Race (%, white[minority])</th>\n",
       "      <td>59.6[40.4]</td>\n",
       "      <td>62.1[37.9]</td>\n",
       "      <td>70.0[30.0]</td>\n",
       "      <td>54.8[45.2]</td>\n",
       "      <td>N/A</td>\n",
       "      <td>N/A</td>\n",
       "    </tr>\n",
       "    <tr>\n",
       "      <th>BMI</th>\n",
       "      <td>28.4±6.7</td>\n",
       "      <td>31.0±7.1</td>\n",
       "      <td>0.0±0.0</td>\n",
       "      <td>14.9±16.2</td>\n",
       "      <td>29.8±8.8</td>\n",
       "      <td>47.3±286.9</td>\n",
       "    </tr>\n",
       "    <tr>\n",
       "      <th>EF</th>\n",
       "      <td>19.3±6.6</td>\n",
       "      <td>25.4±7.4</td>\n",
       "      <td>23.0±7.3</td>\n",
       "      <td>24.1±8.2</td>\n",
       "      <td>31.7±17.4</td>\n",
       "      <td>31.3±18.0</td>\n",
       "    </tr>\n",
       "    <tr>\n",
       "      <th>HR</th>\n",
       "      <td>80.8±14.9</td>\n",
       "      <td>0.0±0.0</td>\n",
       "      <td>0.0±0.0</td>\n",
       "      <td>0.0±0.0</td>\n",
       "      <td>0.0±0.0</td>\n",
       "      <td>0.0±0.0</td>\n",
       "    </tr>\n",
       "    <tr>\n",
       "      <th>BPSYS</th>\n",
       "      <td>103.7±15.8</td>\n",
       "      <td>113.8±18.3</td>\n",
       "      <td>118.5±19.4</td>\n",
       "      <td>115.9±19.7</td>\n",
       "      <td>111.1±21.9</td>\n",
       "      <td>109.1±21.4</td>\n",
       "    </tr>\n",
       "    <tr>\n",
       "      <th>BPDIAS</th>\n",
       "      <td>64.1±11.5</td>\n",
       "      <td>70.2±11.3</td>\n",
       "      <td>71.9±11.7</td>\n",
       "      <td>70.9±13.7</td>\n",
       "      <td>62.2±15.5</td>\n",
       "      <td>59.9±17.2</td>\n",
       "    </tr>\n",
       "    <tr>\n",
       "      <th>CRT</th>\n",
       "      <td>6.7±34.0</td>\n",
       "      <td>2.5±37.4</td>\n",
       "      <td>1.2±0.4</td>\n",
       "      <td>1.5±0.6</td>\n",
       "      <td>1.7±1.3</td>\n",
       "      <td>1.7±1.0</td>\n",
       "    </tr>\n",
       "    <tr>\n",
       "      <th>POT</th>\n",
       "      <td>4.3±0.6</td>\n",
       "      <td>0.0±0.0</td>\n",
       "      <td>4.3±0.5</td>\n",
       "      <td>4.4±0.6</td>\n",
       "      <td>0.0±0.0</td>\n",
       "      <td>0.0±0.0</td>\n",
       "    </tr>\n",
       "    <tr>\n",
       "      <th>BUN</th>\n",
       "      <td>36.3±22.5</td>\n",
       "      <td>24.9±27.9</td>\n",
       "      <td>24.6±15.3</td>\n",
       "      <td>26.5±19.7</td>\n",
       "      <td>34.9±24.2</td>\n",
       "      <td>39.1±25.7</td>\n",
       "    </tr>\n",
       "    <tr>\n",
       "      <th>SOD</th>\n",
       "      <td>136.0±4.4</td>\n",
       "      <td>0.0±0.0</td>\n",
       "      <td>138.9±3.4</td>\n",
       "      <td>138.4±3.6</td>\n",
       "      <td>136.9±5.1</td>\n",
       "      <td>135.7±5.2</td>\n",
       "    </tr>\n",
       "    <tr>\n",
       "      <th>Death</th>\n",
       "      <td>0.27</td>\n",
       "      <td>0.16</td>\n",
       "      <td>0.32</td>\n",
       "      <td>0.17</td>\n",
       "      <td>0.57</td>\n",
       "      <td>0.42</td>\n",
       "    </tr>\n",
       "    <tr>\n",
       "      <th>Rehosp</th>\n",
       "      <td>0.57</td>\n",
       "      <td>0.12</td>\n",
       "      <td>0.63</td>\n",
       "      <td>0.41</td>\n",
       "      <td>N/A</td>\n",
       "      <td>N/A</td>\n",
       "    </tr>\n",
       "    <tr>\n",
       "      <th>Readm</th>\n",
       "      <td>0.18</td>\n",
       "      <td>0.03</td>\n",
       "      <td>N/A</td>\n",
       "      <td>N/A</td>\n",
       "      <td>N/A</td>\n",
       "      <td>N/A</td>\n",
       "    </tr>\n",
       "  </tbody>\n",
       "</table>\n",
       "</div>"
      ],
      "text/plain": [
       "                               ESCAPE   HF-ACTION        BEST    GUIDE-IT  \\\n",
       "n                                 433        2130        2707         894   \n",
       "Age (years)                 56.1±13.9   58.6±12.7   60.2±12.3   61.5±13.9   \n",
       "Gender (%, female)               25.9        28.1        21.9          68   \n",
       "Race (%, white[minority])  59.6[40.4]  62.1[37.9]  70.0[30.0]  54.8[45.2]   \n",
       "BMI                          28.4±6.7    31.0±7.1     0.0±0.0   14.9±16.2   \n",
       "EF                           19.3±6.6    25.4±7.4    23.0±7.3    24.1±8.2   \n",
       "HR                          80.8±14.9     0.0±0.0     0.0±0.0     0.0±0.0   \n",
       "BPSYS                      103.7±15.8  113.8±18.3  118.5±19.4  115.9±19.7   \n",
       "BPDIAS                      64.1±11.5   70.2±11.3   71.9±11.7   70.9±13.7   \n",
       "CRT                          6.7±34.0    2.5±37.4     1.2±0.4     1.5±0.6   \n",
       "POT                           4.3±0.6     0.0±0.0     4.3±0.5     4.4±0.6   \n",
       "BUN                         36.3±22.5   24.9±27.9   24.6±15.3   26.5±19.7   \n",
       "SOD                         136.0±4.4     0.0±0.0   138.9±3.4   138.4±3.6   \n",
       "Death                            0.27        0.16        0.32        0.17   \n",
       "Rehosp                           0.57        0.12        0.63        0.41   \n",
       "Readm                            0.18        0.03         N/A         N/A   \n",
       "\n",
       "                          UVA Cardiogenic Shock UVA Serial Cath  \n",
       "n                                           364             183  \n",
       "Age (years)                           59.4±18.5       60.6±15.1  \n",
       "Gender (%, female)                         35.2            43.2  \n",
       "Race (%, white[minority])                   N/A             N/A  \n",
       "BMI                                    29.8±8.8      47.3±286.9  \n",
       "EF                                    31.7±17.4       31.3±18.0  \n",
       "HR                                      0.0±0.0         0.0±0.0  \n",
       "BPSYS                                111.1±21.9      109.1±21.4  \n",
       "BPDIAS                                62.2±15.5       59.9±17.2  \n",
       "CRT                                     1.7±1.3         1.7±1.0  \n",
       "POT                                     0.0±0.0         0.0±0.0  \n",
       "BUN                                   34.9±24.2       39.1±25.7  \n",
       "SOD                                   136.9±5.1       135.7±5.2  \n",
       "Death                                      0.57            0.42  \n",
       "Rehosp                                      N/A             N/A  \n",
       "Readm                                       N/A             N/A  "
      ]
     },
     "execution_count": 3,
     "metadata": {},
     "output_type": "execute_result"
    }
   ],
   "source": [
    "datasets = [escapeAllData, hfactionAllData]\n",
    "labels = [escapeLabels, hfactionLabels]\n",
    "\n",
    "bigLst = []\n",
    "\n",
    "lst = [\"n\"]\n",
    "for d in labels:\n",
    "    lst.append(len(d))\n",
    "bigLst.append(lst)\n",
    "\n",
    "def getStats(data, labels):\n",
    "    lst = []\n",
    "    \n",
    "    lst.append(len(labels))\n",
    "\n",
    "    if len(data) == len(labels) * 2:\n",
    "        lst.append(str(round(data.describe()['Age'][1],1)) + \"±\" + str(round(data.describe()['Age'][2],1)))\n",
    "        gen = data['Gender'].value_counts()/2/len(labels)\n",
    "        lst.append(round(gen[2.0]*100,1))\n",
    "        gen = data['Race'].value_counts()/2/len(labels)\n",
    "        lst.append(str(round(gen[1.0]*100,1))+\"[\" + str(round(gen[2.0]*100,1))+\"]\")\n",
    "        lst.append(str(round(data.describe()['BMI'][1],1)) + \"±\" + str(round(data.describe()['BMI'][2],1)))\n",
    "        lst.append(str(round(data.describe()['EjF'][1],1)) + \"±\" + str(round(data.describe()['EjF'][2],1)))\n",
    "        lst.append(str(round(data.describe()['HR'][1],1)) + \"±\" + str(round(data.describe()['HR'][2],1)))\n",
    "        lst.append(str(round(data.describe()['BPSYS'][1],1)) + \"±\" + str(round(data.describe()['BPSYS'][2],1)))\n",
    "        lst.append(str(round(data.describe()['BPDIAS'][1],1)) + \"±\" + str(round(data.describe()['BPDIAS'][2],1)))\n",
    "        \n",
    "        lst.append(str(round(data.describe()['CRT'][1],1)) + \"±\" + str(round(data.describe()['CRT'][2],1)))\n",
    "        lst.append(str(round(data.describe()['POT'][1],1)) + \"±\" + str(round(data.describe()['POT'][2],1)))\n",
    "        lst.append(str(round(data.describe()['BUN'][1],1)) + \"±\" + str(round(data.describe()['BUN'][2],1)))\n",
    "        lst.append(str(round(data.describe()['SOD'][1],1)) + \"±\" + str(round(data.describe()['SOD'][2],1)))\n",
    "\n",
    "        \n",
    "    else:\n",
    "        lst.append(str(round(data.describe()['Age'][1],1)) + \"±\" + str(round(data.describe()['Age'][2],1)))\n",
    "        gen = data['Gender'].value_counts()/len(labels)\n",
    "        lst.append(round(gen[2.0]*100,1))\n",
    "        gen = data['Race'].value_counts()/len(labels)\n",
    "        lst.append(str(round(gen[1.0]*100,1))+\"[\" + str(round(gen[2.0]*100,1))+\"]\")\n",
    "        lst.append(str(round(data.describe()['BMI'][1],1)) + \"±\" + str(round(data.describe()['BMI'][2],1)))\n",
    "        lst.append(str(round(data.describe()['EjF'][1],1)) + \"±\" + str(round(data.describe()['EjF'][2],1)))\n",
    "        lst.append(str(round(data.describe()['HR'][1],1)) + \"±\" + str(round(data.describe()['HR'][2],1)))\n",
    "        lst.append(str(round(data.describe()['BPSYS'][1],1)) + \"±\" + str(round(data.describe()['BPSYS'][2],1)))\n",
    "        lst.append(str(round(data.describe()['BPDIAS'][1],1)) + \"±\" + str(round(data.describe()['BPDIAS'][2],1)))\n",
    "        \n",
    "        lst.append(str(round(data.describe()['CRT'][1],1)) + \"±\" + str(round(data.describe()['CRT'][2],1)))\n",
    "        lst.append(str(round(data.describe()['POT'][1],1)) + \"±\" + str(round(data.describe()['POT'][2],1)))\n",
    "        lst.append(str(round(data.describe()['BUN'][1],1)) + \"±\" + str(round(data.describe()['BUN'][2],1)))\n",
    "        lst.append(str(round(data.describe()['SOD'][1],1)) + \"±\" + str(round(data.describe()['SOD'][2],1)))\n",
    "\n",
    "\n",
    "\n",
    "\n",
    "    lst.append(round(sum(labels['Death']) / len(labels),2))\n",
    "    try:\n",
    "        lst.append(round(sum(labels['Rehosp']) / len(labels),2))\n",
    "    except:\n",
    "        lst.append(\"N/A\")\n",
    "    try:\n",
    "        lst.append(round(sum(labels['Readmission']) / len(labels),2))\n",
    "    except:\n",
    "        lst.append(\"N/A\")\n",
    "        \n",
    "        \n",
    "\n",
    "    return lst\n",
    "\n",
    "def getStatsCath(data, labels):\n",
    "    lst = []\n",
    "    lst.append(len(labels))\n",
    "    lst.append(str(round(data.describe()['Age'][1],1)) + \"±\" + str(round(data.describe()['Age'][2],1)))\n",
    "    gen = data['Gender'].value_counts()/3/len(labels)\n",
    "    lst.append(round(gen[2.0]*100,1))\n",
    "    lst.append(\"N/A\") #Race\n",
    "    lst.append(str(round(data.describe()['BMI'][1],1)) + \"±\" + str(round(data.describe()['BMI'][2],1)))\n",
    "    lst.append(str(round(data.describe()['EjF'][1],1)) + \"±\" + str(round(data.describe()['EjF'][2],1)))\n",
    "    lst.append(str(round(data.describe()['HR'][1],1)) + \"±\" + str(round(data.describe()['HR'][2],1)))\n",
    "    lst.append(str(round(data.describe()['BPSYS'][1],1)) + \"±\" + str(round(data.describe()['BPSYS'][2],1)))\n",
    "    lst.append(str(round(data.describe()['BPDIAS'][1],1)) + \"±\" + str(round(data.describe()['BPDIAS'][2],1)))\n",
    "    \n",
    "    lst.append(str(round(data.describe()['CRT'][1],1)) + \"±\" + str(round(data.describe()['CRT'][2],1)))\n",
    "    lst.append(str(round(data.describe()['POT'][1],1)) + \"±\" + str(round(data.describe()['POT'][2],1)))\n",
    "    lst.append(str(round(data.describe()['BUN'][1],1)) + \"±\" + str(round(data.describe()['BUN'][2],1)))\n",
    "    lst.append(str(round(data.describe()['SOD'][1],1)) + \"±\" + str(round(data.describe()['SOD'][2],1)))\n",
    "\n",
    "\n",
    "    lst.append(round(sum(labels['Death']) / len(labels),2))\n",
    "    lst.append(\"N/A\")\n",
    "    lst.append(\"N/A\")\n",
    "        \n",
    "    return lst\n",
    "    \n",
    "\n",
    "df = pd.DataFrame(index=[\"n\", \"Age (years)\", \"Gender (%, female)\", \"Race (%, white[minority])\", \"BMI\", \"EF\", \"HR\", \"BPSYS\", \"BPDIAS\", \"CRT\", \"POT\", \"BUN\", \"SOD\", \"Death\", \"Rehosp\", \"Readm\"])\n",
    "df['ESCAPE'] = getStats(escapeAllData, escapeLabels)\n",
    "df['HF-ACTION'] = getStats(hfactionAllData, hfactionLabels)\n",
    "df['BEST'] = getStats(bestAllData, bestLabels)\n",
    "df['GUIDE-IT'] = getStats(guideAllData, guideLabels)\n",
    "df['UVA Cardiogenic Shock'] = getStatsCath(cardShockAllData, cardShockLabels)\n",
    "df['UVA Serial Cath'] = getStatsCath(serialAllData, serialLabels)\n",
    "\n",
    "\n",
    "# df = pd.DataFrame(bigLst, columns=['idx','ESCAPE', 'HF-ACTION']).set_index(\"idx\")\n",
    "df"
   ]
  },
  {
   "cell_type": "code",
   "execution_count": 4,
   "metadata": {},
   "outputs": [
    {
     "data": {
      "text/html": [
       "<div>\n",
       "<style scoped>\n",
       "    .dataframe tbody tr th:only-of-type {\n",
       "        vertical-align: middle;\n",
       "    }\n",
       "\n",
       "    .dataframe tbody tr th {\n",
       "        vertical-align: top;\n",
       "    }\n",
       "\n",
       "    .dataframe thead th {\n",
       "        text-align: right;\n",
       "    }\n",
       "</style>\n",
       "<table border=\"1\" class=\"dataframe\">\n",
       "  <thead>\n",
       "    <tr style=\"text-align: right;\">\n",
       "      <th></th>\n",
       "      <th>Death</th>\n",
       "    </tr>\n",
       "    <tr>\n",
       "      <th>ID</th>\n",
       "      <th></th>\n",
       "    </tr>\n",
       "  </thead>\n",
       "  <tbody>\n",
       "    <tr>\n",
       "      <th>Z103426</th>\n",
       "      <td>0</td>\n",
       "    </tr>\n",
       "    <tr>\n",
       "      <th>Z103697</th>\n",
       "      <td>0</td>\n",
       "    </tr>\n",
       "    <tr>\n",
       "      <th>Z1050590</th>\n",
       "      <td>0</td>\n",
       "    </tr>\n",
       "    <tr>\n",
       "      <th>Z1058186</th>\n",
       "      <td>1</td>\n",
       "    </tr>\n",
       "    <tr>\n",
       "      <th>Z1059364</th>\n",
       "      <td>0</td>\n",
       "    </tr>\n",
       "    <tr>\n",
       "      <th>...</th>\n",
       "      <td>...</td>\n",
       "    </tr>\n",
       "    <tr>\n",
       "      <th>Z93479</th>\n",
       "      <td>1</td>\n",
       "    </tr>\n",
       "    <tr>\n",
       "      <th>Z93572</th>\n",
       "      <td>1</td>\n",
       "    </tr>\n",
       "    <tr>\n",
       "      <th>Z937913</th>\n",
       "      <td>0</td>\n",
       "    </tr>\n",
       "    <tr>\n",
       "      <th>Z958018</th>\n",
       "      <td>0</td>\n",
       "    </tr>\n",
       "    <tr>\n",
       "      <th>Z98220</th>\n",
       "      <td>0</td>\n",
       "    </tr>\n",
       "  </tbody>\n",
       "</table>\n",
       "<p>183 rows × 1 columns</p>\n",
       "</div>"
      ],
      "text/plain": [
       "          Death\n",
       "ID             \n",
       "Z103426       0\n",
       "Z103697       0\n",
       "Z1050590      0\n",
       "Z1058186      1\n",
       "Z1059364      0\n",
       "...         ...\n",
       "Z93479        1\n",
       "Z93572        1\n",
       "Z937913       0\n",
       "Z958018       0\n",
       "Z98220        0\n",
       "\n",
       "[183 rows x 1 columns]"
      ]
     },
     "execution_count": 4,
     "metadata": {},
     "output_type": "execute_result"
    }
   ],
   "source": [
    "serialLabels"
   ]
  },
  {
   "cell_type": "code",
   "execution_count": 5,
   "metadata": {},
   "outputs": [
    {
     "data": {
      "text/plain": [
       "Age         0.00\n",
       "Gender      0.00\n",
       "Race        0.00\n",
       "Wt          5.77\n",
       "BMI         7.97\n",
       "           ...  \n",
       "PV         25.17\n",
       "MAP         3.70\n",
       "PP          3.70\n",
       "PPP         3.70\n",
       "PPRatio     4.16\n",
       "Length: 66, dtype: float64"
      ]
     },
     "execution_count": 5,
     "metadata": {},
     "output_type": "execute_result"
    }
   ],
   "source": [
    "# Get percent missing\n",
    "escapeAllData.isna().mean().round(4) * 100"
   ]
  },
  {
   "cell_type": "code",
   "execution_count": 6,
   "metadata": {},
   "outputs": [
    {
     "data": {
      "text/plain": [
       "7.7787108964938065"
      ]
     },
     "execution_count": 6,
     "metadata": {},
     "output_type": "execute_result"
    }
   ],
   "source": [
    "misData = escapeAllData\n",
    "sum(misData.isnull().sum()) / (misData.shape[0] * misData.shape[1]) * 100"
   ]
  },
  {
   "cell_type": "code",
   "execution_count": 7,
   "metadata": {},
   "outputs": [
    {
     "data": {
      "text/plain": [
       "7.330131920295854"
      ]
     },
     "execution_count": 7,
     "metadata": {},
     "output_type": "execute_result"
    }
   ],
   "source": [
    "misData = serialAllData\n",
    "sum(misData.isnull().sum()) / (misData.shape[0] * misData.shape[1]) * 100"
   ]
  },
  {
   "cell_type": "code",
   "execution_count": 8,
   "metadata": {},
   "outputs": [
    {
     "data": {
      "text/plain": [
       "12.03861927546138"
      ]
     },
     "execution_count": 8,
     "metadata": {},
     "output_type": "execute_result"
    }
   ],
   "source": [
    "misData = escapeHemo\n",
    "sum(misData.isnull().sum()) / (misData.shape[0] * misData.shape[1]) * 100"
   ]
  },
  {
   "cell_type": "code",
   "execution_count": 9,
   "metadata": {},
   "outputs": [
    {
     "data": {
      "text/plain": [
       "5.858395989974937"
      ]
     },
     "execution_count": 9,
     "metadata": {},
     "output_type": "execute_result"
    }
   ],
   "source": [
    "misData = cardShockHemo\n",
    "sum(misData.isnull().sum()) / (misData.shape[0] * misData.shape[1]) * 100"
   ]
  },
  {
   "cell_type": "code",
   "execution_count": 10,
   "metadata": {},
   "outputs": [
    {
     "name": "stdout",
     "output_type": "stream",
     "text": [
      "Age: 56.1[13.9]\n",
      "Gender 0.259\n",
      "Race 0.596[0.404]\n"
     ]
    }
   ],
   "source": [
    "def getStats(data, labels):\n",
    "    if len(data) == len(labels) * 2:\n",
    "        print(\"Age:\", str(round(data.describe()['Age'][1],1)) + \"[\" + str(round(data.describe()['Age'][2],1)) + \"]\")\n",
    "        gen = data['Gender'].value_counts()/2/len(labels)\n",
    "        print(\"Gender\", round(gen[2.0],3))\n",
    "        gen = data['Race'].value_counts()/2/len(labels)\n",
    "        print(\"Race\", str(round(gen[1.0],3))+\"[\" + str(round(gen[2.0],3))+\"]\")\n",
    "    else:\n",
    "        print(\"Age:\", str(round(data.describe()['Age'][1],1)) + \"[\" + str(round(data.describe()['Age'][2],1)) + \"]\")\n",
    "        gen = data['Gender'].value_counts()/len(labels)\n",
    "        print(\"Gender\", round(gen[2.0],3))\n",
    "        gen = data['Race'].value_counts()/len(labels)\n",
    "        print(\"Race\", str(round(gen[1.0],3))+\"[\" + str(round(gen[2.0],3))+\"]\")\n",
    "    \n",
    "getStats(escapeAllData, escapeLabels)"
   ]
  },
  {
   "cell_type": "code",
   "execution_count": 11,
   "metadata": {},
   "outputs": [
    {
     "name": "stdout",
     "output_type": "stream",
     "text": [
      "Age: 56.8[13.5]\n",
      "Gender 0.254\n",
      "Race 0.582[0.268]\n"
     ]
    }
   ],
   "source": [
    "getStats(escapeHemo, escapeLabels)"
   ]
  },
  {
   "cell_type": "code",
   "execution_count": 12,
   "metadata": {},
   "outputs": [
    {
     "name": "stdout",
     "output_type": "stream",
     "text": [
      "Age: 58.6[12.7]\n",
      "Gender 0.281\n",
      "Race 0.621[0.379]\n"
     ]
    }
   ],
   "source": [
    "getStats(hfactionAllData, hfactionLabels)"
   ]
  },
  {
   "cell_type": "code",
   "execution_count": 13,
   "metadata": {},
   "outputs": [
    {
     "name": "stdout",
     "output_type": "stream",
     "text": [
      "Age: 60.2[12.3]\n",
      "Gender 0.219\n",
      "Race 0.7[0.3]\n"
     ]
    }
   ],
   "source": [
    "getStats(bestAllData, bestLabels)"
   ]
  },
  {
   "cell_type": "code",
   "execution_count": 14,
   "metadata": {},
   "outputs": [
    {
     "name": "stdout",
     "output_type": "stream",
     "text": [
      "Age: 61.5[13.9]\n",
      "Gender 0.68\n",
      "Race 0.548[0.452]\n"
     ]
    }
   ],
   "source": [
    "getStats(guideAllData, guideLabels)"
   ]
  },
  {
   "cell_type": "code",
   "execution_count": 15,
   "metadata": {},
   "outputs": [],
   "source": [
    "def getStatsCard(data, labels):\n",
    "    print(\"Age:\", str(round(data.describe()['Age'][1],1)) + \"[\" + str(round(data.describe()['Age'][2],1)) + \"]\")\n",
    "    gen = data['Gender'].value_counts()/3/len(labels)\n",
    "    print(\"Gender\", round(gen[2.0],3))\n",
    "\n"
   ]
  },
  {
   "cell_type": "code",
   "execution_count": 16,
   "metadata": {
    "scrolled": true
   },
   "outputs": [
    {
     "name": "stdout",
     "output_type": "stream",
     "text": [
      "Age: 59.4[18.5]\n",
      "Gender 0.117\n"
     ]
    }
   ],
   "source": [
    "getStatsCard(cardShockAllData, cardShockAllData)"
   ]
  },
  {
   "cell_type": "code",
   "execution_count": 17,
   "metadata": {
    "scrolled": true
   },
   "outputs": [
    {
     "name": "stdout",
     "output_type": "stream",
     "text": [
      "Age: 60.6[15.1]\n",
      "Gender 0.432\n"
     ]
    }
   ],
   "source": [
    "getStatsCard(serialAllData, serialLabels)"
   ]
  },
  {
   "cell_type": "code",
   "execution_count": 18,
   "metadata": {},
   "outputs": [
    {
     "data": {
      "text/plain": [
       "Index(['Age', 'Gender', 'Race', 'Wt', 'BMI', 'InitialHospDays',\n",
       "       'TotalHospDays', 'NYHA', 'MLHFS', 'AF', 'AlchE', 'ANGP', 'ARRH',\n",
       "       'CARREST', 'CVD', 'COPD', 'DEPR', 'DIAB', 'GOUT', 'HEPT', 'HTN',\n",
       "       'MALIG', 'RENAL', 'SMOKING', 'STERD', 'StrokeTIA', 'VAHD', 'VF', 'VHD',\n",
       "       'VT', 'ISCH', 'NonISCH', 'CABG', 'HTRANS', 'ICD', 'PACE', 'PTCI',\n",
       "       'SixFtWlk', 'VO2', 'ALB', 'ALT', 'AST', 'BUN', 'CRT', 'DIAL', 'HEC',\n",
       "       'HEM', 'PLA', 'POT', 'SOD', 'TALB', 'TOTP', 'WBC', 'ACE', 'BET', 'NIT',\n",
       "       'DIUR', 'EjF', 'BPDIAS', 'BPSYS', 'HR', 'PV', 'MAP', 'PP', 'PPP',\n",
       "       'PPRatio'],\n",
       "      dtype='object')"
      ]
     },
     "execution_count": 18,
     "metadata": {},
     "output_type": "execute_result"
    }
   ],
   "source": [
    "escapeAllData.columns"
   ]
  },
  {
   "cell_type": "code",
   "execution_count": 18,
   "metadata": {},
   "outputs": [],
   "source": []
  }
 ],
 "metadata": {
  "kernelspec": {
   "display_name": "Python 3",
   "language": "python",
   "name": "python3"
  },
  "language_info": {
   "codemirror_mode": {
    "name": "ipython",
    "version": 3
   },
   "file_extension": ".py",
   "mimetype": "text/x-python",
   "name": "python",
   "nbconvert_exporter": "python",
   "pygments_lexer": "ipython3",
   "version": "3.7.7"
  }
 },
 "nbformat": 4,
 "nbformat_minor": 4
}
