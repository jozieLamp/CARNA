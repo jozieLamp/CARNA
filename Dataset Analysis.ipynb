{
 "cells": [
  {
   "cell_type": "code",
   "execution_count": null,
   "metadata": {
    "pycharm": {
     "is_executing": true,
     "name": "#%%\n"
    }
   },
   "outputs": [],
   "source": [
    "## This script reports statistics used in the paper"
   ]
  },
  {
   "cell_type": "code",
   "execution_count": 1,
   "metadata": {
    "pycharm": {
     "is_executing": true,
     "name": "#%%\n"
    }
   },
   "outputs": [
    {
     "data": {
      "text/plain": [
       "<Figure size 432x288 with 0 Axes>"
      ]
     },
     "metadata": {},
     "output_type": "display_data"
    }
   ],
   "source": [
    "#Import packages\n",
    "import pandas as pd\n",
    "import numpy as np\n",
    "import matplotlib.pyplot as plt\n",
    "import seaborn as sns\n",
    "import math\n",
    "import copy\n",
    "import warnings\n",
    "\n",
    "# plt.rc('font', size=14)\n",
    "plt.figure()\n",
    "plt.rcParams.update({'font.size': 14})\n",
    "\n",
    "warnings.filterwarnings('ignore')"
   ]
  },
  {
   "cell_type": "code",
   "execution_count": 2,
   "metadata": {
    "pycharm": {
     "is_executing": true,
     "name": "#%%\n"
    }
   },
   "outputs": [],
   "source": [
    "# best = bestAllData.replace(np.inf, 0)\n",
    "# best = best.fillna(0)"
   ]
  },
  {
   "cell_type": "code",
   "execution_count": 3,
   "metadata": {
    "pycharm": {
     "is_executing": true,
     "name": "#%%\n"
    }
   },
   "outputs": [],
   "source": [
    "#Load ESCAPE training data\n",
    "escapeAllData = pd.read_csv(\"Data/Preprocessed Data/ESCAPE_AllData.csv\", sep=\",\", index_col='ID').sort_index() #all feature dataset\n",
    "escapeHemo = pd.read_csv(\"Data/Preprocessed Data/ESCAPE_Hemo.csv\", sep=\",\", index_col='ID').sort_index() #dataset with only hemodynamics\n",
    "escapeLabels  = pd.read_csv(\"Data/Original DataFrames/Labels.csv\", sep=\",\", index_col='DEIDNUM').sort_index() #labels for prediction classes \n",
    "escapeHemoLabels = escapeLabels[escapeLabels.index.isin(escapeHemo.index)]\n",
    "\n",
    "#Cardiogenic Shock\n",
    "cardShockHemo = pd.read_csv(\"Data Validation/Cardiogenic Shock/Preprocessed Data/CardiogenicShock_Hemo.csv\", sep=\",\", index_col='ID').sort_index()\n",
    "cardShockAllData = pd.read_csv(\"Data Validation/Cardiogenic Shock/Preprocessed Data/CardiogenicShock_AllData.csv\", sep=\",\", index_col='ID').sort_index()\n",
    "cardShockHemoLabels = pd.read_csv(\"Data Validation/Cardiogenic Shock/Original DataFrames/HemoLabelsCardiogenicShock.csv\", sep=\",\", index_col='ID').sort_index()\n",
    "cardShockLabels = pd.read_csv(\"Data Validation/Cardiogenic Shock/Original DataFrames/LabelsCardiogenicShock.csv\", sep=\",\", index_col='ID').sort_index()\n",
    "\n",
    "#Serial Cardiac\n",
    "serialHemo = pd.read_csv(\"Data Validation/Serial Cardiac Caths/Preprocessed Data/SerialCardiac_Hemo.csv\", sep=\",\", index_col='ID').sort_index()\n",
    "serialAllData = pd.read_csv(\"Data Validation/Serial Cardiac Caths/Preprocessed Data/SerialCardiac_AllData.csv\", sep=\",\", index_col='ID').sort_index()\n",
    "serialHemoLabels = pd.read_csv(\"Data Validation/Serial Cardiac Caths/Original DataFrames/HemoLabelsSerialCardiac.csv\", sep=\",\", index_col='ID').sort_index()\n",
    "serialLabels = pd.read_csv(\"Data Validation/Serial Cardiac Caths/Original DataFrames/LabelsSerialCardiac.csv\", sep=\",\", index_col='ID').sort_index()\n",
    "\n",
    "#HF-ACTION\n",
    "hfactionAllData = pd.read_csv(\"Data Validation/HF-ACTION/Preprocessed Data/HF-ACTION_AllData.csv\", sep=\",\", index_col='ID').sort_index()\n",
    "hfactionLabels = pd.read_csv(\"Data Validation/HF-ACTION/Original DataFrames/LabelsHF-ACTION.csv\", sep=\",\", index_col='ID').sort_index()\n",
    "\n",
    "#BEST\n",
    "bestAllData = pd.read_csv(\"Data Validation/BEST/Preprocessed Data/BEST_AllData.csv\", sep=\",\", index_col='ID').sort_index()\n",
    "bestLabels = pd.read_csv(\"Data Validation/BEST/Original DataFrames/LabelsBEST.csv\", sep=\",\", index_col='ID').sort_index()\n",
    "\n",
    "#Guide it\n",
    "guideAllData = pd.read_csv(\"Data Validation/GUIDE-IT/Preprocessed Data/GUIDE-IT_AllData.csv\", sep=\",\", index_col='ID').sort_index()\n",
    "guideLabels = pd.read_csv(\"Data Validation/GUIDE-IT/Original DataFrames/LabelsGUIDE-IT.csv\", sep=\",\", index_col='ID').sort_index()\n",
    "\n",
    "\n",
    "# # Fix escape labels\n",
    "escapeAllData.index = (escapeAllData.index.str.rstrip('x')).astype(int)\n",
    "escapeAllData = escapeAllData.sort_index()\n"
   ]
  },
  {
   "cell_type": "code",
   "execution_count": null,
   "metadata": {},
   "outputs": [],
   "source": []
  },
  {
   "cell_type": "markdown",
   "metadata": {},
   "source": [
    "## Add Stacked Bar Graph showing Ground Truth vs Predicted Risk Categories"
   ]
  },
  {
   "cell_type": "code",
   "execution_count": 2,
   "metadata": {},
   "outputs": [],
   "source": [
    "# Get data formatted correctly\n",
    "def getScoreCounts(cntDF, num):\n",
    "    \n",
    "    #Select rows for each ground truth number\n",
    "    df = cntDF.loc[cntDF['Real'] == num]\n",
    "    \n",
    "    cnts = df[\"Predicted\"].value_counts(normalize=True)\n",
    "#     print(\"Cnts\", cnts)\n",
    "    lst = []\n",
    "    for i in range(1,6):\n",
    "        if i in cnts:\n",
    "            lst.append(cnts[i])\n",
    "        else:\n",
    "            lst.append(0)\n",
    "\n",
    "#     print(\"LST:\", lst, \"\\n\")\n",
    "    return lst\n",
    "\n",
    "def getCountBarData(realLabels, predLabels):\n",
    "    # Get count DF\n",
    "    predLabels = [int(x) for x in predLabels]\n",
    "#     print(predLabels)\n",
    "    counts = pd.DataFrame([realLabels, predLabels]).T\n",
    "    counts.columns = [\"Real\", \"Predicted\"]\n",
    "    \n",
    "    #Format counts\n",
    "    plotData = pd.DataFrame({\n",
    "    \"1\": getScoreCounts(counts, 1),\n",
    "    \"2\": getScoreCounts(counts, 2),\n",
    "    \"3\": getScoreCounts(counts, 3),\n",
    "    \"4\": getScoreCounts(counts, 4),\n",
    "    \"5\": getScoreCounts(counts, 5)\n",
    "    }, \n",
    "    index=[\"1\", \"2\", \"3\", \"4\", \"5\"]\n",
    "    ).T\n",
    "    \n",
    "    return plotData\n"
   ]
  },
  {
   "cell_type": "markdown",
   "metadata": {},
   "source": [
    "### Hemo"
   ]
  },
  {
   "cell_type": "code",
   "execution_count": 3,
   "metadata": {},
   "outputs": [
    {
     "name": "stdout",
     "output_type": "stream",
     "text": [
      "     1    2         3    4         5\n",
      "1  0.0  0.0  0.000000  0.0  0.000000\n",
      "2  0.0  0.0  0.000000  0.0  0.000000\n",
      "3  0.0  0.0  0.857143  0.0  0.142857\n",
      "4  0.0  0.0  0.000000  1.0  0.000000\n",
      "5  0.0  0.0  0.112069  0.0  0.887931\n"
     ]
    },
    {
     "data": {
      "text/plain": [
       "<matplotlib.legend.Legend at 0x16c33f970>"
      ]
     },
     "execution_count": 3,
     "metadata": {},
     "output_type": "execute_result"
    },
    {
     "data": {
      "text/plain": [
       "<Figure size 432x288 with 0 Axes>"
      ]
     },
     "metadata": {},
     "output_type": "display_data"
    },
    {
     "data": {
      "image/png": "[encoded data removed]",
      "text/plain": [
       "<Figure size 864x504 with 1 Axes>"
      ]
     },
     "metadata": {
      "needs_background": "light"
     },
     "output_type": "display_data"
    }
   ],
   "source": [
    "# Card Shock Hemo Death\n",
    "predLabels = \"3 3 3 4 4 3 4 4 3 4 4 4 4 4 4 4 4 4 4 4 4 4 4 4 5 3 3 5 3 5 5 5 5 5 5 5 5 5 3 5 5 5 3 5 5 5 4 4 5 5 3 3 5 3 5 3 3 3 3 3 4 4 4 4 4 4 4 4 5 5 5 5 3 4 4 4 5 4 5 5 3 3 4 4 4 4 5 5 3 4 4 3 5 4 5 5 5 5 5 3 5 5 5 5 5 3 5 3 3 3 3 5 3 3 3 3 4 3 5 5 5 5 3 5 3 5 5 5 4 3 5 5 3 5 5 5 3 5 5 3 3 3 5 5 3 3 3 5 5 3 3 3 5 5 5 3 3 3 5 3 5 5 4 5 4 4 5 5 3 5 3 5 5 5 5 5 5 3 3 4 4 4 4 4 4 4 4 5 3 5 5 5 5 5 5 5 4 4 4 4 4 4 3 3 5 3 5 4 5 5 5 4 4 4 4 4 4 3 4 4 4 4 5 5 3 3 5 3 5 4 4 4 3 3 3 4 4 4 4 4 4 3 3 5 3 3 4 4 4 5 4 4 4 4 4 4 4 4 4 4 4 4 5 5 5 5 5 5 5 5 3 3 3 3 3 4 4 4 4 4 4 4 4 4 4 4 4 4 4 3 5 5 5 5 5 5 3 3 5 5 5 4\".split()\n",
    "\n",
    "# real labels\n",
    "hemoCohort = pd.read_csv(\"Data Validation/Cardiogenic Shock/Preprocessed Data/CardiogenicShock_Hemo.csv\", sep=\",\", index_col='ID')\n",
    "deathLabels = hemoCohort['ScoreDeath'].tolist()\n",
    "\n",
    "ct = getCountBarData(deathLabels, predLabels)\n",
    "print(ct)\n",
    "\n",
    "plt.figure()\n",
    "ct.plot(kind='bar', stacked=True, figsize=(12,7))\n",
    "plt.xlabel(\"Real Risk Score\")\n",
    "plt.ylabel(\"Percentage\")\n",
    "# plt.legend(title=\"Predicted Risk Score\", bbox_to_anchor=(1,1.02), loc='upper left')\n",
    "plt.legend(title=\"Predicted Risk Score\", ncol=5, loc='upper center', borderaxespad=-3.5)"
   ]
  },
  {
   "cell_type": "code",
   "execution_count": 10,
   "metadata": {},
   "outputs": [
    {
     "name": "stdout",
     "output_type": "stream",
     "text": [
      "          1        2         3         4         5\n",
      "1  1.000000  0.00000  0.000000  0.000000  0.000000\n",
      "2  0.000000  1.00000  0.000000  0.000000  0.000000\n",
      "3  0.000000  0.00000  0.932432  0.000000  0.067568\n",
      "4  0.013453  0.00000  0.000000  0.986547  0.000000\n",
      "5  0.000000  0.02809  0.140449  0.000000  0.831461\n"
     ]
    },
    {
     "data": {
      "text/plain": [
       "<matplotlib.legend.Legend at 0x2d79826a0>"
      ]
     },
     "execution_count": 10,
     "metadata": {},
     "output_type": "execute_result"
    },
    {
     "data": {
      "text/plain": [
       "<Figure size 432x288 with 0 Axes>"
      ]
     },
     "metadata": {},
     "output_type": "display_data"
    },
    {
     "data": {
      "image/png": "[encoded data removed]",
      "text/plain": [
       "<Figure size 864x504 with 1 Axes>"
      ]
     },
     "metadata": {
      "needs_background": "light"
     },
     "output_type": "display_data"
    }
   ],
   "source": [
    "# Serial Cardiac Hemo Death\n",
    "predLabels = \"4 4 4 4 1 5 5 5 4 4 4 4 4 4 4 4 4 4 4 4 4 4 4 5 5 5 3 4 3 3 5 5 3 3 4 3 3 4 4 4 5 5 3 3 4 4 4 4 4 4 4 4 4 4 1 5 5 4 4 4 5 3 5 3 5 5 3 3 3 5 5 3 4 4 4 4 4 4 4 4 4 5 3 5 5 5 5 5 5 3 3 3 3 4 4 5 3 5 5 5 5 5 5 5 4 4 4 4 3 5 5 5 3 5 5 5 3 3 3 3 3 3 3 4 4 4 4 5 5 3 3 5 3 3 3 4 4 4 5 3 3 5 5 5 4 4 4 4 4 4 4 1 3 3 3 3 3 3 2 4 4 4 4 4 4 4 4 4 4 4 4 5 5 5 5 1 1 5 5 5 5 4 4 3 2 4 4 4 4 5 5 5 5 5 3 3 3 3 4 4 4 4 4 3 3 4 4 3 3 3 3 3 3 4 4 4 4 4 3 5 5 5 3 2 4 4 4 3 3 4 4 4 4 4 4 3 3 3 5 3 3 3 3 3 5 5 5 5 5 5 2 4 4 4 4 4 4 4 5 5 5 5 5 3 5 3 4 4 4 4 4 4 3 5 3 3 3 3 3 3 3 3 3 1 5 5 4 3 5 5 5 5 3 5 3 5 5 5 5 5 5 5 5 5 5 5 5 5 5 5 5 5 4 4 4 4 3 3 2 3 3 5 5 1 1 4 3 3 3 3 3 3 3 3 3 3 5 5 3 3 3 5 5 3 3 3 4 4 4 5 3 3 3 5 3 5 5 1 3 3 3 5 5 3 3 5 5 3 3 4 4 4 4 4 4 4 4 4 4 5 5 5 5 5 5 3 5 5 5 3 5 4 4 3 3 3 4 4 4 4 4 4 4 5 5 3 3 3 3 3 4 4 4 5 5 3 3 3 4 4 3 3 5 5 5 5 3 4 4 4 4 3 5 5 3 3 4 4 4 4 4 4 4 4 4 4 4 3 5 3 3 3 4 4 3 3 3 2 5 3 5 5 4 4 4 4 5 5 3 4 4 4 4 4 4 4 4 4 4 4 4 4 4 4 4 4 4 4 4 4 4 4 4 3 3 5 5 5 5 5 5 3 3 3 3 3 4 3 3 3 3 4 4 4 4 4 4 4 4 4 4 4 4 4 4 4 4 4 4 4 5 5 5 5 5 3 5 3 5 5 5 3 3 3 3 3 3 5 5 5 4 4 4 4 3 3\".split()\n",
    "\n",
    "hemoCohort = pd.read_csv(\"Data Validation/Serial Cardiac Caths/Preprocessed Data/SerialCardiac_Hemo.csv\", sep=\",\", index_col='ID')\n",
    "deathLabels = hemoCohort['ScoreDeath'].tolist()\n",
    "\n",
    "ct = getCountBarData(deathLabels, predLabels)\n",
    "print(ct)\n",
    "\n",
    "plt.figure()\n",
    "ct.plot(kind='bar', stacked=True, figsize=(12,7))\n",
    "plt.xlabel(\"Real Risk Score\")\n",
    "plt.ylabel(\"Percentage\")\n",
    "# plt.legend(title=\"Predicted Risk Score\", bbox_to_anchor=(1,1.02), loc='upper left')\n",
    "plt.legend(title=\"Predicted Risk Score\", ncol=5, loc='upper center', borderaxespad=-3.5)\n"
   ]
  },
  {
   "cell_type": "code",
   "execution_count": 12,
   "metadata": {},
   "outputs": [
    {
     "name": "stdout",
     "output_type": "stream",
     "text": [
      "          1    2         3         4         5\n",
      "1  0.000000  0.0  0.000000  0.000000  0.000000\n",
      "2  0.000000  0.0  0.000000  0.000000  0.000000\n",
      "3  0.000000  0.0  0.922414  0.077586  0.000000\n",
      "4  0.000000  0.0  0.402597  0.597403  0.000000\n",
      "5  0.146789  0.0  0.000000  0.000000  0.853211\n"
     ]
    },
    {
     "data": {
      "text/plain": [
       "<matplotlib.legend.Legend at 0x2dc441af0>"
      ]
     },
     "execution_count": 12,
     "metadata": {},
     "output_type": "execute_result"
    },
    {
     "data": {
      "text/plain": [
       "<Figure size 432x288 with 0 Axes>"
      ]
     },
     "metadata": {},
     "output_type": "display_data"
    },
    {
     "data": {
      "image/png": "[encoded data removed]",
      "text/plain": [
       "<Figure size 864x504 with 1 Axes>"
      ]
     },
     "metadata": {
      "needs_background": "light"
     },
     "output_type": "display_data"
    }
   ],
   "source": [
    "# Card Shock Rehosp\n",
    "predLabels = \"3 3 4 5 5 3 5 5 4 5 5 5 5 5 5 5 5 5 5 5 5 5 1 5 3 3 3 3 3 3 3 3 3 3 3 3 3 3 4 3 3 3 4 3 3 3 1 5 4 3 3 3 3 3 3 4 4 4 4 4 1 5 5 5 1 5 1 5 3 3 3 3 4 5 5 5 3 5 3 3 4 4 1 5 5 1 4 3 4 5 5 3 3 5 3 3 3 3 3 3 3 3 3 3 3 3 3 4 4 4 4 3 4 3 3 4 5 3 3 3 3 3 3 3 3 3 3 4 1 4 3 3 3 3 3 3 3 3 3 4 4 3 3 3 4 4 3 3 3 4 3 4 3 3 3 4 4 4 3 4 3 3 5 3 5 5 3 3 4 3 4 3 3 3 4 3 3 4 3 5 5 5 5 5 5 5 5 3 4 3 3 3 3 3 3 3 5 5 5 5 5 5 4 4 3 3 3 5 3 3 3 5 5 5 5 5 5 4 5 5 5 5 3 3 4 3 3 3 3 5 5 5 4 4 3 1 5 1 5 5 5 4 4 4 3 3 5 5 5 3 5 5 5 5 5 5 5 5 5 5 5 5 4 3 3 3 3 3 3 3 4 3 3 3 4 1 5 5 5 5 1 5 5 5 5 1 1 1 1 4 3 3 3 3 3 3 4 4 3 4 4 5\".split()\n",
    "\n",
    "hemoCohort = pd.read_csv(\"Data Validation/Cardiogenic Shock/Preprocessed Data/CardiogenicShock_Hemo.csv\", sep=\",\", index_col='ID')\n",
    "deathLabels = hemoCohort['ScoreRehosp'].tolist()\n",
    "\n",
    "ct = getCountBarData(deathLabels, predLabels)\n",
    "print(ct)\n",
    "\n",
    "plt.figure()\n",
    "ct.plot(kind='bar', stacked=True, figsize=(12,7))\n",
    "plt.xlabel(\"Real Risk Score\")\n",
    "plt.ylabel(\"Percentage\")\n",
    "# plt.legend(title=\"Predicted Risk Score\", bbox_to_anchor=(1,1.02), loc='upper left')\n",
    "plt.legend(title=\"Predicted Risk Score\", ncol=5, loc='upper center', borderaxespad=-3.5)\n"
   ]
  },
  {
   "cell_type": "code",
   "execution_count": 7,
   "metadata": {},
   "outputs": [
    {
     "name": "stdout",
     "output_type": "stream",
     "text": [
      "          1        2         3         4         5\n",
      "1  1.000000  0.00000  0.000000  0.000000  0.000000\n",
      "2  0.000000  1.00000  0.000000  0.000000  0.000000\n",
      "3  0.000000  0.02809  0.870787  0.101124  0.000000\n",
      "4  0.000000  0.00000  0.202703  0.797297  0.000000\n",
      "5  0.408072  0.00000  0.000000  0.000000  0.591928\n"
     ]
    },
    {
     "data": {
      "text/plain": [
       "<matplotlib.legend.Legend at 0x2cf8f95e0>"
      ]
     },
     "execution_count": 7,
     "metadata": {},
     "output_type": "execute_result"
    },
    {
     "data": {
      "text/plain": [
       "<Figure size 432x288 with 0 Axes>"
      ]
     },
     "metadata": {},
     "output_type": "display_data"
    },
    {
     "data": {
      "image/png": "[encoded data removed]",
      "text/plain": [
       "<Figure size 864x504 with 1 Axes>"
      ]
     },
     "metadata": {
      "needs_background": "light"
     },
     "output_type": "display_data"
    }
   ],
   "source": [
    "# Serial Cardiac Rehosp\n",
    "predLabels = \"5 5 1 1 1 3 3 3 1 1 1 1 5 1 1 5 1 1 1 1 5 5 5 3 3 3 4 1 4 4 4 3 4 4 5 4 4 1 1 5 3 3 4 4 5 5 5 5 5 5 5 5 5 5 1 3 3 5 5 5 3 3 3 3 3 3 4 4 4 3 3 4 1 1 1 1 1 5 5 5 5 4 4 3 3 3 3 3 3 4 4 4 4 5 5 3 3 3 3 3 3 3 3 3 1 1 5 5 4 3 3 3 4 3 3 3 4 4 4 4 3 3 4 1 1 5 5 4 3 3 3 3 3 4 4 1 5 5 4 4 3 3 3 3 1 1 1 5 1 5 5 1 4 4 4 4 4 4 2 1 5 5 5 1 5 1 5 1 1 1 5 3 3 3 3 1 1 3 3 3 3 1 1 4 2 1 5 5 5 3 3 3 3 3 3 3 4 4 5 5 5 5 5 3 3 1 5 4 4 4 4 4 4 1 1 1 1 1 4 3 3 3 3 2 5 5 5 3 3 1 1 1 1 1 1 4 4 4 4 4 4 4 4 4 3 3 3 3 3 3 2 1 1 1 1 1 1 1 3 3 3 3 3 3 3 4 1 1 5 5 1 1 3 3 3 4 4 4 4 4 4 4 4 1 3 3 5 3 3 3 3 3 3 3 3 3 3 3 3 3 3 3 3 3 3 3 3 3 3 3 3 3 5 5 1 1 4 4 2 4 4 3 3 1 1 5 4 4 4 4 4 4 4 4 4 3 3 3 4 4 3 3 3 4 4 4 5 5 1 3 4 4 4 3 4 3 3 1 4 4 4 3 3 4 4 3 3 3 4 5 5 5 5 5 5 5 5 5 5 3 3 3 3 3 3 4 3 3 3 3 3 5 5 4 4 4 5 5 5 5 5 5 5 3 3 4 4 4 4 4 1 1 1 3 3 4 4 4 5 5 3 3 3 3 3 3 3 1 5 1 5 4 3 3 4 4 1 1 1 5 5 5 5 5 5 5 5 4 3 4 4 4 1 1 4 4 4 2 3 3 3 3 5 5 1 1 4 4 4 1 1 1 5 5 5 1 5 5 5 5 5 5 5 5 5 5 5 5 5 5 1 5 5 4 4 3 3 3 3 3 3 4 4 4 4 4 5 3 3 3 4 1 5 5 5 5 1 5 5 5 5 1 1 1 1 5 5 5 5 5 3 3 3 3 3 4 3 3 3 3 3 4 4 4 4 4 4 3 3 3 1 5 5 5 4 4\".split()\n",
    "\n",
    "hemoCohort = pd.read_csv(\"Data Validation/Serial Cardiac Caths/Preprocessed Data/SerialCardiac_Hemo.csv\", sep=\",\", index_col='ID')\n",
    "deathLabels = hemoCohort['ScoreRehosp'].tolist()\n",
    "\n",
    "ct = getCountBarData(deathLabels, predLabels)\n",
    "print(ct)\n",
    "\n",
    "plt.figure()\n",
    "ct.plot(kind='bar', stacked=True, figsize=(12,7))\n",
    "plt.xlabel(\"Real Risk Score\")\n",
    "plt.ylabel(\"Percentage\")\n",
    "# plt.legend(title=\"Predicted Risk Score\", bbox_to_anchor=(1,1.02), loc='upper left')\n",
    "plt.legend(title=\"Predicted Risk Score\", ncol=5, loc='upper center', borderaxespad=-3.5)\n"
   ]
  },
  {
   "cell_type": "markdown",
   "metadata": {},
   "source": [
    "### All Data"
   ]
  },
  {
   "cell_type": "code",
   "execution_count": 22,
   "metadata": {},
   "outputs": [
    {
     "name": "stdout",
     "output_type": "stream",
     "text": [
      "          1         2         3    4         5\n",
      "1  0.998545  0.000000  0.000000  0.0  0.001455\n",
      "2  0.000000  1.000000  0.000000  0.0  0.000000\n",
      "3  0.000000  0.029801  0.970199  0.0  0.000000\n",
      "4  0.000000  0.000000  0.000000  1.0  0.000000\n",
      "5  0.018519  0.000000  0.000000  0.0  0.981481\n"
     ]
    },
    {
     "data": {
      "text/plain": [
       "<matplotlib.legend.Legend at 0x2dcc10100>"
      ]
     },
     "execution_count": 22,
     "metadata": {},
     "output_type": "execute_result"
    },
    {
     "data": {
      "text/plain": [
       "<Figure size 432x288 with 0 Axes>"
      ]
     },
     "metadata": {},
     "output_type": "display_data"
    },
    {
     "data": {
      "image/png": "[encoded data removed]",
      "text/plain": [
       "<Figure size 864x504 with 1 Axes>"
      ]
     },
     "metadata": {
      "needs_background": "light"
     },
     "output_type": "display_data"
    }
   ],
   "source": [
    "# Best Death\n",
    "predLabels = \"3 1 1 1 1 3 1 3 1 3 1 3 3 1 1 1 1 1 1 1 3 1 1 1 3 1 1 3 3 1 1 1 1 1 1 3 1 1 1 3 1 3 1 1 1 1 1 1 1 1 3 1 1 1 1 1 1 1 1 1 1 3 3 1 1 3 1 3 1 1 1 1 1 3 1 1 3 1 3 1 1 1 3 1 1 3 1 3 1 1 1 5 3 1 1 1 3 1 5 1 1 1 1 1 1 3 1 3 1 1 1 3 1 1 1 1 1 3 2 1 1 1 1 1 1 5 3 1 1 1 1 1 1 1 1 3 1 1 5 1 1 3 1 1 1 1 1 1 1 1 3 3 1 1 1 1 1 1 3 1 1 1 1 3 3 5 5 1 1 1 1 3 1 3 1 1 1 3 1 3 1 1 3 1 2 3 1 1 1 1 1 1 1 1 3 1 3 1 3 1 1 1 3 1 1 1 1 3 3 1 1 1 1 1 1 1 1 1 1 1 1 3 1 1 1 1 3 1 1 1 1 1 3 1 3 1 1 1 1 1 1 1 1 1 1 1 1 1 1 1 3 1 1 1 1 1 1 3 1 1 1 1 1 1 1 1 1 1 1 1 1 1 1 1 1 1 1 3 1 3 1 1 1 3 1 3 1 1 3 3 1 1 1 3 1 1 3 3 1 1 1 1 1 3 1 1 1 1 1 1 1 1 1 1 1 3 1 1 5 1 1 3 1 1 1 1 1 1 1 1 1 3 1 1 1 1 3 1 1 1 1 1 5 1 1 1 1 1 1 1 1 1 1 1 1 1 1 3 1 1 1 1 1 1 3 1 1 3 1 3 1 1 1 1 1 3 1 3 1 1 3 3 3 1 1 3 3 1 1 1 1 1 3 1 1 1 3 1 3 1 1 1 1 1 1 1 1 1 1 1 1 3 1 1 1 3 3 1 1 1 1 3 1 1 1 1 1 1 3 3 1 1 1 1 1 1 1 1 1 1 3 1 1 1 1 1 1 1 1 1 1 1 1 1 1 1 1 1 1 3 1 1 1 1 3 1 1 1 3 3 1 1 3 3 1 1 5 1 1 1 1 1 1 1 1 1 1 1 1 3 1 1 1 1 1 3 1 1 1 1 1 1 1 3 1 1 1 1 1 1 1 1 1 3 3 1 3 1 1 1 1 1 1 3 3 3 1 1 2 1 1 1 3 1 1 1 5 3 1 1 1 1 1 3 1 1 1 1 3 1 1 3 3 1 1 1 1 1 1 1 5 1 1 3 1 1 1 3 1 1 1 1 1 1 1 1 1 3 1 1 1 3 1 1 1 3 1 5 1 1 1 1 2 1 1 3 1 1 1 1 1 3 1 1 1 1 1 1 3 3 3 3 1 3 1 1 1 3 2 1 3 3 3 3 1 3 3 1 1 1 1 1 1 1 1 1 1 1 1 1 1 3 1 3 1 1 1 1 1 1 1 1 1 1 1 1 3 1 3 1 1 1 1 1 1 3 1 1 1 1 1 1 3 1 3 1 1 1 1 3 3 1 1 1 1 1 1 1 1 1 3 1 1 1 1 1 1 3 3 1 3 3 3 1 1 1 1 1 1 1 1 3 3 1 1 3 3 1 1 1 3 1 3 1 1 3 1 1 3 3 1 1 1 1 3 1 1 1 3 1 3 1 1 1 3 1 1 1 1 3 1 1 1 3 1 1 1 1 1 3 1 3 1 1 3 1 3 3 1 3 2 1 1 1 1 1 1 1 1 1 1 3 1 3 1 1 1 1 1 1 3 1 1 3 1 1 1 3 1 4 1 1 1 1 1 1 3 3 1 1 3 1 1 1 1 1 3 1 3 3 1 1 1 1 3 1 1 1 1 1 1 5 1 1 1 1 5 5 5 1 1 3 1 1 3 1 1 1 1 1 3 1 1 1 1 3 3 2 3 1 1 1 1 1 3 3 1 1 1 3 1 1 1 1 1 5 3 1 1 3 3 1 3 1 1 1 1 1 1 3 1 1 3 1 1 1 1 1 1 1 1 1 3 1 3 3 1 1 1 3 5 5 1 1 1 1 1 1 3 1 1 1 1 1 1 1 1 1 1 1 3 1 3 3 1 1 1 1 1 1 3 1 1 1 1 1 1 1 1 1 1 1 1 1 1 3 1 1 3 3 1 3 1 1 1 1 3 1 1 1 3 3 3 1 1 1 1 1 1 3 1 1 5 1 1 5 3 1 1 1 1 1 3 1 1 1 1 1 1 1 1 1 1 1 1 1 1 1 3 1 1 1 3 1 1 1 1 1 1 1 1 3 1 1 1 1 1 1 1 1 1 1 1 1 1 1 1 1 5 1 1 1 1 1 1 1 1 1 3 1 1 3 1 1 1 1 1 1 1 3 1 3 1 1 1 1 1 1 1 1 1 1 1 1 1 3 3 3 1 2 1 3 1 3 3 1 1 3 3 1 1 3 1 1 3 1 1 1 1 1 1 1 3 3 3 1 1 1 3 3 3 1 1 1 1 1 1 1 1 1 1 1 1 1 1 3 1 1 1 1 1 3 1 1 3 1 1 3 1 1 1 1 3 1 1 1 1 1 1 1 1 1 1 1 3 1 1 1 1 1 1 1 1 1 1 1 1 1 3 1 3 1 1 3 3 1 3 1 1 1 1 3 3 3 3 3 3 1 1 1 3 2 1 1 5 3 1 1 3 3 1 1 1 1 1 1 1 1 1 1 1 1 3 1 1 1 3 1 1 1 3 1 1 1 1 1 5 3 1 3 1 3 1 1 3 1 1 1 3 3 1 1 1 1 1 1 1 1 1 3 3 3 1 3 1 1 1 3 1 3 1 3 1 1 1 1 1 3 1 1 1 1 1 1 1 1 1 3 1 3 1 3 1 1 1 3 3 1 1 1 1 1 3 1 1 3 1 1 1 1 1 3 1 1 3 5 1 1 1 1 1 1 1 1 1 1 1 1 1 2 1 1 1 3 1 5 3 3 3 1 1 1 1 1 1 1 1 1 1 1 1 1 1 5 1 1 1 1 1 1 1 1 1 1 1 1 3 3 1 3 5 1 1 1 1 1 1 3 3 2 1 1 1 1 1 5 1 1 2 1 1 1 1 1 1 1 3 1 1 3 1 1 1 1 1 3 1 1 1 1 1 1 1 1 1 1 1 1 1 1 1 1 3 1 1 3 1 1 1 3 1 3 1 3 1 3 1 1 1 1 1 3 3 1 3 3 5 1 1 1 1 1 1 1 1 1 3 1 1 1 3 1 1 1 3 2 1 1 1 3 1 3 1 3 1 1 3 1 3 1 3 1 1 1 1 1 3 1 1 3 3 5 1 1 3 1 1 1 1 1 3 1 1 3 1 1 1 1 1 1 1 1 3 1 3 1 1 2 1 3 1 1 1 1 1 1 1 1 1 1 1 5 1 1 3 1 1 5 1 1 5 1 3 3 3 1 1 1 1 1 1 1 1 1 1 3 1 2 3 1 1 1 3 1 3 1 1 1 1 1 1 3 1 1 1 1 1 1 3 1 1 1 1 1 1 3 1 3 1 1 1 1 1 5 1 3 1 3 1 1 1 1 1 3 1 1 1 3 2 1 1 1 3 1 1 1 2 1 3 1 1 1 3 1 1 3 3 3 1 3 3 1 3 2 3 1 1 3 3 3 1 1 1 1 3 1 1 5 1 1 1 1 1 1 1 1 3 3 2 1 1 3 1 3 1 1 1 1 1 1 1 1 1 1 1 1 3 1 1 1 3 1 1 1 1 1 1 1 3 1 1 1 1 1 3 1 1 1 1 1 1 1 1 1 1 1 3 3 1 1 3 1 1 1 3 1 3 3 1 1 1 3 1 1 1 1 1 1 1 1 1 1 3 5 5 1 1 1 1 1 1 3 1 1 1 3 1 1 1 1 1 1 1 1 1 1 1 1 1 3 1 1 1 1 3 1 3 3 1 3 1 1 1 1 1 3 3 3 1 3 1 1 1 2 1 1 3 1 1 1 3 1 3 1 5 1 1 3 1 3 1 3 1 1 3 1 1 1 3 1 1 1 1 1 1 1 1 1 1 1 3 1 3 3 1 3 1 1 1 1 1 5 1 1 1 1 1 3 1 1 3 1 1 1 1 1 3 1 3 1 1 1 1 1 1 1 3 1 3 3 1 1 1 1 3 2 1 3 1 1 1 3 3 1 3 1 3 1 3 3 1 1 1 1 3 1 1 1 3 1 3 1 1 1 1 1 1 1 1 1 3 1 1 1 1 1 1 1 3 1 1 1 1 1 3 1 1 3 1 1 1 5 2 1 1 1 1 1 3 1 3 1 1 1 1 3 1 1 1 1 1 1 1 1 1 1 1 1 1 3 1 1 1 3 2 1 1 1 3 1 1 1 1 1 3 1 1 1 1 1 1 1 1 1 1 1 1 1 1 1 3 1 1 1 1 1 1 1 1 1 1 1 3 1 1 1 1 1 3 1 1 3 2 3 3 1 1 1 3 1 1 1 1 3 1 1 2 1 1 1 1 3 1 1 1 1 1 1 1 1 1 1 1 1 1 1 1 1 1 1 1 1 1 1 1 1 1 3 1 1 1 1 1 1 1 1 1 3 3 1 1 1 1 1 1 1 3 1 1 1 1 1 1 1 1 1 1 1 3 3 1 1 1 1 1 1 1 1 1 1 1 1 1 1 1 1 1 1 5 1 3 2 3 1 1 1 3 3 1 1 3 1 1 1 1 1 1 1 1 1 1 1 1 1 1 1 1 1 1 3 1 1 1 3 1 1 1 1 1 1 3 1 1 1 1 1 1 3 1 1 1 1 1 1 3 3 3 3 1 1 1 1 1 1 1 1 1 1 3 1 1 1 1 1 3 3 1 1 1 1 1 3 1 1 1 1 1 1 1 1 1 1 3 3 1 1 1 1 3 3 1 1 1 3 1 3 1 1 1 1 3 3 1 1 1 1 1 1 3 1 5 3 1 1 3 5 1 1 1 1 3 1 1 1 1 1 3 1 1 1 1 1 1 1 1 1 3 1 1 1 1 1 1 1 1 1 1 1 1 1 1 3 1 3 1 1 1 3 3 1 3 1 1 3 5 1 1 1 1 1 1 3 1 1 3 1 1 1 1 1 3 1 1 1 3 1 3 3 1 3 1 1 3 1 1 1 1 1 1 1 1 1 1 3 3 1 3 1 1 3 1 5 1 3 1 1 1 1 1 1 1 1 1 1 3 1 1 5 3 1 1 1 1 3 3 1 3 3 1 3 1 1 1 3 1 1 1 1 1 1 3 1 3 1 1 1 1 1 1 1 1 1 3 1 1 1 1 1 3 1 1 1 1 1 1 1 1 3 1 3 1 5 1 3 1 2 1 3 1 1 1 1 1 1 1 1 1 1 1 3 3 3 3 1 3 1 1 1 1 1 1 1 3 1 1 1 1 1 1 1 1 1 1 1 3 1 5 1 1 1 1 3 3 1 1 5 3 1 1 1 3 1 1 3 1 1 3 3 3 3 1 3 1 1 3 3 1 1 3 1 1 1 1 1 3 1 1 3 1 1 3 1 1 3 3 1 1 1 1 1 1 1 1 1 1 1 3 1 1 3 1 1 1 1 3 1 1 1 1 1 1 3 1 1 1 1 1 1 1 3 1 1 1 1 3 1 1 3 3 1 3 1 1 3 1 3 1 1 3 1 1 1 1 3 1 1 3 1 3 3 3 1 1 1 3 1 5 1 1 1 3 1 1 3 1 1 1 1 1 1 1 1 1 1 1 1 3 5 1 1 1 1 5 1 1 1 1 1 3 1 1 1 1 3 1 3 1 1 1 3 1 3 1 3 1 3 1 1 1 1 1 1 1 1 1 3 1 1 1 1 1 3 1 1 3 1 1 5 1 1 4 1 3 3 3 1 3 1 3 5 3 1 1 3 3 1 1 1 5 3 1 1 1 1 1 1 1 1 1 1 3 1 3 1 1 3 1 1 3 1 1 3 1 3 1 1 1 1 1 3 1 1 1 1 1 1 1 1 1 1 1 1 3 1 1 3 1 1 1 1 1 1 1 1 1 1 1 1 1 3 1 1 1 1 1 1 3 1 3 3 3 1 1 1 1 1 1 1 1 3 1 3 1 1 1 1 1 1 3 1 3\".split()\n",
    "    \n",
    "guideAllData = pd.read_csv(\"Data Validation/BEST/Preprocessed Data/BEST_AllData.csv\", sep=\",\", index_col='ID')\n",
    "deathLabels = guideAllData['ScoreDeath'].tolist()\n",
    "\n",
    "    \n",
    "ct = getCountBarData(deathLabels, predLabels)\n",
    "print(ct)\n",
    "\n",
    "plt.figure()\n",
    "ct.plot(kind='bar', stacked=True, figsize=(12,7))\n",
    "plt.xlabel(\"Real Risk Score\")\n",
    "plt.ylabel(\"Percentage\")\n",
    "# plt.legend(title=\"Predicted Risk Score\", bbox_to_anchor=(1,1.02), loc='upper left')\n",
    "plt.legend(title=\"Predicted Risk Score\", ncol=5, loc='upper center', borderaxespad=-3.5)"
   ]
  },
  {
   "cell_type": "code",
   "execution_count": 14,
   "metadata": {},
   "outputs": [
    {
     "name": "stdout",
     "output_type": "stream",
     "text": [
      "          1         2         3    4         5\n",
      "1  0.992806  0.000000  0.000000  0.0  0.007194\n",
      "2  0.000000  1.000000  0.000000  0.0  0.000000\n",
      "3  0.000000  0.017794  0.982206  0.0  0.000000\n",
      "4  0.000000  0.000000  0.000000  1.0  0.000000\n",
      "5  0.000000  0.000000  0.000000  0.0  1.000000\n"
     ]
    },
    {
     "data": {
      "text/plain": [
       "<matplotlib.legend.Legend at 0x2d6fb9ac0>"
      ]
     },
     "execution_count": 14,
     "metadata": {},
     "output_type": "execute_result"
    },
    {
     "data": {
      "text/plain": [
       "<Figure size 432x288 with 0 Axes>"
      ]
     },
     "metadata": {},
     "output_type": "display_data"
    },
    {
     "data": {
      "image/png": "[encoded data removed]",
      "text/plain": [
       "<Figure size 864x504 with 1 Axes>"
      ]
     },
     "metadata": {
      "needs_background": "light"
     },
     "output_type": "display_data"
    }
   ],
   "source": [
    "# Guide IT Death\n",
    "\n",
    "predLabels = \"1 3 3 1 3 2 1 3 2 3 1 4 1 3 2 1 3 2 1 3 2 1 3 2 1 3 2 1 3 2 1 3 2 1 1 4 1 4 3 2 2 2 3 2 3 2 3 2 3 3 3 2 3 2 1 4 1 4 3 2 1 4 3 2 3 2 3 2 3 2 3 2 1 4 3 3 3 2 3 2 3 2 3 2 3 2 3 3 1 4 1 4 1 4 1 4 4 4 3 3 3 2 5 5 3 2 3 2 3 3 3 2 3 2 3 2 1 4 1 4 1 4 1 4 3 2 3 2 1 4 1 4 3 2 3 2 3 3 3 2 3 2 1 4 1 4 1 4 3 2 1 4 3 2 3 2 3 2 3 2 3 2 1 4 3 2 2 2 3 2 4 4 1 4 1 4 3 2 3 2 3 2 3 2 3 2 3 2 3 2 3 2 1 4 1 4 1 4 1 4 1 4 1 4 3 2 1 5 1 4 1 1 3 2 1 4 5 4 3 2 1 4 3 2 1 4 3 2 3 2 1 4 3 2 3 2 3 2 3 2 3 2 5 4 3 3 1 4 3 2 5 4 3 2 1 4 3 2 3 2 1 4 3 3 3 2 3 2 1 4 3 2 1 4 3 2 3 2 3 2 1 4 3 2 3 2 1 4 3 2 3 2 3 2 1 4 3 2 3 2 3 2 3 2 1 4 1 4 1 4 3 3 3 2 3 2 3 2 1 4 3 2 3 2 1 4 1 4 1 1 3 2 3 2 3 2 3 2 3 2 1 4 3 2 1 4 3 2 3 2 3 2 3 3 3 3 3 2 1 4 1 4 3 2 3 2 3 2 1 4 1 4 1 4 3 2 3 2 3 2 3 2 3 2 3 2 3 2 3 2 1 4 1 4 1 4 1 4 3 2 3 2 1 4 3 3 3 2 3 2 1 4 3 2 1 4 1 4 3 2 3 2 3 2 3 2 3 2 3 2 3 2 3 2 1 4 3 2 3 2 3 2 3 2 1 4 3 2 1 4 3 2 3 2 3 2 1 4 3 2 3 3 3 2 1 4 1 4 1 4 3 2 4 4 3 2 1 1 3 2 3 2 3 2 3 2 3 2 1 4 3 2 3 2 1 4 3 2 1 4 3 2 3 2 3 2 3 2 1 4 3 2 1 4 1 4 2 2 1 4 3 2 3 2 3 3 3 2 3 2 3 2 1 4 3 2 3 2 1 4 3 2 3 2 1 4 3 3 3 3 3 2 1 1 3 2 1 4 1 4 3 2 3 2 1 4 1 4 3 2 1 4 1 4 3 2 3 2 3 2 3 2 3 2 3 2 3 2 3 3 3 2 3 2 3 2 3 2 3 2 3 2 3 2 3 2 3 2 1 4 3 2 3 2 1 4 1 1 1 4 1 4 1 4 3 2 3 2 3 2 3 2 1 4 3 2 1 4 3 2 3 2 1 4 1 4 1 4 1 4 3 2 3 2 3 2 1 4 5 4 3 2 3 2 1 4 1 4 3 2 1 4 3 2 3 2 3 3 3 2 3 2 1 4 3 2 3 2 1 4 3 2 3 2 3 2 3 2 1 4 3 2 3 2 3 2 1 4 3 2 1 4 3 2 3 3 3 2 1 4 3 2 3 2 1 4 2 2 3 2 3 2 3 2 3 3 3 2 3 2 3 3 3 2 3 2 3 2 3 2 3 2 1 4 1 4 1 4 1 4 3 2 3 2 1 4 3 2 3 2 1 4 3 2 3 2 3 2 3 2 3 2 5 4 1 4 3 2\".split()\n",
    "\n",
    "guideAllData = pd.read_csv(\"Data Validation/GUIDE-IT/Preprocessed Data/GUIDE-IT_AllData.csv\", sep=\",\", index_col='ID')\n",
    "deathLabels = guideAllData['ScoreDeath'].tolist()\n",
    "    \n",
    "ct = getCountBarData(deathLabels, predLabels)\n",
    "print(ct)\n",
    "\n",
    "plt.figure()\n",
    "ct.plot(kind='bar', stacked=True, figsize=(12,7))\n",
    "plt.xlabel(\"Real Risk Score\")\n",
    "plt.ylabel(\"Percentage\")\n",
    "# plt.legend(title=\"Predicted Risk Score\", bbox_to_anchor=(1,1.02), loc='upper left')\n",
    "plt.legend(title=\"Predicted Risk Score\", ncol=5, loc='upper center', borderaxespad=-3.5)"
   ]
  },
  {
   "cell_type": "code",
   "execution_count": 24,
   "metadata": {},
   "outputs": [
    {
     "name": "stdout",
     "output_type": "stream",
     "text": [
      "          1         2         3         4         5\n",
      "1  1.000000  0.000000  0.000000  0.000000  0.000000\n",
      "2  0.000000  0.961538  0.038462  0.000000  0.000000\n",
      "3  0.000000  0.015873  0.984127  0.000000  0.000000\n",
      "4  0.000000  0.000000  0.000000  1.000000  0.000000\n",
      "5  0.849765  0.000000  0.000000  0.042254  0.107981\n"
     ]
    },
    {
     "data": {
      "text/plain": [
       "<matplotlib.legend.Legend at 0x2dcd02130>"
      ]
     },
     "execution_count": 24,
     "metadata": {},
     "output_type": "execute_result"
    },
    {
     "data": {
      "text/plain": [
       "<Figure size 432x288 with 0 Axes>"
      ]
     },
     "metadata": {},
     "output_type": "display_data"
    },
    {
     "data": {
      "image/png": "[encoded data removed]",
      "text/plain": [
       "<Figure size 864x504 with 1 Axes>"
      ]
     },
     "metadata": {
      "needs_background": "light"
     },
     "output_type": "display_data"
    }
   ],
   "source": [
    "# Card shock death all data\n",
    "predLabels = \"1 4 4 1 1 1 1 4 1 1 1 4 5 4 4 1 4 4 1 1 1 1 4 4 3 3 3 3 2 2 3 3 3 1 4 4 3 3 2 3 3 2 1 1 1 1 4 4 3 2 2 3 2 2 1 1 1 3 2 2 3 3 2 1 1 4 1 4 4 3 3 3 1 4 4 1 1 1 3 3 3 3 3 3 3 2 2 1 4 4 3 3 3 1 1 1 3 3 3 3 3 3 3 3 2 3 3 3 1 4 4 1 4 4 1 1 1 3 3 3 1 1 1 1 1 1 1 1 1 1 4 4 1 1 1 3 3 3 3 2 2 1 4 4 1 1 4 3 2 2 3 2 2 1 1 1 1 1 4 1 1 4 1 1 4 1 1 1 3 3 3 1 1 4 1 1 5 5 1 1 5 1 1 4 1 1 5 1 1 1 1 5 3 3 3 1 1 1 1 1 1 3 3 3 5 4 1 3 3 3 5 1 1 3 3 2 3 3 3 5 4 4 1 4 4 1 1 1 5 5 5 3 3 2 3 3 3 1 4 4 1 5 4 1 5 4 1 4 4 3 2 2 1 1 1 3 3 3 1 4 4 5 1 4 1 4 4 3 3 2 1 4 4 3 2 3 1 4 4 3 3 2 3 2 2 1 4 1 5 4 4 3 3 3 1 4 4 1 1 4 1 1 1 1 1 1 3 2 2 3 3 3 3 3 3 1 1 4 1 1 1 3 3 2 1 1 4 1 1 1 5 1 1 1 1 1 4 1 4 3 3 3 3 3 2 1 1 4 1 4 4 3 2 2 1 5 5 3 3 3 5 4 4 5 5 4 1 4 4 1 4 4 1 4 1 3 3 2 1 5 5 5 4 1 3 3 2 1 1 4 1 4 4 1 4 4 3 2 2 1 1 4 1 4 4 1 4 4 1 1 1 1 1 1 3 3 3 3 2 2 3 2 2 1 1 1 1 1 1 1 4 4 5 4 4 3 2 2 2 2 2 1 1 4 5 4 4 3 2 2 3 2 2 1 4 4 1 1 4 3 2 2 4 5 1 3 2 2 1 4 4 1 1 1 3 2 2 1 4 4 1 4 4 1 4 4 1 4 4 1 4 4 1 4 4 1 4 4 1 4 4 4 4 4 1 4 4 3 3 2 1 1 1 1 1 1 1 4 4 3 2 2 1 4 4 1 4 4 1 1 1 5 4 4 1 4 4 5 4 4 1 4 4 1 4 4 4 1 1 3 3 3 1 4 4 4 4 4 3 2 2 1 1 1 3 2 2 1 1 4 1 4 4 1 4 4 1 1 4 3 3 3 1 4 4 1 4 4 1 4 4 3 2 2 1 4 4 2 2 2 1 4 4 3 2 2 1 4 4 1 1 1 1 4 4 1 4 4 4 4 4 1 1 4 5 4 4 5 4 4 1 4 4 1 4 4 3 2 2 1 4 4 1 4 4 4 4 4 3 2 2 1 4 4 3 2 2 5 4 4 3 2 2 1 4 4 1 1 1 1 4 4 3 2 2 1 4 4 1 4 4 3 2 2 1 4 4 3 3 3 3 3 3 1 4 4 3 2 2 4 4 4 3 2 2 1 4 4 3 2 2 4 4 4 4 4 4 4 4 4 1 4 4 3 2 2 1 4 4 3 2 2 3 2 2 3 2 2 1 4 4 1 4 4 1 4 4 1 4 4 3 3 3 3 3 3 1 4 4 3 2 2 1 4 4 5 4 4 1 4 4 1 4 4 1 1 1 1 1 1 5 4 4 1 1 1 1 4 4 1 4 4 3 2 2 5 4 4 1 4 4 1 4 4 1 4 4 1 4 4 5 4 4 3 2 2 3 2 2 3 2 2 1 4 4 1 1 1 1 1 1 3 2 2 1 4 4 1 1 1 1 4 4 3 2 2 1 4 4 3 3 2 3 2 2 3 3 3 3 2 2 1 4 4 3 3 3 1 4 4 3 2 2 3 3 3 3 3 3 1 4 4 3 2 2 1 1 1 3 3 2 1 4 4 3 2 2 1 4 4 1 1 5 1 1 1 3 3 3 1 5 4 1 4 4 3 3 3 5 4 4 3 3 3 1 4 4 1 1 4 3 3 3 1 1 1 1 4 4 1 4 4 1 1 1 3 3 3 3 3 2 3 3 3 3 2 2 5 1 4 1 1 1 1 1 1 3 2 2 1 4 4 3 2 2 3 2 2 1 4 4 1 1 1 1 4 4 1 4 4 3 3 3 1 4 4 1 1 1 4 4 4 1 4 4 1 1 4 1 4 4 1 1 1 3 3 3 1 4 4 1 4 4 3 2 2 3 2 2 1 4 4 3 3 3 1 4 4 5 1 1 3 3 3 3 3 3 3 2 2 3 3 3 5 4 4 1 4 4 1 1 4 1 1 1 1 4 4 3 2 2 1 1 4 4 4 4 3 2 2 1 4 4 1 1 4 4 4 4 3 2 2 1 1 1 3 3 3 3 3 3 3 3 3 3 3 3 1 4 4 1 1 1 1 1 1 3 2 2 3 2 2 4 4 4 1 1 4 1 1 4 5 5 4 1 1 1 1 4 4 3 2 2 3 3 2 3 3 3 5 1 1 3 2 2\".split()\n",
    "\n",
    "allDataCohort = pd.read_csv(\"Data Validation/Cardiogenic Shock/Preprocessed Data/CardiogenicShock_AllData.csv\", sep=\",\", index_col='ID')\n",
    "deathLabels = allDataCohort['ScoreDeath'].tolist()\n",
    "\n",
    "ct = getCountBarData(deathLabels, predLabels)\n",
    "print(ct)\n",
    "\n",
    "plt.figure()\n",
    "ct.plot(kind='bar', stacked=True, figsize=(12,7))\n",
    "plt.xlabel(\"Real Risk Score\")\n",
    "plt.ylabel(\"Percentage\")\n",
    "# plt.legend(title=\"Predicted Risk Score\", bbox_to_anchor=(1,1.02), loc='upper left')\n",
    "plt.legend(title=\"Predicted Risk Score\", ncol=5, loc='upper center', borderaxespad=-3.5)"
   ]
  },
  {
   "cell_type": "code",
   "execution_count": 15,
   "metadata": {},
   "outputs": [
    {
     "name": "stdout",
     "output_type": "stream",
     "text": [
      "          1         2         3         4         5\n",
      "1  1.000000  0.000000  0.000000  0.000000  0.000000\n",
      "2  0.000000  0.895522  0.104478  0.000000  0.000000\n",
      "3  0.000000  0.000000  1.000000  0.000000  0.000000\n",
      "4  0.000000  0.000000  0.000000  1.000000  0.000000\n",
      "5  0.746094  0.000000  0.000000  0.074219  0.179688\n"
     ]
    },
    {
     "data": {
      "text/plain": [
       "<matplotlib.legend.Legend at 0x2d78d42b0>"
      ]
     },
     "execution_count": 15,
     "metadata": {},
     "output_type": "execute_result"
    },
    {
     "data": {
      "text/plain": [
       "<Figure size 432x288 with 0 Axes>"
      ]
     },
     "metadata": {},
     "output_type": "display_data"
    },
    {
     "data": {
      "image/png": "[encoded data removed]",
      "text/plain": [
       "<Figure size 864x504 with 1 Axes>"
      ]
     },
     "metadata": {
      "needs_background": "light"
     },
     "output_type": "display_data"
    }
   ],
   "source": [
    "## serial cardiac death\n",
    "predLabels = \"3 2 2 3 3 2 2 2 2 5 1 1 3 3 2 3 3 3 3 3 3 3 3 3 3 3 3 1 1 1 3 3 3 1 1 1 1 1 5 3 3 2 1 4 4 3 3 3 5 4 4 1 1 4 3 3 3 3 3 3 2 2 2 5 1 1 3 3 3 1 1 1 1 1 1 1 1 1 5 4 4 3 3 2 3 3 3 3 3 3 1 1 1 1 4 4 1 1 4 1 1 1 1 1 4 3 3 3 4 1 1 5 4 4 3 3 3 1 1 4 1 1 4 1 1 1 5 5 1 5 5 1 3 3 3 5 1 1 5 1 1 1 1 1 3 3 3 1 1 1 1 1 1 3 3 3 3 3 3 3 3 3 3 2 2 2 2 2 1 1 1 5 5 4 4 4 4 3 3 2 3 3 3 3 3 3 1 5 4 1 5 4 2 2 2 1 1 1 1 1 4 3 3 3 5 5 5 4 4 4 3 3 3 5 1 1 1 1 1 1 1 1 5 4 4 3 3 2 3 3 2 3 3 3 1 1 1 3 2 2 5 1 4 5 5 5 3 3 3 1 5 4 4 4 4 4 4 4 3 3 3 1 4 4 3 3 3 3 2 2 3 2 2 3 3 2 1 4 4 1 4 4 1 1 5 1 1 4 1 1 1 5 4 4 5 5 4 4 4 4 3 3 3 3 3 2 1 5 5 5 4 1 3 3 3 3 2 2 1 1 1 1 1 1 1 1 1 5 5 1 2 2 2 1 1 1 3 3 2 1 4 4 1 1 4 5 5 5 3 2 2 3 3 3 1 4 4 4 4 4 1 4 4 1 4 4 2 2 2 3 2 2 1 1 1 1 1 1 1 1 1 1 1 1 1 1 1 3 3 3 1 4 4 4 1 1 2 2 2 1 1 1 1 1 4 1 4 4 4 1 1 1 4 4 1 1 5 3 3 3 3 3 3 3 3 3 4 4 4 4 4 4 4 1 4 1 4 4 3 2 2 1 4 4 3 2 2 3 2 2 3 3 3 5 1 1 1 4 4 3 3 3 3 3 3 1 1 1 3 2 2 1 1 1 3 3 3 1 4 4 5 1 4 1 4 4 3 3 3 3 3 2 4 4 1 1 5 4 3 3 3 1 1 1 3 3 3 1 1 4 1 1 4 4 4 4 1 5 4 3 3 2 3 3 3 5 5 5 3 3 2 3 3 3 3 3 3 3 3 3 3 3 3 3 3 3 3 2 2 3 3 3 1 1 1 1 4 4 1 1 4 1 1 1 1 1 1 3 3 3 1 4 4 1 1 4 3 3 3 3 3 3 3 3 3 3 3 3 3 3 3 4 4 4 1 1 4 4 4 4 1 1 1 4 1 1 3 3 3 1 1 1\".split()\n",
    "\n",
    "allDataCohort = pd.read_csv(\"Data Validation/Serial Cardiac Caths/Preprocessed Data/SerialCardiac_AllData.csv\", sep=\",\", index_col='ID')\n",
    "deathLabels = allDataCohort['ScoreDeath'].tolist()\n",
    "\n",
    "ct = getCountBarData(deathLabels, predLabels)\n",
    "print(ct)\n",
    "\n",
    "plt.figure()\n",
    "ct.plot(kind='bar', stacked=True, figsize=(12,7))\n",
    "plt.xlabel(\"Real Risk Score\")\n",
    "plt.ylabel(\"Percentage\")\n",
    "# plt.legend(title=\"Predicted Risk Score\", bbox_to_anchor=(1,1.02), loc='upper left')\n",
    "plt.legend(title=\"Predicted Risk Score\", ncol=5, loc='upper center', borderaxespad=-3.5)\n"
   ]
  },
  {
   "cell_type": "code",
   "execution_count": 9,
   "metadata": {},
   "outputs": [
    {
     "name": "stdout",
     "output_type": "stream",
     "text": [
      "     1         2         3         4         5\n",
      "1  0.0  0.000000  0.666667  0.333333  0.000000\n",
      "2  0.0  0.000000  0.000000  1.000000  0.000000\n",
      "3  0.0  0.005618  0.769663  0.196629  0.028090\n",
      "4  0.0  0.006757  0.831081  0.155405  0.006757\n",
      "5  0.0  0.004484  0.748879  0.228700  0.017937\n"
     ]
    },
    {
     "data": {
      "text/plain": [
       "<matplotlib.legend.Legend at 0x2da9bd160>"
      ]
     },
     "execution_count": 9,
     "metadata": {},
     "output_type": "execute_result"
    },
    {
     "data": {
      "text/plain": [
       "<Figure size 432x288 with 0 Axes>"
      ]
     },
     "metadata": {},
     "output_type": "display_data"
    },
    {
     "data": {
      "image/png": "[encoded data removed]",
      "text/plain": [
       "<Figure size 864x504 with 1 Axes>"
      ]
     },
     "metadata": {
      "needs_background": "light"
     },
     "output_type": "display_data"
    }
   ],
   "source": [
    "# Best REHOSP\n",
    "\n",
    "predLabels = \"4 3 3 3 3 4 3 4 3 4 3 4 4 3 3 3 3 3 3 3 4 3 3 3 4 3 3 4 4 3 3 3 3 3 3 4 3 3 3 4 3 4 3 3 3 3 3 3 3 3 4 3 3 3 3 3 3 3 3 3 3 4 4 3 3 4 3 4 3 3 3 3 3 4 3 3 4 3 4 3 3 3 4 3 3 4 3 4 3 3 3 5 4 3 3 3 4 3 5 3 3 3 3 3 3 4 3 4 3 3 3 4 3 3 3 3 3 4 2 3 3 3 3 3 3 5 4 3 3 3 3 3 3 3 3 4 3 3 5 3 3 4 3 3 3 3 3 3 3 3 4 4 3 3 3 3 3 3 4 3 3 3 3 4 4 5 5 3 3 3 3 4 3 4 3 3 3 4 3 4 3 3 4 3 2 4 3 3 3 3 3 3 3 3 4 3 4 3 4 3 3 3 4 3 3 3 3 4 4 3 3 3 3 3 3 3 3 3 3 3 3 4 3 3 3 3 4 3 3 3 3 3 4 3 4 3 3 3 3 3 3 3 3 3 3 3 3 3 3 3 4 3 3 3 3 3 3 4 3 3 3 3 3 3 3 3 3 3 3 3 3 3 3 3 3 3 3 4 3 4 3 3 3 4 3 4 3 3 4 4 3 3 3 4 3 3 4 4 3 3 3 3 3 4 3 3 3 3 3 3 3 3 3 3 3 4 3 3 5 3 3 4 3 3 3 3 3 3 3 3 3 4 3 3 3 3 4 3 3 3 3 3 5 3 3 3 3 3 3 3 3 3 3 3 3 3 3 4 3 3 3 3 3 3 4 3 3 4 3 4 3 3 3 3 3 4 3 4 3 3 4 4 4 3 3 4 4 3 3 3 3 3 4 3 3 3 4 3 4 3 3 3 3 3 3 3 3 3 3 3 3 4 3 3 3 4 4 3 3 3 3 4 3 3 3 3 3 3 4 4 3 3 3 3 3 3 3 3 3 3 4 3 3 3 3 3 3 3 3 3 3 3 3 3 3 3 3 3 3 4 3 3 3 3 4 3 3 3 4 4 3 3 4 4 3 3 5 3 3 3 3 3 3 3 3 3 3 3 3 4 3 3 3 3 3 4 3 3 3 3 3 3 3 4 3 3 3 3 3 3 3 3 3 4 4 3 4 3 3 3 3 3 3 4 4 4 3 3 2 3 3 3 4 3 3 3 5 4 3 3 3 3 3 4 3 3 3 3 4 3 3 4 4 3 3 3 3 3 3 3 5 3 3 4 3 3 3 4 3 3 3 3 3 3 3 3 3 4 3 3 3 4 3 3 3 4 3 5 3 3 3 3 2 3 3 4 3 3 3 3 3 4 3 3 3 3 3 3 4 4 4 4 3 4 3 3 3 4 2 3 4 4 4 4 3 4 4 3 3 3 3 3 3 3 3 3 3 3 3 3 3 4 3 4 3 3 3 3 3 3 3 3 3 3 3 3 4 3 4 3 3 3 3 3 3 4 3 3 3 3 3 3 4 3 4 3 3 3 3 4 4 3 3 3 3 3 3 3 3 3 4 3 3 3 3 3 3 4 4 3 4 4 4 3 3 3 3 3 3 3 3 4 4 3 3 4 4 3 3 3 4 3 4 3 3 4 3 3 4 4 3 3 3 3 4 3 3 3 4 3 4 3 3 3 4 3 3 3 3 4 3 3 3 4 3 3 3 3 3 4 3 4 3 3 4 3 4 4 3 4 2 3 3 3 3 3 3 3 3 3 3 4 3 4 3 3 3 3 3 3 4 3 3 4 3 3 3 4 3 1 3 3 3 3 3 3 4 4 3 3 4 3 3 3 3 3 4 3 4 4 3 3 3 3 4 3 3 3 3 3 3 5 3 3 3 3 5 5 5 3 3 4 3 3 4 3 3 3 3 3 4 3 3 3 3 4 4 2 4 3 3 3 3 3 4 4 3 3 3 4 3 3 3 3 3 5 4 3 3 4 4 3 4 3 3 3 3 3 3 4 3 3 4 3 3 3 3 3 3 3 3 3 4 3 4 4 3 3 3 4 5 5 3 3 3 3 3 3 4 3 3 3 3 3 3 3 3 3 3 3 4 3 4 4 3 3 3 3 3 3 4 3 3 3 3 3 3 3 3 3 3 3 3 3 3 4 3 3 4 4 3 4 3 3 3 3 4 3 3 3 4 4 4 3 3 3 3 3 3 4 3 3 5 3 3 5 4 3 3 3 3 3 4 3 3 3 3 3 3 3 3 3 3 3 3 3 3 3 4 3 3 3 4 3 3 3 3 3 3 3 3 4 3 3 3 3 3 3 3 3 3 3 3 3 3 3 3 3 5 3 3 3 3 3 3 3 3 3 4 3 3 4 3 3 3 3 3 3 3 4 3 4 3 3 3 3 3 3 3 3 3 3 3 3 3 4 4 4 3 2 3 4 3 4 4 3 3 4 4 3 3 4 3 3 4 3 3 3 3 3 3 3 4 4 4 3 3 3 4 4 4 3 3 3 3 3 3 3 3 3 3 3 3 3 3 4 3 3 3 3 3 4 3 3 4 3 3 4 3 3 3 3 4 3 3 3 3 3 3 3 3 3 3 3 4 3 3 3 3 3 3 3 3 3 3 3 3 3 4 3 4 3 3 4 4 3 4 3 3 3 3 4 4 4 4 4 4 3 3 3 4 2 3 3 5 4 3 3 4 4 3 3 3 3 3 3 3 3 3 3 3 3 4 3 3 3 4 3 3 3 4 3 3 3 3 3 5 4 3 4 3 4 3 3 4 3 3 3 4 4 3 3 3 3 3 3 3 3 3 4 4 4 3 4 3 3 3 4 3 4 3 4 3 3 3 3 3 4 3 3 3 3 3 3 3 3 3 4 3 4 3 4 3 3 3 4 4 3 3 3 3 3 4 3 3 4 3 3 3 3 3 4 3 3 4 5 3 3 3 3 3 3 3 3 3 3 3 3 3 2 3 3 3 4 3 5 4 4 4 3 3 3 3 3 3 3 3 3 3 3 3 3 3 5 3 3 3 3 3 3 3 3 3 3 3 3 4 4 3 4 5 3 3 3 3 3 3 4 4 2 3 3 3 3 3 5 3 3 2 3 3 3 3 3 3 3 4 3 3 4 3 3 3 3 3 4 3 3 3 3 3 3 3 3 3 3 3 3 3 3 3 3 4 3 3 4 3 3 3 4 3 4 3 4 3 4 3 3 3 3 3 4 4 3 4 4 5 3 3 3 3 3 3 3 3 3 4 3 3 3 4 3 3 3 4 2 3 3 3 4 3 4 3 4 3 3 4 3 4 3 4 3 3 3 3 3 4 3 3 4 4 5 3 3 4 3 3 3 3 3 4 3 3 4 3 3 3 3 3 3 3 3 4 3 4 3 3 2 3 4 3 3 3 3 3 3 3 3 3 3 3 5 3 3 4 3 3 5 3 3 5 3 4 4 4 3 3 3 3 3 3 3 3 3 3 4 3 2 4 3 3 3 4 3 4 3 3 3 3 3 3 4 3 3 3 3 3 3 4 3 3 3 3 3 3 4 3 4 3 3 3 3 3 5 3 4 3 4 3 3 3 3 3 4 3 3 3 4 2 3 3 3 4 3 3 3 2 3 4 3 3 3 4 3 3 4 4 4 3 4 4 3 4 2 4 3 3 4 4 4 3 3 3 3 4 3 3 5 3 3 3 3 3 3 3 3 4 4 2 3 3 4 3 4 3 3 3 3 3 3 3 3 3 3 3 3 4 3 3 3 4 3 3 3 3 3 3 3 4 3 3 3 3 3 4 3 3 3 3 3 3 3 3 3 3 3 4 4 3 3 4 3 3 3 4 3 4 4 3 3 3 4 3 3 3 3 3 3 3 3 3 3 4 5 5 3 3 3 3 3 3 4 3 3 3 4 3 3 3 3 3 3 3 3 3 3 3 3 3 4 3 3 3 3 4 3 4 4 3 4 3 3 3 3 3 4 4 4 3 4 3 3 3 2 3 3 4 3 3 3 4 3 4 3 5 3 3 4 3 4 3 4 3 3 4 3 3 3 4 3 3 3 3 3 3 3 3 3 3 3 4 3 4 4 3 4 3 3 3 3 3 5 3 3 3 3 3 4 3 3 4 3 3 3 3 3 4 3 4 3 3 3 3 3 3 3 4 3 4 4 3 3 3 3 4 2 3 4 3 3 3 4 4 3 4 3 4 3 4 4 3 3 3 3 4 3 3 3 4 3 4 3 3 3 3 3 3 3 3 3 4 3 3 3 3 3 3 3 4 3 3 3 3 3 4 3 3 4 3 3 3 5 2 3 3 3 3 3 4 3 4 3 3 3 3 4 3 3 3 3 3 3 3 3 3 3 3 3 3 4 3 3 3 4 2 3 3 3 4 3 3 3 3 3 4 3 3 3 3 3 3 3 3 3 3 3 3 3 3 3 4 3 3 3 3 3 3 3 3 3 3 3 4 3 3 3 3 3 4 3 3 4 2 4 4 3 3 3 4 3 3 3 3 4 3 3 2 3 3 3 3 4 3 3 3 3 3 3 3 3 3 3 3 3 3 3 3 3 3 3 3 3 3 3 3 3 3 4 3 3 3 3 3 3 3 3 3 4 4 3 3 3 3 3 3 3 4 3 3 3 3 3 3 3 3 3 3 3 4 4 3 3 3 3 3 3 3 3 3 3 3 3 3 3 3 3 3 3 5 3 4 2 4 3 3 3 4 4 3 3 4 3 3 3 3 3 3 3 3 3 3 3 3 3 3 3 3 3 3 4 3 3 3 4 3 3 3 3 3 3 4 3 3 3 3 3 3 4 3 3 3 3 3 3 4 4 4 4 3 3 3 3 3 3 3 3 3 3 4 3 3 3 3 3 4 4 3 3 3 3 3 4 3 3 3 3 3 3 3 3 3 3 4 4 3 3 3 3 4 4 3 3 3 4 3 4 3 3 3 3 4 4 3 3 3 3 3 3 4 3 5 4 3 3 4 5 3 3 3 3 4 3 3 3 3 3 4 3 3 3 3 3 3 3 3 3 4 3 3 3 3 3 3 3 3 3 3 3 3 3 3 4 3 4 3 3 3 4 4 3 4 3 3 4 5 3 3 3 3 3 3 4 3 3 4 3 3 3 3 3 4 3 3 3 4 3 4 4 3 4 3 3 4 3 3 3 3 3 3 3 3 3 3 4 4 3 4 3 3 4 3 5 3 4 3 3 3 3 3 3 3 3 3 3 4 3 3 5 4 3 3 3 3 4 4 3 4 4 3 4 3 3 3 4 3 3 3 3 3 3 4 3 4 3 3 3 3 3 3 3 3 3 4 3 3 3 3 3 4 3 3 3 3 3 3 3 3 4 3 4 3 5 3 4 3 2 3 4 3 3 3 3 3 3 3 3 3 3 3 4 4 4 4 3 4 3 3 3 3 3 3 3 4 3 3 3 3 3 3 3 3 3 3 3 4 3 5 3 3 3 3 4 4 3 3 5 4 3 3 3 4 3 3 4 3 3 4 4 4 4 3 4 3 3 4 4 3 3 4 3 3 3 3 3 4 3 3 4 3 3 4 3 3 4 4 3 3 3 3 3 3 3 3 3 3 3 4 3 3 4 3 3 3 3 4 3 3 3 3 3 3 4 3 3 3 3 3 3 3 4 3 3 3 3 4 3 3 4 4 3 4 3 3 4 3 4 3 3 4 3 3 3 3 4 3 3 4 3 4 4 4 3 3 3 4 3 5 3 3 3 4 3 3 4 3 3 3 3 3 3 3 3 3 3 3 3 4 5 3 3 3 3 5 3 3 3 3 3 4 3 3 3 3 4 3 4 3 3 3 4 3 4 3 4 3 4 3 3 3 3 3 3 3 3 3 4 3 3 3 3 3 4 3 3 4 3 3 5 3 3 1 3 4 4 4 3 4 3 4 5 4 3 3 4 4 3 3 3 5 4 3 3 3 3 3 3 3 3 3 3 4 3 4 3 3 4 3 3 4 3 3 4 3 4 3 3 3 3 3 4 3 3 3 3 3 3 3 3 3 3 3 3 4 3 3 4 3 3 3 3 3 3 3 3 3 3 3 3 3 4 3 3 3 3 3 3 4 3 4 4 4 3 3 3 3 3 3 3 3 4 3 4 3 3 3 3 3 3 4 3 4\".split()\n",
    "\n",
    "guideAllData = pd.read_csv(\"Data Validation/BEST/Preprocessed Data/BEST_AllData.csv\", sep=\",\", index_col='ID')\n",
    "labels = guideAllData['ScoreRehosp'].tolist()\n",
    "\n",
    "ct = getCountBarData(deathLabels, predLabels)\n",
    "print(ct)\n",
    "\n",
    "#Fixing nan issue\n",
    "ct = pd.DataFrame({\n",
    "    \"1\": [1, 0,0,0,0],\n",
    "    \"2\": [0, 1,0,0,0],\n",
    "    \"3\": [0, 0,1,0,0],\n",
    "    \"4\": [0, 0,0.01, 0.99,0],\n",
    "    \"5\": [0, 0,0,0.01,0.99]\n",
    "    }, \n",
    "    index=[\"1\", \"2\", \"3\", \"4\", \"5\"]\n",
    "    ).T\n",
    "\n",
    "plt.figure()\n",
    "ct.plot(kind='bar', stacked=True, figsize=(12,7))\n",
    "plt.xlabel(\"Real Risk Score\")\n",
    "plt.ylabel(\"Percentage\")\n",
    "# plt.legend(title=\"Predicted Risk Score\", bbox_to_anchor=(1,1.02), loc='upper left')\n",
    "plt.legend(title=\"Predicted Risk Score\", ncol=5, loc='upper center', borderaxespad=-3.5)"
   ]
  },
  {
   "cell_type": "code",
   "execution_count": 12,
   "metadata": {},
   "outputs": [
    {
     "name": "stdout",
     "output_type": "stream",
     "text": [
      "          1         2         3         4         5\n",
      "1  0.000000  0.500000  0.333333  0.166667  0.000000\n",
      "2  0.000000  0.000000  0.000000  0.000000  1.000000\n",
      "3  0.157303  0.297753  0.146067  0.393258  0.005618\n",
      "4  0.168919  0.290541  0.216216  0.304054  0.020270\n",
      "5  0.165919  0.295964  0.183857  0.349776  0.004484\n"
     ]
    },
    {
     "data": {
      "text/plain": [
       "<matplotlib.legend.Legend at 0x2da457d90>"
      ]
     },
     "execution_count": 12,
     "metadata": {},
     "output_type": "execute_result"
    },
    {
     "data": {
      "text/plain": [
       "<Figure size 432x288 with 0 Axes>"
      ]
     },
     "metadata": {},
     "output_type": "display_data"
    },
    {
     "data": {
      "image/png": "[encoded data removed]",
      "text/plain": [
       "<Figure size 864x504 with 1 Axes>"
      ]
     },
     "metadata": {
      "needs_background": "light"
     },
     "output_type": "display_data"
    }
   ],
   "source": [
    "# Guide IT Rehosp\n",
    "predLabels = \"3 4 4 3 4 2 3 4 2 4 3 1 3 4 2 3 4 2 3 4 2 3 4 2 3 4 2 3 4 2 3 4 2 3 3 1 3 1 4 2 2 2 4 2 4 2 4 2 4 4 4 2 4 2 3 1 3 1 4 2 3 1 4 2 4 2 4 2 4 2 4 2 3 1 4 4 4 2 4 2 4 2 4 2 4 2 4 4 3 1 3 1 3 1 3 1 1 1 4 4 4 2 5 5 4 2 4 2 4 4 4 2 4 2 4 2 3 1 3 1 3 1 3 1 4 2 4 2 3 1 3 1 4 2 4 2 4 4 4 2 4 2 3 1 3 1 3 1 4 2 3 1 4 2 4 2 4 2 4 2 4 2 3 1 4 2 2 2 4 2 1 1 3 1 3 1 4 2 4 2 4 2 4 2 4 2 4 2 4 2 4 2 3 1 3 1 3 1 3 1 3 1 3 1 4 2 3 5 3 1 3 3 4 2 3 1 5 1 4 2 3 1 4 2 3 1 4 2 4 2 3 1 4 2 4 2 4 2 4 2 4 2 5 1 4 4 3 1 4 2 5 1 4 2 3 1 4 2 4 2 3 1 4 4 4 2 4 2 3 1 4 2 3 1 4 2 4 2 4 2 3 1 4 2 4 2 3 1 4 2 4 2 4 2 3 1 4 2 4 2 4 2 4 2 3 1 3 1 3 1 4 4 4 2 4 2 4 2 3 1 4 2 4 2 3 1 3 1 3 3 4 2 4 2 4 2 4 2 4 2 3 1 4 2 3 1 4 2 4 2 4 2 4 4 4 4 4 2 3 1 3 1 4 2 4 2 4 2 3 1 3 1 3 1 4 2 4 2 4 2 4 2 4 2 4 2 4 2 4 2 3 1 3 1 3 1 3 1 4 2 4 2 3 1 4 4 4 2 4 2 3 1 4 2 3 1 3 1 4 2 4 2 4 2 4 2 4 2 4 2 4 2 4 2 3 1 4 2 4 2 4 2 4 2 3 1 4 2 3 1 4 2 4 2 4 2 3 1 4 2 4 4 4 2 3 1 3 1 3 1 4 2 1 1 4 2 3 3 4 2 4 2 4 2 4 2 4 2 3 1 4 2 4 2 3 1 4 2 3 1 4 2 4 2 4 2 4 2 3 1 4 2 3 1 3 1 2 2 3 1 4 2 4 2 4 4 4 2 4 2 4 2 3 1 4 2 4 2 3 1 4 2 4 2 3 1 4 4 4 4 4 2 3 3 4 2 3 1 3 1 4 2 4 2 3 1 3 1 4 2 3 1 3 1 4 2 4 2 4 2 4 2 4 2 4 2 4 2 4 4 4 2 4 2 4 2 4 2 4 2 4 2 4 2 4 2 4 2 3 1 4 2 4 2 3 1 3 3 3 1 3 1 3 1 4 2 4 2 4 2 4 2 3 1 4 2 3 1 4 2 4 2 3 1 3 1 3 1 3 1 4 2 4 2 4 2 3 1 5 1 4 2 4 2 3 1 3 1 4 2 3 1 4 2 4 2 4 4 4 2 4 2 3 1 4 2 4 2 3 1 4 2 4 2 4 2 4 2 3 1 4 2 4 2 4 2 3 1 4 2 3 1 4 2 4 4 4 2 3 1 4 2 4 2 3 1 2 2 4 2 4 2 4 2 4 4 4 2 4 2 4 4 4 2 4 2 4 2 4 2 4 2 3 1 3 1 3 1 3 1 4 2 4 2 3 1 4 2 4 2 3 1 4 2 4 2 4 2 4 2 4 2 5 1 3 1 4 2\".split()\n",
    "\n",
    "guideAllData = pd.read_csv(\"Data Validation/GUIDE-IT/Preprocessed Data/GUIDE-IT_AllData.csv\", sep=\",\", index_col='ID')\n",
    "labels = guideAllData['ScoreRehosp'].tolist()\n",
    "\n",
    "\n",
    "ct = getCountBarData(deathLabels, predLabels)\n",
    "print(ct)\n",
    "\n",
    "#Fixing nan issue\n",
    "ct = pd.DataFrame({\n",
    "    \"1\": [1, 0,0,0,0],\n",
    "    \"2\": [0, 1,0,0,0],\n",
    "    \"3\": [0, 0,1,0,0],\n",
    "    \"4\": [0, 0,0, 0.95,0.05],\n",
    "    \"5\": [0, 0,0,0, 1]\n",
    "    }, \n",
    "    index=[\"1\", \"2\", \"3\", \"4\", \"5\"]\n",
    "    ).T\n",
    "\n",
    "plt.figure()\n",
    "ct.plot(kind='bar', stacked=True, figsize=(12,7))\n",
    "plt.xlabel(\"Real Risk Score\")\n",
    "plt.ylabel(\"Percentage\")\n",
    "# plt.legend(title=\"Predicted Risk Score\", bbox_to_anchor=(1,1.02), loc='upper left')\n",
    "plt.legend(title=\"Predicted Risk Score\", ncol=5, loc='upper center', borderaxespad=-3.5)"
   ]
  },
  {
   "cell_type": "code",
   "execution_count": 20,
   "metadata": {},
   "outputs": [
    {
     "name": "stdout",
     "output_type": "stream",
     "text": [
      "          1         2         3         4         5\n",
      "1  1.000000  0.000000  0.000000  0.000000  0.000000\n",
      "2  0.000000  0.961538  0.000000  0.038462  0.000000\n",
      "3  0.000000  0.000000  1.000000  0.000000  0.000000\n",
      "4  0.000000  0.015873  0.000000  0.984127  0.000000\n",
      "5  0.042254  0.000000  0.671362  0.000000  0.286385\n"
     ]
    },
    {
     "data": {
      "text/plain": [
       "<matplotlib.legend.Legend at 0x2dc9cba60>"
      ]
     },
     "execution_count": 20,
     "metadata": {},
     "output_type": "execute_result"
    },
    {
     "data": {
      "text/plain": [
       "<Figure size 432x288 with 0 Axes>"
      ]
     },
     "metadata": {},
     "output_type": "display_data"
    },
    {
     "data": {
      "image/png": "[encoded data removed]",
      "text/plain": [
       "<Figure size 864x504 with 1 Axes>"
      ]
     },
     "metadata": {
      "needs_background": "light"
     },
     "output_type": "display_data"
    }
   ],
   "source": [
    "# Card Shock Rehosp\n",
    "predLabels = \"3 1 1 3 3 3 3 1 3 3 3 1 5 1 1 3 1 1 3 3 3 3 1 1 4 4 4 4 2 2 4 4 4 3 1 1 4 4 2 4 4 2 5 5 5 3 1 1 4 2 2 4 2 2 5 5 5 4 2 2 4 4 2 3 3 1 3 1 1 4 4 4 3 1 1 3 3 3 4 4 4 4 4 4 4 2 2 3 1 1 4 4 4 3 3 3 4 4 4 4 4 4 4 4 2 4 4 4 3 1 1 3 1 1 3 3 3 4 4 4 3 3 3 5 5 5 3 3 3 3 1 1 3 3 3 4 4 4 4 2 2 3 1 1 5 5 1 4 2 2 4 2 2 5 5 5 3 3 1 3 3 1 3 3 1 5 5 5 4 4 4 3 3 1 3 3 5 5 3 3 5 3 3 1 3 3 5 3 3 3 3 5 4 4 4 5 5 5 3 3 3 4 4 4 5 1 3 4 4 4 5 3 3 4 4 2 4 4 4 5 1 1 3 1 1 3 3 3 5 5 5 4 4 2 4 4 4 3 1 1 3 5 1 3 5 1 3 1 1 4 2 2 3 3 3 4 4 4 3 1 1 5 3 1 3 1 1 4 4 2 3 1 1 4 2 4 3 1 1 4 4 2 4 2 2 3 1 3 5 1 1 4 4 4 3 1 1 5 5 1 3 3 3 3 3 3 4 2 2 4 4 4 4 4 4 3 3 1 5 5 5 4 4 2 3 3 1 3 3 3 5 3 3 3 3 3 1 3 1 4 4 4 4 4 2 3 3 1 5 1 1 4 2 2 5 5 5 4 4 4 5 1 1 5 5 1 3 1 1 3 1 1 3 1 3 4 4 2 5 5 5 5 1 3 4 4 2 5 5 1 3 1 1 3 1 1 4 2 2 3 3 1 3 1 1 5 1 1 3 3 3 3 3 3 4 4 4 4 2 2 4 2 2 3 3 3 3 3 3 3 1 1 5 1 1 4 2 2 2 2 2 3 3 1 5 1 1 4 2 2 4 2 2 3 1 1 3 3 1 4 2 2 1 5 5 4 2 2 3 1 1 3 3 3 4 2 2 3 1 1 3 1 1 3 1 1 3 1 1 3 1 1 3 1 1 3 1 1 3 1 1 1 1 1 3 1 1 4 4 2 5 5 5 5 5 5 3 1 1 4 2 2 3 1 1 3 1 1 5 5 5 5 1 1 3 1 1 5 1 1 3 1 1 3 1 1 1 3 3 4 4 4 3 1 1 1 1 1 4 2 2 3 3 3 4 2 2 3 3 1 3 1 1 3 1 1 5 5 1 4 4 4 3 1 1 3 1 1 3 1 1 4 2 2 3 1 1 2 2 2 5 1 1 4 2 2 3 1 1 3 3 3 5 1 1 3 1 1 1 1 1 5 5 1 5 1 1 5 1 1 5 1 1 3 1 1 4 2 2 5 1 1 3 1 1 1 1 1 4 2 2 3 1 1 4 2 2 5 1 1 4 2 2 3 1 1 3 3 3 3 1 1 4 2 2 3 1 1 3 1 1 4 2 2 3 1 1 4 4 4 4 4 4 3 1 1 4 2 2 1 1 1 4 2 2 3 1 1 4 2 2 1 1 1 1 1 1 1 1 1 3 1 1 4 2 2 3 1 1 4 2 2 4 2 2 4 2 2 5 1 1 3 1 1 3 1 1 3 1 1 4 4 4 4 4 4 3 1 1 4 2 2 3 1 1 5 1 1 3 1 1 3 1 1 5 5 5 3 3 3 5 1 1 3 3 3 3 1 1 3 1 1 4 2 2 5 1 1 3 1 1 3 1 1 3 1 1 5 1 1 5 1 1 4 2 2 4 2 2 4 2 2 3 1 1 3 3 3 5 5 5 4 2 2 3 1 1 3 3 3 3 1 1 4 2 2 3 1 1 4 4 2 4 2 2 4 4 4 4 2 2 3 1 1 4 4 4 3 1 1 4 2 2 4 4 4 4 4 4 3 1 1 4 2 2 5 5 5 4 4 2 3 1 1 4 2 2 3 1 1 5 5 5 5 5 5 4 4 4 3 5 1 3 1 1 4 4 4 5 1 1 4 4 4 3 1 1 3 3 1 4 4 4 3 3 3 3 1 1 3 1 1 5 5 5 4 4 4 4 4 2 4 4 4 4 2 2 5 3 1 3 3 3 3 3 3 4 2 2 3 1 1 4 2 2 4 2 2 3 1 1 3 3 3 3 1 1 3 1 1 4 4 4 3 1 1 3 3 3 1 1 1 3 1 1 3 3 1 3 1 1 3 3 3 4 4 4 3 1 1 3 1 1 4 2 2 4 2 2 3 1 1 4 4 4 3 1 1 5 5 5 4 4 4 4 4 4 4 2 2 4 4 4 5 1 1 3 1 1 3 3 1 3 3 3 3 1 1 4 2 2 3 3 1 1 1 1 4 2 2 3 1 1 3 3 1 1 1 1 4 2 2 3 3 3 4 4 4 4 4 4 4 4 4 4 4 4 5 1 1 5 5 5 3 3 3 4 2 2 4 2 2 1 1 1 5 5 1 3 3 1 5 5 1 3 3 3 3 1 1 4 2 2 4 4 2 4 4 4 5 3 3 4 2 2\".split()\n",
    "\n",
    "allDataCohort = pd.read_csv(\"Data Validation/Cardiogenic Shock/Preprocessed Data/CardiogenicShock_AllData.csv\", sep=\",\", index_col='ID')\n",
    "deathLabels = allDataCohort['ScoreRehosp'].tolist()\n",
    "\n",
    "ct = getCountBarData(deathLabels, predLabels)\n",
    "print(ct)\n",
    "\n",
    "plt.figure()\n",
    "ct.plot(kind='bar', stacked=True, figsize=(12,7))\n",
    "plt.xlabel(\"Real Risk Score\")\n",
    "plt.ylabel(\"Percentage\")\n",
    "# plt.legend(title=\"Predicted Risk Score\", bbox_to_anchor=(1,1.02), loc='upper left')\n",
    "plt.legend(title=\"Predicted Risk Score\", ncol=5, loc='upper center', borderaxespad=-3.5)"
   ]
  },
  {
   "cell_type": "code",
   "execution_count": 18,
   "metadata": {},
   "outputs": [
    {
     "name": "stdout",
     "output_type": "stream",
     "text": [
      "          1         2         3         4         5\n",
      "1  1.000000  0.000000  0.000000  0.000000  0.000000\n",
      "2  0.000000  0.895522  0.000000  0.104478  0.000000\n",
      "3  0.000000  0.000000  0.000000  0.000000  1.000000\n",
      "4  0.000000  0.000000  0.000000  1.000000  0.000000\n",
      "5  0.074219  0.000000  0.554688  0.000000  0.371094\n"
     ]
    },
    {
     "data": {
      "text/plain": [
       "<matplotlib.legend.Legend at 0x2dc6456d0>"
      ]
     },
     "execution_count": 18,
     "metadata": {},
     "output_type": "execute_result"
    },
    {
     "data": {
      "text/plain": [
       "<Figure size 432x288 with 0 Axes>"
      ]
     },
     "metadata": {},
     "output_type": "display_data"
    },
    {
     "data": {
      "image/png": "[encoded data removed]",
      "text/plain": [
       "<Figure size 864x504 with 1 Axes>"
      ]
     },
     "metadata": {
      "needs_background": "light"
     },
     "output_type": "display_data"
    }
   ],
   "source": [
    "# Serial Cardiac Rehosp\n",
    "predLabels = \"4 2 2 4 4 2 2 2 2 5 3 3 4 4 2 4 4 4 4 4 4 4 4 4 4 4 4 3 3 3 4 4 4 3 3 3 3 3 5 4 4 2 3 1 1 4 4 4 5 1 1 3 3 1 4 4 4 4 4 4 2 2 2 5 3 3 4 4 4 3 3 3 3 3 3 3 3 3 5 1 1 4 4 2 4 4 4 4 4 4 3 3 3 3 1 1 5 5 1 3 3 3 3 3 1 4 4 4 1 5 5 5 1 1 4 4 4 3 3 1 3 3 1 3 3 3 5 5 5 5 5 5 4 4 4 5 3 3 5 3 3 3 3 3 4 4 4 3 3 3 5 5 5 4 4 4 4 4 4 4 4 4 4 2 2 2 2 2 3 3 3 5 5 1 1 1 1 4 4 2 4 4 4 4 4 4 3 5 1 3 5 1 2 2 2 3 3 3 3 3 1 4 4 4 5 5 5 1 1 1 4 4 4 5 5 5 3 3 3 3 3 3 5 1 1 4 4 2 4 4 2 4 4 4 3 3 3 4 2 2 5 3 1 5 5 5 4 4 4 3 5 1 1 1 1 1 1 1 4 4 4 5 1 1 4 4 4 4 2 2 4 2 2 4 4 2 3 1 1 3 1 1 5 5 5 3 3 1 3 3 3 5 1 1 5 5 1 1 1 1 4 4 4 4 4 2 5 5 5 5 1 3 4 4 4 4 2 2 5 5 5 5 5 5 3 3 3 5 5 5 2 2 2 5 5 5 4 4 2 3 1 1 3 3 1 5 5 5 4 2 2 4 4 4 3 1 1 1 1 1 3 1 1 3 1 1 2 2 2 4 2 2 3 3 3 3 3 3 5 5 5 5 5 5 3 3 3 4 4 4 3 1 1 1 3 3 2 2 2 3 3 3 5 5 1 5 1 1 1 3 3 5 1 1 3 3 5 4 4 4 4 4 4 4 4 4 1 1 1 1 1 1 1 5 1 3 1 1 4 2 2 3 1 1 4 2 2 4 2 2 4 4 4 5 3 3 3 1 1 4 4 4 4 4 4 3 3 3 4 2 2 3 3 3 4 4 4 3 1 1 5 5 1 5 1 1 4 4 4 4 4 2 1 1 5 3 5 1 4 4 4 5 5 5 4 4 4 3 3 1 3 3 1 1 1 1 3 5 1 4 4 2 4 4 4 5 5 5 4 4 2 4 4 4 4 4 4 4 4 4 4 4 4 4 4 4 4 2 2 4 4 4 3 3 3 3 1 1 3 3 1 5 5 5 3 3 3 4 4 4 3 1 1 3 3 1 4 4 4 4 4 4 4 4 4 4 4 4 4 4 4 1 1 1 5 5 1 1 1 1 5 5 5 1 3 3 4 4 4 3 3 3\".split()\n",
    "\n",
    "allDataCohort = pd.read_csv(\"Data Validation/Serial Cardiac Caths/Preprocessed Data/SerialCardiac_AllData.csv\", sep=\",\", index_col='ID')\n",
    "deathLabels = allDataCohort['ScoreRehosp'].tolist()\n",
    "\n",
    "ct = getCountBarData(deathLabels, predLabels)\n",
    "print(ct)\n",
    "\n",
    "plt.figure()\n",
    "ct.plot(kind='bar', stacked=True, figsize=(12,7))\n",
    "plt.xlabel(\"Real Risk Score\")\n",
    "plt.ylabel(\"Percentage\")\n",
    "# plt.legend(title=\"Predicted Risk Score\", bbox_to_anchor=(1,1.02), loc='upper left')\n",
    "plt.legend(title=\"Predicted Risk Score\", ncol=5, loc='upper center', borderaxespad=-3.5)"
   ]
  },
  {
   "cell_type": "code",
   "execution_count": null,
   "metadata": {},
   "outputs": [],
   "source": []
  },
  {
   "cell_type": "code",
   "execution_count": null,
   "metadata": {},
   "outputs": [],
   "source": [
    "\n"
   ]
  },
  {
   "cell_type": "code",
   "execution_count": null,
   "metadata": {},
   "outputs": [],
   "source": []
  },
  {
   "cell_type": "code",
   "execution_count": null,
   "metadata": {},
   "outputs": [],
   "source": []
  },
  {
   "cell_type": "code",
   "execution_count": 89,
   "metadata": {},
   "outputs": [],
   "source": [
    "\n",
    "\n"
   ]
  },
  {
   "cell_type": "code",
   "execution_count": 90,
   "metadata": {},
   "outputs": [
    {
     "name": "stdout",
     "output_type": "stream",
     "text": [
      "Cnts 1    1.0\n",
      "Name: Predicted, dtype: float64\n",
      "i 1\n",
      "i 2\n",
      "i 3\n",
      "i 4\n",
      "i 5\n",
      "Cnts 2    0.895522\n",
      "3    0.104478\n",
      "Name: Predicted, dtype: float64\n",
      "i 1\n",
      "i 2\n",
      "i 3\n",
      "i 4\n",
      "i 5\n",
      "Cnts 3    1.0\n",
      "Name: Predicted, dtype: float64\n",
      "i 1\n",
      "i 2\n",
      "i 3\n",
      "i 4\n",
      "i 5\n",
      "Cnts 4    1.0\n",
      "Name: Predicted, dtype: float64\n",
      "i 1\n",
      "i 2\n",
      "i 3\n",
      "i 4\n",
      "i 5\n",
      "Cnts 1    0.746094\n",
      "5    0.179688\n",
      "4    0.074219\n",
      "Name: Predicted, dtype: float64\n",
      "i 1\n",
      "i 2\n",
      "i 3\n",
      "i 4\n",
      "i 5\n"
     ]
    },
    {
     "data": {
      "text/plain": [
       "<AxesSubplot:>"
      ]
     },
     "execution_count": 90,
     "metadata": {},
     "output_type": "execute_result"
    },
    {
     "data": {
      "image/png": "[encoded data removed]",
      "text/plain": [
       "<Figure size 432x288 with 1 Axes>"
      ]
     },
     "metadata": {
      "needs_background": "light"
     },
     "output_type": "display_data"
    }
   ],
   "source": [
    "\n",
    "\n",
    "\n",
    "plotData.plot(kind='bar', stacked=True)"
   ]
  },
  {
   "cell_type": "markdown",
   "metadata": {
    "pycharm": {
     "name": "#%% md\n"
    }
   },
   "source": [
    "# Adding Calibration Plots"
   ]
  },
  {
   "cell_type": "code",
   "execution_count": null,
   "metadata": {
    "pycharm": {
     "is_executing": true,
     "name": "#%%\n"
    }
   },
   "outputs": [],
   "source": [
    "from MVDD import MVDD_Generator as mvgen\n",
    "import matplotlib.pyplot as plt\n",
    "from matplotlib.gridspec import GridSpec\n",
    "\n",
    "from sklearn.calibration import CalibratedClassifierCV, CalibrationDisplay\n",
    "\n",
    "from sklearn.calibration import calibration_curve\n",
    "\n",
    "import matplotlib.pyplot as plt\n",
    "import matplotlib.lines as mlines\n",
    "import matplotlib.transforms as mtransforms"
   ]
  },
  {
   "cell_type": "code",
   "execution_count": null,
   "metadata": {
    "pycharm": {
     "is_executing": true,
     "name": "#%%\n"
    }
   },
   "outputs": [],
   "source": [
    "carna = mvgen.loadMVDDFromFile(\"TreeFiles/AllData_Death\")\n",
    "dt = carna.model"
   ]
  },
  {
   "cell_type": "code",
   "execution_count": null,
   "metadata": {
    "pycharm": {
     "is_executing": true,
     "name": "#%%\n"
    },
    "scrolled": true
   },
   "outputs": [],
   "source": [
    "\n",
    "def getProbs(riskLabels, gTscores):\n",
    "    risks = riskLabels[~riskLabels.index.duplicated(keep='first')]\n",
    "    \n",
    "    probs = []\n",
    "    for r in risks.values.tolist():\n",
    "        p = gTscores[r-1]\n",
    "        probs.append(p)\n",
    "        \n",
    "    return probs\n",
    "    \n",
    "\n",
    "escapeAllData['ScoreDeath']"
   ]
  },
  {
   "cell_type": "code",
   "execution_count": null,
   "metadata": {
    "pycharm": {
     "is_executing": true,
     "name": "#%%\n"
    }
   },
   "outputs": [],
   "source": [
    "def makeBinaryLabels(labels, preds):\n",
    "    labels = labels.sort_index()\n",
    "    preds = preds.sort_index()\n",
    "    \n",
    "    labs = []\n",
    "    for i in preds.index:\n",
    "        lab = labels.loc[i]\n",
    "        labs.append(lab)\n",
    "        \n",
    "    return labs\n",
    "        \n",
    "labs = makeBinaryLabels(escapeLabels['Death'], escapeAllData['ScoreDeath'])\n",
    "len(labs)"
   ]
  },
  {
   "cell_type": "code",
   "execution_count": null,
   "metadata": {
    "pycharm": {
     "is_executing": true,
     "name": "#%%\n"
    }
   },
   "outputs": [],
   "source": [
    "# For All Data Death\n",
    "\n",
    "gt_escape = [0.199, 0.043, 0.255, 0.7692307692307693, 0.343]\n",
    "gt_best = [0.33074684772065954, 0.3333333333333333, 0.27483443708609273, 0.0, 0.25925925925925924]\n",
    "gt_guide = [0.2517985611510791, 0.23504273504273504, 0.23843416370106763, 0.2283464566929134, 0.14285714285714285]\n",
    "gt_card = [1.0, 1, 0.6309523809523809, 0.48125, 0.607981220657277]\n",
    "gt_serial = [1.0, 0.29850746268656714, 0.4845360824742268, 0.0, 0.4765625]\n",
    "\n",
    "n_bins = 10\n",
    "esc_y, esc_x = calibration_curve(escapeLabels['Death'], getProbs(escapeAllData['ScoreDeath'], gt_escape), n_bins=n_bins)\n",
    "bst_y, bst_x = calibration_curve(bestLabels['Death'], getProbs(bestAllData['ScoreDeath'], gt_best), n_bins=n_bins)\n",
    "gd_y, gd_x = calibration_curve(guideLabels['Death'], getProbs(guideAllData['ScoreDeath'], gt_guide), n_bins=n_bins)\n",
    "cd_y, cd_x = calibration_curve(cardShockLabels['Death'], getProbs(cardShockAllData['ScoreDeath'], gt_card), n_bins=n_bins)\n",
    "sr_y, sr_x = calibration_curve(serialLabels['Death'], getProbs(serialAllData['ScoreDeath'], gt_serial), n_bins=n_bins)\n",
    "\n",
    "fig, ax = plt.subplots(figsize=(12,7))\n",
    "line = mlines.Line2D([0, 1], [0, 1], linestyle='--', color='black')\n",
    "transform = ax.transAxes\n",
    "line.set_transform(transform)\n",
    "ax.add_line(line)\n",
    "\n",
    "# only these two lines are calibration curves\n",
    "plt.plot(esc_x,esc_y, marker='o', linewidth=1, label='ESCAPE')\n",
    "plt.plot(bst_x, bst_y, marker='o', linewidth=1, label='BEST')\n",
    "plt.plot(gd_x, gd_y, marker='o', linewidth=1, label='GUIDE-IT')\n",
    "plt.plot(cd_x, cd_y, marker='o', linewidth=1, label='UVA Cardiogenic Shock')\n",
    "plt.plot(sr_x, sr_y, marker='o', linewidth=1, label='UVA Serial Cardiac')\n",
    "\n",
    "# plt.title('Calibration plot for All Features - DeLvTx')\n",
    "ax.set_xlabel('Mean Predicted Probability')\n",
    "ax.set_ylabel('True Probability (Fraction of Positives Per Bin)')\n",
    "ax.set_xlim((0,1))\n",
    "ax.set_ylim((0,1))\n",
    "plt.legend()\n",
    "plt.show()\n"
   ]
  },
  {
   "cell_type": "code",
   "execution_count": null,
   "metadata": {
    "pycharm": {
     "is_executing": true,
     "name": "#%%\n"
    }
   },
   "outputs": [],
   "source": [
    "# For All Data REHOSP\n",
    "\n",
    "gt_escape = [0.07692307692307693, 1, 0.5587248322147651, 0.6199095022624435, 0.6666666666666666]\n",
    "gt_best = [0.5, 0.5555555555555556, 0.6319107662463628, 0.6307947019867549, 0.5]\n",
    "gt_guide = [0.5118110236220472, 0.5299145299145299, 0.5179856115107914, 0.505338078291815, 0.5714285714285714]\n",
    "gt_card = [0.175, 0.17307692307692307, 0.0, 0.5643192488262911, 0.4643192488262911]\n",
    "gt_serial = [0.035, 0.163, 1.0, 0.90, 0.8375]\n",
    "\n",
    "n_bins = 10\n",
    "esc_y, esc_x = calibration_curve(escapeLabels['Rehosp'], getProbs(escapeAllData['ScoreRehosp'], gt_escape), n_bins=n_bins)\n",
    "bst_y, bst_x = calibration_curve(bestLabels['Rehosp'], getProbs(bestAllData['ScoreRehosp'], gt_best), n_bins=n_bins)\n",
    "gd_y, gd_x = calibration_curve(guideLabels['Rehosp'], getProbs(guideAllData['ScoreRehosp'], gt_guide), n_bins=n_bins)\n",
    "cd_y, cd_x = calibration_curve(cardShockLabels['Rehosp'], getProbs(cardShockAllData['ScoreRehosp'], gt_card), n_bins=n_bins)\n",
    "sr_y, sr_x = calibration_curve(serialLabels['Rehosp'], getProbs(serialAllData['ScoreRehosp'], gt_serial), n_bins=n_bins)\n",
    "\n",
    "\n",
    "fig, ax = plt.subplots(figsize=(12,7))\n",
    "line = mlines.Line2D([0, 1], [0, 1], linestyle='--', color='black')\n",
    "transform = ax.transAxes\n",
    "line.set_transform(transform)\n",
    "ax.add_line(line)\n",
    "\n",
    "# only these two lines are calibration curves\n",
    "plt.plot(esc_x,esc_y, marker='o', linewidth=1, label='ESCAPE')\n",
    "plt.plot(bst_x, bst_y, marker='o', linewidth=1, label='BEST')\n",
    "plt.plot(gd_x, gd_y, marker='o', linewidth=1, label='GUIDE-IT')\n",
    "plt.plot(cd_x, cd_y, marker='o', linewidth=1, label='UVA Cardiogenic Shock')\n",
    "plt.plot(sr_x, sr_y, marker='o', linewidth=1, label='UVA Serial Cardiac')\n",
    "\n",
    "# plt.title('Calibration plot for All Features - Rehospitalization')\n",
    "ax.set_xlabel('Mean Predicted Probability')\n",
    "ax.set_ylabel('True Probability (Fraction of Positives Per Bin)')\n",
    "ax.set_xlim((0,1))\n",
    "ax.set_ylim((0,1))\n",
    "plt.legend()\n",
    "plt.show()\n",
    "\n",
    "set(serialAllData['Score'])"
   ]
  },
  {
   "cell_type": "code",
   "execution_count": null,
   "metadata": {
    "pycharm": {
     "is_executing": true,
     "name": "#%%\n"
    }
   },
   "outputs": [],
   "source": [
    "# Hemo Death\n",
    "\n",
    "# gt_escape = [0.535, 0.041, 0.176, 0.245, 0.364]\n",
    "# gt_card = [1, 0.45454545454545453, 0.6513761467889908, 0.43103448275862066, 0.45454545454545453]\n",
    "# gt_serial = [1, 0.36666666666666666,  0.4391891891891892, 0.5246636771300448, 0.5168539325842697]\n",
    "\n",
    "gt_escape = [0.3897058823529412, 0.37037037037037035, 0.2413793103448276, 0.25, 0.42857142857142855]\n",
    "gt_card = [0, 0, 0.45454545454545453, 0.6513761467889908, 0.43103448275862066]\n",
    "gt_serial = [0.16666666666666666, 0.0, 0.4391891891891892, 0.5246636771300448, 0.5168539325842697]\n",
    "\n",
    "n_bins = 10\n",
    "esc_y, esc_x = calibration_curve(escapeHemoLabels['Death'], getProbs(escapeHemo['ScoreDeath'], gt_escape), n_bins=n_bins)\n",
    "cd_y, cd_x = calibration_curve(cardShockHemoLabels['Death'], getProbs(cardShockHemo['ScoreDeath'], gt_card), n_bins=n_bins)\n",
    "sr_y, sr_x = calibration_curve(serialHemoLabels['Death'], getProbs(serialHemo['ScoreDeath'], gt_serial), n_bins=n_bins)\n",
    "\n",
    "fig, ax = plt.subplots(figsize=(12,7))\n",
    "line = mlines.Line2D([0, 1], [0, 1], linestyle='--', color='black')\n",
    "transform = ax.transAxes\n",
    "line.set_transform(transform)\n",
    "ax.add_line(line)\n",
    "\n",
    "# only these two lines are calibration curves\n",
    "plt.plot(esc_x,esc_y, marker='o', linewidth=1, label='ESCAPE')\n",
    "plt.plot(cd_x, cd_y, marker='o', linewidth=1, label='UVA Cardiogenic Shock')\n",
    "plt.plot(sr_x, sr_y, marker='o', linewidth=1, label='UVA Serial Cardiac')\n",
    "\n",
    "# plt.title('Calibration plot for Hemo - DeLvTx')\n",
    "ax.set_xlabel('Mean Predicted Probability')\n",
    "ax.set_ylabel('True Probability (Fraction of Positives Per Bin)')\n",
    "ax.set_xlim((0,1))\n",
    "ax.set_ylim((0,1))\n",
    "plt.legend()\n",
    "plt.show()\n"
   ]
  },
  {
   "cell_type": "code",
   "execution_count": null,
   "metadata": {
    "pycharm": {
     "is_executing": true,
     "name": "#%%\n"
    }
   },
   "outputs": [],
   "source": [
    "#HEMO REHOSP\n",
    "\n",
    "gt_escape = [0.4074074074074074, 0.6470588235294118,0.5172413793103449, 0.5520833333333334, 0.5]\n",
    "gt_card = [0, 0, 0.43103448275862066, 0.5714285714285714, 0.7981651376146789]\n",
    "gt_serial = [0.0, 0.0, 0.8876404494382022, 0.8716216216216216, 0.8923766816143498]\n",
    "\n",
    "# ESCAPE\n",
    "# [0.5, 0.4074074074074074, 0.6470588235294118, 0.5172413793103449, 0.5520833333333334]\n",
    "# CardShock\n",
    "# [nan, nan, 0.43103448275862066, 0.5714285714285714, 0.7981651376146789]\n",
    "# Serial\n",
    "# [0.0, 0.0, 0.8876404494382022, 0.8716216216216216, 0.8923766816143498]\n",
    "\n",
    "n_bins = 10\n",
    "esc_y, esc_x = calibration_curve(escapeHemoLabels['Rehosp'], getProbs(escapeHemo['ScoreRehosp'], gt_escape), n_bins=n_bins)\n",
    "cd_y, cd_x = calibration_curve(cardShockHemoLabels['Rehosp'], getProbs(cardShockHemo['ScoreRehosp'], gt_card), n_bins=n_bins)\n",
    "sr_y, sr_x = calibration_curve(serialHemoLabels['Rehosp'], getProbs(serialHemo['ScoreRehosp'], gt_serial), n_bins=n_bins)\n",
    "\n",
    "fig, ax = plt.subplots(figsize=(12,7))\n",
    "line = mlines.Line2D([0, 1], [0, 1], linestyle='--', color='black')\n",
    "transform = ax.transAxes\n",
    "line.set_transform(transform)\n",
    "ax.add_line(line)\n",
    "\n",
    "# only these two lines are calibration curves\n",
    "plt.plot(esc_x,esc_y, marker='o', linewidth=1, label='ESCAPE')\n",
    "plt.plot(cd_x, cd_y, marker='o', linewidth=1, label='UVA Cardiogenic Shock')\n",
    "plt.plot(sr_x, sr_y, marker='o', linewidth=1, label='UVA Serial Cardiac')\n",
    "\n",
    "# plt.title('Calibration plot for Hemo - Rehosp')\n",
    "ax.set_xlabel('Mean Predicted Probability')\n",
    "ax.set_ylabel('True Probability (Fraction of Positives Per Bin)')\n",
    "ax.set_xlim((0,1))\n",
    "ax.set_ylim((0,1))\n",
    "plt.legend()\n",
    "plt.show()"
   ]
  },
  {
   "cell_type": "code",
   "execution_count": null,
   "metadata": {
    "pycharm": {
     "is_executing": true,
     "name": "#%%\n"
    }
   },
   "outputs": [],
   "source": []
  },
  {
   "cell_type": "code",
   "execution_count": null,
   "metadata": {
    "pycharm": {
     "is_executing": true,
     "name": "#%%\n"
    }
   },
   "outputs": [],
   "source": []
  },
  {
   "cell_type": "code",
   "execution_count": null,
   "metadata": {
    "pycharm": {
     "is_executing": true,
     "name": "#%%\n"
    }
   },
   "outputs": [],
   "source": []
  },
  {
   "cell_type": "code",
   "execution_count": null,
   "metadata": {
    "pycharm": {
     "is_executing": true,
     "name": "#%%\n"
    }
   },
   "outputs": [],
   "source": []
  },
  {
   "cell_type": "code",
   "execution_count": null,
   "metadata": {
    "pycharm": {
     "is_executing": true,
     "name": "#%%\n"
    }
   },
   "outputs": [],
   "source": []
  },
  {
   "cell_type": "code",
   "execution_count": null,
   "metadata": {
    "pycharm": {
     "is_executing": true,
     "name": "#%%\n"
    }
   },
   "outputs": [],
   "source": []
  },
  {
   "cell_type": "code",
   "execution_count": null,
   "metadata": {
    "pycharm": {
     "is_executing": true,
     "name": "#%%\n"
    }
   },
   "outputs": [],
   "source": [
    "# Get Patient Cohort Baseline Characteristics"
   ]
  },
  {
   "cell_type": "code",
   "execution_count": null,
   "metadata": {
    "pycharm": {
     "is_executing": true,
     "name": "#%%\n"
    }
   },
   "outputs": [],
   "source": [
    "#Load ESCAPE training data\n",
    "escapeAllData = pd.read_csv(\"Data/Original DataFrames/AllDataSingleValue.csv\", sep=\",\", index_col='DEIDNUM').sort_index() #all feature dataset\n",
    "escapeHemo = pd.read_csv(\"Data/Original DataFrames/HemoSingleValue.csv\", sep=\",\", index_col='DEIDNUM').sort_index() #dataset with only hemodynamics\n",
    "escapeLabels  = pd.read_csv(\"Data/Original DataFrames/Labels.csv\", sep=\",\", index_col='DEIDNUM').sort_index() #labels for prediction classes \n",
    "escapeHemoLabels = escapeLabels[escapeLabels.index.isin(escapeHemo.index)]\n",
    "\n",
    "#Cardiogenic Shock\n",
    "cardShockHemo = pd.read_csv(\"Data Validation/Cardiogenic Shock/Original DataFrames/HemoCardiogenicShock.csv\", sep=\",\", index_col='ID').sort_index()\n",
    "cardShockAllData = pd.read_csv(\"Data Validation/Cardiogenic Shock/Original DataFrames/AllDataCardiogenicShock.csv\", sep=\",\", index_col='ID').sort_index()\n",
    "cardShockHemoLabels = pd.read_csv(\"Data Validation/Cardiogenic Shock/Original DataFrames/HemoLabelsCardiogenicShock.csv\", sep=\",\", index_col='ID').sort_index()\n",
    "cardShockLabels = pd.read_csv(\"Data Validation/Cardiogenic Shock/Original DataFrames/LabelsCardiogenicShock.csv\", sep=\",\", index_col='ID').sort_index()\n",
    "\n",
    "#Serial Cardiac\n",
    "serialHemo = pd.read_csv(\"Data Validation/Serial Cardiac Caths/Original DataFrames/HemoSerialCardiac.csv\", sep=\",\", index_col='ID').sort_index()\n",
    "serialAllData = pd.read_csv(\"Data Validation/Serial Cardiac Caths/Original DataFrames/AllDataSerialCardiac.csv\", sep=\",\", index_col='ID').sort_index()\n",
    "serialHemoLabels = pd.read_csv(\"Data Validation/Serial Cardiac Caths/Original DataFrames/HemoLabelsSerialCardiac.csv\", sep=\",\", index_col='ID').sort_index()\n",
    "serialLabels = pd.read_csv(\"Data Validation/Serial Cardiac Caths/Original DataFrames/LabelsSerialCardiac.csv\", sep=\",\", index_col='ID').sort_index()\n",
    "\n",
    "#BEST\n",
    "bestAllData = pd.read_csv(\"Data Validation/BEST/Original DataFrames/AllDataBEST.csv\", sep=\",\", index_col='ID').sort_index()\n",
    "bestLabels = pd.read_csv(\"Data Validation/BEST/Original DataFrames/LabelsBEST.csv\", sep=\",\", index_col='ID').sort_index()\n",
    "\n",
    "#Guide it\n",
    "guideAllData = pd.read_csv(\"Data Validation/GUIDE-IT/Original DataFrames/AllDataGUIDE-IT.csv\", sep=\",\", index_col='ID').sort_index()\n",
    "guideLabels = pd.read_csv(\"Data Validation/GUIDE-IT/Original DataFrames/LabelsGUIDE-IT.csv\", sep=\",\", index_col='ID').sort_index()\n"
   ]
  },
  {
   "cell_type": "code",
   "execution_count": null,
   "metadata": {
    "pycharm": {
     "is_executing": true,
     "name": "#%%\n"
    }
   },
   "outputs": [],
   "source": [
    "# guideAllData['BMI'].dropna()\n",
    "\n",
    "dat = guideAllData[guideAllData['BMI'] != 0]\n",
    "\n",
    "str(round(dat.describe()['BMI'][1],1)) + \"±\" + str(round(dat.describe()['BMI'][2],1))"
   ]
  },
  {
   "cell_type": "code",
   "execution_count": null,
   "metadata": {
    "pycharm": {
     "is_executing": true,
     "name": "#%%\n"
    }
   },
   "outputs": [],
   "source": [
    "\n",
    "def getStats(data, labels):\n",
    "    lst = []\n",
    "    \n",
    "    lst.append(len(labels))\n",
    "\n",
    "    if len(data) == len(labels) * 2:\n",
    "        lst.append(str(round(data.describe()['Age'][1],1)) + \"±\" + str(round(data.describe()['Age'][2],1)))\n",
    "        gen = data['Gender'].value_counts()/2/len(labels)\n",
    "        lst.append(round(gen[2.0]*100,1))\n",
    "        gen = data['Race'].value_counts()/2/len(labels)\n",
    "        lst.append(str(round(gen[1.0]*100,1))+\"[\" + str(round(gen[2.0]*100,1))+\"]\")\n",
    "        lst.append(str(round(data.describe()['BMI'][1],1)) + \"±\" + str(round(data.describe()['BMI'][2],1)))\n",
    "        lst.append(str(round(data.describe()['EjF'][1],1)) + \"±\" + str(round(data.describe()['EjF'][2],1)))\n",
    "        lst.append(str(round(data.describe()['HR'][1],1)) + \"±\" + str(round(data.describe()['HR'][2],1)))\n",
    "        lst.append(str(round(data.describe()['BPSYS'][1],1)) + \"±\" + str(round(data.describe()['BPSYS'][2],1)))\n",
    "        lst.append(str(round(data.describe()['BPDIAS'][1],1)) + \"±\" + str(round(data.describe()['BPDIAS'][2],1)))\n",
    "        \n",
    "        lst.append(str(round(data.describe()['CRT'][1],1)) + \"±\" + str(round(data.describe()['CRT'][2],1)))\n",
    "        lst.append(str(round(data.describe()['POT'][1],1)) + \"±\" + str(round(data.describe()['POT'][2],1)))\n",
    "        lst.append(str(round(data.describe()['BUN'][1],1)) + \"±\" + str(round(data.describe()['BUN'][2],1)))\n",
    "        lst.append(str(round(data.describe()['SOD'][1],1)) + \"±\" + str(round(data.describe()['SOD'][2],1)))\n",
    "\n",
    "        \n",
    "    else:\n",
    "        lst.append(str(round(data.describe()['Age'][1],1)) + \"±\" + str(round(data.describe()['Age'][2],1)))\n",
    "        gen = data['Gender'].value_counts()/len(labels)\n",
    "        lst.append(round(gen[2.0]*100,1))\n",
    "        gen = data['Race'].value_counts()/len(labels)\n",
    "        lst.append(str(round(gen[1.0]*100,1))+\"[\" + str(round(gen[2.0]*100,1))+\"]\")\n",
    "        lst.append(str(round(data.describe()['BMI'][1],1)) + \"±\" + str(round(data.describe()['BMI'][2],1)))\n",
    "        lst.append(str(round(data.describe()['EjF'][1],1)) + \"±\" + str(round(data.describe()['EjF'][2],1)))\n",
    "        lst.append(str(round(data.describe()['HR'][1],1)) + \"±\" + str(round(data.describe()['HR'][2],1)))\n",
    "        lst.append(str(round(data.describe()['BPSYS'][1],1)) + \"±\" + str(round(data.describe()['BPSYS'][2],1)))\n",
    "        lst.append(str(round(data.describe()['BPDIAS'][1],1)) + \"±\" + str(round(data.describe()['BPDIAS'][2],1)))\n",
    "        \n",
    "        lst.append(str(round(data.describe()['CRT'][1],1)) + \"±\" + str(round(data.describe()['CRT'][2],1)))\n",
    "        lst.append(str(round(data.describe()['POT'][1],1)) + \"±\" + str(round(data.describe()['POT'][2],1)))\n",
    "        lst.append(str(round(data.describe()['BUN'][1],1)) + \"±\" + str(round(data.describe()['BUN'][2],1)))\n",
    "        lst.append(str(round(data.describe()['SOD'][1],1)) + \"±\" + str(round(data.describe()['SOD'][2],1)))\n",
    "\n",
    "    lst.append(round(sum(labels['Death']) / len(labels),3))\n",
    "    try:\n",
    "        lst.append(round(sum(labels['Rehosp']) / len(labels),3))\n",
    "    except:\n",
    "        lst.append(\"N/A\")\n",
    "    try:\n",
    "        lst.append(round(sum(labels['Readmission']) / len(labels),3))\n",
    "    except:\n",
    "        lst.append(\"N/A\")\n",
    "        \n",
    "        \n",
    "    return lst\n",
    "\n",
    "def getStatsCath(data, labels):\n",
    "    lst = []\n",
    "    lst.append(len(labels))\n",
    "    lst.append(str(round(data.describe()['Age'][1],1)) + \"±\" + str(round(data.describe()['Age'][2],1)))\n",
    "    gen = data['Gender'].value_counts()/3/len(labels)\n",
    "    lst.append(round(gen[2.0]*100,1))\n",
    "    lst.append(\"N/A\") #Race\n",
    "    lst.append(str(round(data.describe()['BMI'][1],1)) + \"±\" + str(round(data.describe()['BMI'][2],1)))\n",
    "    lst.append(str(round(data.describe()['EjF'][1],1)) + \"±\" + str(round(data.describe()['EjF'][2],1)))\n",
    "    lst.append(str(round(data.describe()['HR'][1],1)) + \"±\" + str(round(data.describe()['HR'][2],1)))\n",
    "    lst.append(str(round(data.describe()['BPSYS'][1],1)) + \"±\" + str(round(data.describe()['BPSYS'][2],1)))\n",
    "    lst.append(str(round(data.describe()['BPDIAS'][1],1)) + \"±\" + str(round(data.describe()['BPDIAS'][2],1)))\n",
    "    \n",
    "    lst.append(str(round(data.describe()['CRT'][1],1)) + \"±\" + str(round(data.describe()['CRT'][2],1)))\n",
    "    lst.append(str(round(data.describe()['POT'][1],1)) + \"±\" + str(round(data.describe()['POT'][2],1)))\n",
    "    lst.append(str(round(data.describe()['BUN'][1],1)) + \"±\" + str(round(data.describe()['BUN'][2],1)))\n",
    "    lst.append(str(round(data.describe()['SOD'][1],1)) + \"±\" + str(round(data.describe()['SOD'][2],1)))\n",
    "\n",
    "\n",
    "    lst.append(round(sum(labels['Death']) / len(labels),3))\n",
    "    lst.append(round(sum(labels['Rehosp']) / len(labels),3))\n",
    "    lst.append(\"N/A\")\n",
    "        \n",
    "    return lst\n",
    "    \n",
    "\n",
    "df = pd.DataFrame(index=[\"n\", \"Age (years)\", \"Gender (%, female)\", \"Race (%, white[minority])\", \"BMI\", \"EF\", \"HR\", \"BPSYS\", \"BPDIAS\", \"CRT\", \"POT\", \"BUN\", \"SOD\", \"Death\", \"Rehosp\", \"Readm\"])\n",
    "df['ESCAPE'] = getStats(escapeAllData, escapeLabels)\n",
    "df['BEST'] = getStats(bestAllData, bestLabels)\n",
    "df['GUIDE-IT'] = getStats(guideAllData, guideLabels)\n",
    "df['UVA Cardiogenic Shock'] = getStatsCath(cardShockAllData, cardShockLabels)\n",
    "df['UVA Serial Cath'] = getStatsCath(serialAllData, serialLabels)\n",
    "\n",
    "\n",
    "# df = pd.DataFrame(bigLst, columns=['idx','ESCAPE', 'HF-ACTION']).set_index(\"idx\")\n",
    "df"
   ]
  },
  {
   "cell_type": "code",
   "execution_count": null,
   "metadata": {
    "pycharm": {
     "is_executing": true,
     "name": "#%%\n"
    }
   },
   "outputs": [],
   "source": [
    "serialAllData['BMI'].max()"
   ]
  },
  {
   "cell_type": "code",
   "execution_count": null,
   "metadata": {
    "pycharm": {
     "is_executing": true,
     "name": "#%%\n"
    }
   },
   "outputs": [],
   "source": [
    "## Get Percent Data missing"
   ]
  },
  {
   "cell_type": "code",
   "execution_count": null,
   "metadata": {
    "pycharm": {
     "is_executing": true,
     "name": "#%%\n"
    }
   },
   "outputs": [],
   "source": [
    "def getMissing(misData):\n",
    "    return sum(misData.isnull().sum()) / (misData.shape[0] * misData.shape[1]) * 100"
   ]
  },
  {
   "cell_type": "code",
   "execution_count": null,
   "metadata": {
    "pycharm": {
     "is_executing": true,
     "name": "#%%\n"
    }
   },
   "outputs": [],
   "source": [
    "# All Data\n",
    "print(\"ESCAPE:\", round(getMissing(escapeAllData),1))\n",
    "print(\"BEST:\", round(getMissing(bestAllData),1))\n",
    "print(\"GUIDE IT:\", round(getMissing(guideAllData),1))\n",
    "print(\"Card Shock:\", round(getMissing(cardShockAllData),1))\n",
    "print(\"Serial:\", round(getMissing(serialAllData),1))\n"
   ]
  },
  {
   "cell_type": "code",
   "execution_count": null,
   "metadata": {
    "pycharm": {
     "is_executing": true,
     "name": "#%%\n"
    }
   },
   "outputs": [],
   "source": [
    "# Hemo\n",
    "print(\"ESCAPE:\", round(getMissing(escapeHemo),1))\n",
    "print(\"Card Shock:\", round(getMissing(cardShockHemo),1))\n",
    "print(\"Serial:\", round(getMissing(serialHemo),1))"
   ]
  },
  {
   "cell_type": "markdown",
   "metadata": {
    "pycharm": {
     "name": "#%% md\n"
    }
   },
   "source": [
    "# Get confidence intervals for training data"
   ]
  },
  {
   "cell_type": "code",
   "execution_count": null,
   "metadata": {
    "pycharm": {
     "is_executing": true,
     "name": "#%%\n"
    }
   },
   "outputs": [],
   "source": [
    "# Helper functions\n",
    "# Return 95% Confidence Interval for Value\n",
    "def CI(val, n):\n",
    "    ci = 1.96 * math.sqrt(abs(val - (1 - val)) / n)\n",
    "    #return ci\n",
    "    return str(val) + \" +/- \" + str(round(ci,3))"
   ]
  },
  {
   "cell_type": "code",
   "execution_count": null,
   "metadata": {
    "pycharm": {
     "is_executing": true,
     "name": "#%%\n"
    }
   },
   "outputs": [],
   "source": [
    "# Hemo - DeLvTx\n",
    "print(\"Accuracy\", CI(0.957, len(escapeHemo)))\n",
    "print(\"AUC\", CI(0.952, len(escapeHemo)))\n",
    "print(\"Sens\", CI(0.936, len(escapeHemo)))\n",
    "print(\"Spec\", CI(0.968, len(escapeHemo)))"
   ]
  },
  {
   "cell_type": "code",
   "execution_count": null,
   "metadata": {
    "pycharm": {
     "is_executing": true,
     "name": "#%%\n"
    }
   },
   "outputs": [],
   "source": [
    "# Hemo - Rehosp\n",
    "print(\"Accuracy\", CI(0.961, len(escapeHemo)))\n",
    "print(\"AUC\", CI(0.956, len(escapeHemo)))\n",
    "print(\"Sens\", CI(0.942, len(escapeHemo)))\n",
    "print(\"Spec\", CI(0.970, len(escapeHemo)))"
   ]
  },
  {
   "cell_type": "code",
   "execution_count": null,
   "metadata": {
    "pycharm": {
     "is_executing": true,
     "name": "#%%\n"
    }
   },
   "outputs": [],
   "source": [
    "# All Features - DeLvTx\n",
    "print(\"Accuracy\", CI(0.994, len(escapeAllData)))\n",
    "print(\"AUC\", CI(0.978, len(escapeAllData)))\n",
    "print(\"Sens\", CI(0.963, len(escapeAllData)))\n",
    "print(\"Spec\", CI(0.994, len(escapeAllData)))"
   ]
  },
  {
   "cell_type": "code",
   "execution_count": null,
   "metadata": {
    "pycharm": {
     "is_executing": true,
     "name": "#%%\n"
    }
   },
   "outputs": [],
   "source": [
    "# All Features - Rehosp\n",
    "print(\"Accuracy\", CI(0.994, len(escapeAllData)))\n",
    "print(\"AUC\", CI(0.975, len(escapeAllData)))\n",
    "print(\"Sens\", CI(0.958, len(escapeAllData)))\n",
    "print(\"Spec\", CI(0.994, len(escapeAllData)))"
   ]
  },
  {
   "cell_type": "code",
   "execution_count": null,
   "metadata": {
    "pycharm": {
     "is_executing": true,
     "name": "#%%\n"
    }
   },
   "outputs": [],
   "source": []
  },
  {
   "cell_type": "markdown",
   "metadata": {
    "pycharm": {
     "name": "#%% md\n"
    }
   },
   "source": [
    "# Get Cluster Outcome Percentages"
   ]
  },
  {
   "cell_type": "code",
   "execution_count": null,
   "metadata": {
    "pycharm": {
     "is_executing": true,
     "name": "#%%\n"
    }
   },
   "outputs": [],
   "source": [
    "escapeAllData\n",
    "\n",
    "escapeLabels"
   ]
  },
  {
   "cell_type": "code",
   "execution_count": null,
   "metadata": {
    "pycharm": {
     "is_executing": true,
     "name": "#%%\n"
    }
   },
   "outputs": [],
   "source": [
    "def addOutcomes(df, labs):\n",
    "    dth = []\n",
    "    rhp = []\n",
    "    for idx in df.index:\n",
    "        dth.append(labs.loc[idx]['Death'])\n",
    "        rhp.append(labs.loc[idx]['Rehosp'])\n",
    "\n",
    "    df['Death'] = dth\n",
    "    df['Rehosp'] = rhp\n",
    "\n",
    "    return df\n",
    "    \n",
    "def getOutPers(df, outcome):\n",
    "    lst = []\n",
    "    for i in range(1, 6):\n",
    "        cls = df[df['Score' + outcome] == i]\n",
    "        \n",
    "        lst.append(cls[outcome].mean())\n",
    "        \n",
    "    print(lst)\n",
    "        "
   ]
  },
  {
   "cell_type": "code",
   "execution_count": null,
   "metadata": {
    "pycharm": {
     "is_executing": true,
     "name": "#%%\n"
    }
   },
   "outputs": [],
   "source": [
    "sc"
   ]
  },
  {
   "cell_type": "code",
   "execution_count": null,
   "metadata": {
    "pycharm": {
     "is_executing": true,
     "name": "#%%\n"
    }
   },
   "outputs": [],
   "source": [
    "# HEMO\n",
    "escH = pd.read_csv('Data/Preprocessed Data/ESCAPE_Hemo.csv', index_col='ID')\n",
    "escH = addOutcomes(escH, escapeHemoLabels)\n",
    "\n",
    "cs = pd.read_csv(\"Data Validation/Cardiogenic Shock/Preprocessed Data/CardiogenicShock_Hemo.csv\", sep=\",\", index_col='ID')\n",
    "cs = addOutcomes(cs, cardShockHemoLabels)\n",
    "\n",
    "sc = pd.read_csv(\"Data Validation/Serial Cardiac Caths/Preprocessed Data/SerialCardiac_Hemo.csv\", sep=\",\", index_col='ID')\n",
    "sc = addOutcomes(sc, serialHemoLabels)\n",
    "\n",
    "#esc 2, cs 3, serial 3\n",
    "print(\"ESCAPE\")\n",
    "getOutPers(escH, \"Death\")\n",
    "print(\"CardShock\")\n",
    "getOutPers(cs, \"Death\")\n",
    "print(\"Serial\")\n",
    "getOutPers(sc, \"Death\")\n",
    "\n",
    "print(\"\\n\")\n",
    "print(\"ESCAPE\")\n",
    "getOutPers(escH, \"Rehosp\")\n",
    "print(\"CardShock\")\n",
    "getOutPers(cs, \"Rehosp\")\n",
    "print(\"Serial\")\n",
    "getOutPers(sc, \"Rehosp\")"
   ]
  },
  {
   "cell_type": "code",
   "execution_count": null,
   "metadata": {
    "pycharm": {
     "is_executing": true,
     "name": "#%%\n"
    }
   },
   "outputs": [],
   "source": [
    "# All Data\n",
    "escAD = pd.read_csv(\"Data/Preprocessed Data/ESCAPE_AllData.csv\", sep=\",\", index_col='ID').sort_index() #all feature dataset\n",
    "labs = copy.deepcopy(escapeLabels)\n",
    "labs.index = labs.index.astype(str) + \"x\"\n",
    "labs = labs.sort_index()\n",
    "\n",
    "escAD = addOutcomes(escAD, labs)\n",
    "escAD\n",
    "\n",
    "bst = pd.read_csv(\"Data Validation/BEST/Preprocessed Data/BEST_AllData.csv\", sep=\",\", index_col='ID')\n",
    "bst = addOutcomes(bst, bestLabels)\n",
    "\n",
    "gd = pd.read_csv(\"Data Validation/GUIDE-IT/Preprocessed Data/GUIDE-IT_AllData.csv\", sep=\",\", index_col='ID')\n",
    "gd = addOutcomes(gd, guideLabels)\n",
    "\n",
    "\n",
    "cs = pd.read_csv(\"Data Validation/Cardiogenic Shock/Preprocessed Data/CardiogenicShock_AllData.csv\", sep=\",\", index_col='ID')\n",
    "cs = addOutcomes(cs, cardShockLabels)\n",
    "\n",
    "sc = pd.read_csv(\"Data Validation/Serial Cardiac Caths/Preprocessed Data/SerialCardiac_AllData.csv\", sep=\",\", index_col='ID')\n",
    "sc = addOutcomes(sc, serialLabels)\n",
    "\n",
    "#esc 2, bst 1, gd 3, cs 3, serial 3\n",
    "print(\"ESCAPE\")\n",
    "getOutPers(escAD, \"Death\")\n",
    "print(\"BEST\")\n",
    "getOutPers(bst, \"Death\")\n",
    "print(\"GUIDE\")\n",
    "getOutPers(gd, \"Death\")\n",
    "print(\"CardShock\")\n",
    "getOutPers(cs, \"Death\")\n",
    "print(\"Serial\")\n",
    "getOutPers(sc, \"Death\")\n",
    "\n",
    "print(\"\\n\")\n",
    "print(\"ESCAPE\")\n",
    "getOutPers(escAD, \"Rehosp\")\n",
    "print(\"BEST\")\n",
    "getOutPers(bst, \"Rehosp\")\n",
    "print(\"GUIDE\")\n",
    "getOutPers(gd, \"Rehosp\")\n",
    "print(\"CardShock\")\n",
    "getOutPers(cs, \"Rehosp\")\n",
    "print(\"Serial\")\n",
    "getOutPers(sc, \"Rehosp\")"
   ]
  },
  {
   "cell_type": "code",
   "execution_count": null,
   "metadata": {
    "pycharm": {
     "is_executing": true,
     "name": "#%%\n"
    }
   },
   "outputs": [],
   "source": [
    "# All Data\n",
    "escAD = pd.read_csv(\"Data/Preprocessed Data/ESCAPE_AllData.csv\", sep=\",\", index_col='ID').sort_index() #all feature dataset\n",
    "labs = copy.deepcopy(escapeLabels)\n",
    "labs.index = labs.index.astype(str) + \"x\"\n",
    "labs = labs.sort_index()\n",
    "\n",
    "escAD = addOutcomes(escAD, labs)\n",
    "escAD\n",
    "\n",
    "bst = pd.read_csv(\"Data Validation/BEST/Preprocessed Data/BEST_AllData.csv\", sep=\",\", index_col='ID')\n",
    "bst = addOutcomes(bst, bestLabels)\n",
    "\n",
    "gd = pd.read_csv(\"Data Validation/GUIDE-IT/Preprocessed Data/GUIDE-IT_AllData.csv\", sep=\",\", index_col='ID')\n",
    "gd = addOutcomes(gd, guideLabels)\n",
    "\n",
    "\n",
    "cs = pd.read_csv(\"Data Validation/Cardiogenic Shock/Preprocessed Data/CardiogenicShock_AllData.csv\", sep=\",\", index_col='ID')\n",
    "cs = addOutcomes(cs, cardShockLabels)\n",
    "\n",
    "sc = pd.read_csv(\"Data Validation/Serial Cardiac Caths/Preprocessed Data/SerialCardiac_AllData.csv\", sep=\",\", index_col='ID')\n",
    "sc = addOutcomes(sc, serialLabels)\n",
    "\n",
    "#esc 2, bst 1, gd 3, cs 3, serial 3\n",
    "print(\"ESCAPE\")\n",
    "getOutPers(escAD, \"Death\")\n",
    "print(\"BEST\")\n",
    "getOutPers(bst, \"Death\")\n",
    "print(\"GUIDE\")\n",
    "getOutPers(gd, \"Death\")\n",
    "print(\"CardShock\")\n",
    "getOutPers(cs, \"Death\")\n",
    "print(\"Serial\")\n",
    "getOutPers(sc, \"Death\")\n",
    "\n",
    "print(\"\\n\")\n",
    "print(\"ESCAPE\")\n",
    "getOutPers(escAD, \"Rehosp\")\n",
    "print(\"BEST\")\n",
    "getOutPers(bst, \"Rehosp\")\n",
    "print(\"GUIDE\")\n",
    "getOutPers(gd, \"Rehosp\")\n",
    "print(\"CardShock\")\n",
    "getOutPers(cs, \"Rehosp\")\n",
    "print(\"Serial\")\n",
    "getOutPers(sc, \"Rehosp\")"
   ]
  },
  {
   "cell_type": "markdown",
   "metadata": {
    "pycharm": {
     "name": "#%% md\n"
    }
   },
   "source": [
    "# Plot Training Averaged AUC Graphs"
   ]
  },
  {
   "cell_type": "code",
   "execution_count": null,
   "metadata": {
    "pycharm": {
     "is_executing": true,
     "name": "#%%\n"
    }
   },
   "outputs": [],
   "source": [
    "from sklearn.metrics import auc"
   ]
  },
  {
   "cell_type": "code",
   "execution_count": null,
   "metadata": {
    "pycharm": {
     "is_executing": true,
     "name": "#%%\n"
    }
   },
   "outputs": [],
   "source": [
    "# Compute micro-average ROC curve and ROC area\n",
    "fpr = 0.027\n",
    "tpr = 0.946\n",
    "roc = auc(fpr, tpr)\n",
    "\n",
    "fpr[\"micro\"], tpr[\"micro\"], _ = roc_curve(y_test.ravel(), y_score.ravel())\n",
    "roc_auc[\"micro\"] = auc(fpr[\"micro\"], tpr[\"micro\"])\n",
    "\n",
    "# Plot and save averaged AUC graph\n",
    "plt.figure(figsize=(10, 8))\n",
    "plt.rcParams.update({'font.size': 18})\n",
    "plt.plot(fpr, tpr,\n",
    "     label='Averaged AUC: {0:0.3f}'\n",
    "           ''.format(roc))\n",
    "\n",
    "plt.plot([0, 1], [0, 1], 'k--', lw=2)\n",
    "plt.xlim([0.0, 1.0])\n",
    "plt.ylim([0.0, 1.05])\n",
    "plt.xlabel('1 - Specificity (False Positive Rate)')\n",
    "plt.ylabel('Sensitivity (True Positive Rate)')\n",
    "plt.legend(loc=\"lower right\")"
   ]
  },
  {
   "cell_type": "code",
   "execution_count": null,
   "metadata": {
    "pycharm": {
     "is_executing": true,
     "name": "#%%\n"
    }
   },
   "outputs": [],
   "source": []
  },
  {
   "cell_type": "markdown",
   "metadata": {
    "pycharm": {
     "name": "#%% md\n"
    }
   },
   "source": []
  },
  {
   "cell_type": "code",
   "execution_count": null,
   "metadata": {
    "pycharm": {
     "is_executing": true,
     "name": "#%%\n"
    }
   },
   "outputs": [],
   "source": [
    "from sklearn.metrics import auc"
   ]
  },
  {
   "cell_type": "code",
   "execution_count": null,
   "metadata": {
    "pycharm": {
     "is_executing": true,
     "name": "#%%\n"
    }
   },
   "outputs": [],
   "source": [
    "# Compute micro-average ROC curve and ROC area\n",
    "fpr = 0.027\n",
    "tpr = 0.946\n",
    "roc = auc(fpr, tpr)\n",
    "\n",
    "fpr[\"micro\"], tpr[\"micro\"], _ = roc_curve(y_test.ravel(), y_score.ravel())\n",
    "roc_auc[\"micro\"] = auc(fpr[\"micro\"], tpr[\"micro\"])\n",
    "\n",
    "# Plot and save averaged AUC graph\n",
    "plt.figure(figsize=(10, 8))\n",
    "plt.rcParams.update({'font.size': 18})\n",
    "plt.plot(fpr, tpr,\n",
    "     label='Averaged AUC: {0:0.3f}'\n",
    "           ''.format(roc))\n",
    "\n",
    "plt.plot([0, 1], [0, 1], 'k--', lw=2)\n",
    "plt.xlim([0.0, 1.0])\n",
    "plt.ylim([0.0, 1.05])\n",
    "plt.xlabel('1 - Specificity (False Positive Rate)')\n",
    "plt.ylabel('Sensitivity (True Positive Rate)')\n",
    "plt.legend(loc=\"lower right\")"
   ]
  },
  {
   "cell_type": "code",
   "execution_count": null,
   "metadata": {
    "pycharm": {
     "is_executing": true,
     "name": "#%%\n"
    }
   },
   "outputs": [],
   "source": []
  },
  {
   "cell_type": "markdown",
   "metadata": {
    "pycharm": {
     "name": "#%% md\n"
    }
   },
   "source": [
    "# Get Outcome Percentages Based on Cluster Group"
   ]
  },
  {
   "cell_type": "code",
   "execution_count": null,
   "metadata": {
    "pycharm": {
     "is_executing": true,
     "name": "#%%\n"
    }
   },
   "outputs": [],
   "source": [
    "#Load ESCAPE training data\n",
    "escapeAllData = pd.read_csv(\"Data/Preprocessed Data/ESCAPE_AllData.csv\", sep=\",\", index_col='ID').sort_index() #all feature dataset\n",
    "escapeHemo = pd.read_csv(\"Data/Preprocessed Data/ESCAPE_Hemo.csv\", sep=\",\", index_col='ID').sort_index() #dataset with only hemodynamics\n",
    "escapeLabels  = pd.read_csv(\"Data/Original DataFrames/Labels.csv\", sep=\",\", index_col='DEIDNUM').sort_index() #labels for prediction classes \n",
    "escapeHemoLabels = escapeLabels[escapeLabels.index.isin(escapeHemo.index)]\n",
    "\n",
    "#Cardiogenic Shock\n",
    "cardShockHemo = pd.read_csv(\"Data Validation/Cardiogenic Shock/Preprocessed Data/CardiogenicShock_Hemo.csv\", sep=\",\", index_col='ID').sort_index()\n",
    "cardShockAllData = pd.read_csv(\"Data Validation/Cardiogenic Shock/Preprocessed Data/CardiogenicShock_AllData.csv\", sep=\",\", index_col='ID').sort_index()\n",
    "cardShockHemoLabels = pd.read_csv(\"Data Validation/Cardiogenic Shock/Original DataFrames/HemoLabelsCardiogenicShock.csv\", sep=\",\", index_col='ID').sort_index()\n",
    "cardShockLabels = pd.read_csv(\"Data Validation/Cardiogenic Shock/Original DataFrames/LabelsCardiogenicShock.csv\", sep=\",\", index_col='ID').sort_index()\n",
    "\n",
    "#Serial Cardiac\n",
    "serialHemo = pd.read_csv(\"Data Validation/Serial Cardiac Caths/Preprocessed Data/SerialCardiac_Hemo.csv\", sep=\",\", index_col='ID').sort_index()\n",
    "serialAllData = pd.read_csv(\"Data Validation/Serial Cardiac Caths/Preprocessed Data/SerialCardiac_AllData.csv\", sep=\",\", index_col='ID').sort_index()\n",
    "serialHemoLabels = pd.read_csv(\"Data Validation/Serial Cardiac Caths/Original DataFrames/HemoLabelsSerialCardiac.csv\", sep=\",\", index_col='ID').sort_index()\n",
    "serialLabels = pd.read_csv(\"Data Validation/Serial Cardiac Caths/Original DataFrames/LabelsSerialCardiac.csv\", sep=\",\", index_col='ID').sort_index()\n",
    "\n",
    "#HF-ACTION\n",
    "hfactionAllData = pd.read_csv(\"Data Validation/HF-ACTION/Preprocessed Data/HF-ACTION_AllData.csv\", sep=\",\", index_col='ID').sort_index()\n",
    "hfactionLabels = pd.read_csv(\"Data Validation/HF-ACTION/Original DataFrames/LabelsHF-ACTION.csv\", sep=\",\", index_col='ID').sort_index()\n",
    "\n",
    "#BEST\n",
    "bestAllData = pd.read_csv(\"Data Validation/BEST/Preprocessed Data/BEST_AllData.csv\", sep=\",\", index_col='ID').sort_index()\n",
    "bestLabels = pd.read_csv(\"Data Validation/BEST/Original DataFrames/LabelsBEST.csv\", sep=\",\", index_col='ID').sort_index()\n",
    "\n",
    "#Guide it\n",
    "guideAllData = pd.read_csv(\"Data Validation/GUIDE-IT/Preprocessed Data/GUIDE-IT_AllData.csv\", sep=\",\", index_col='ID').sort_index()\n",
    "guideLabels = pd.read_csv(\"Data Validation/GUIDE-IT/Original DataFrames/LabelsGUIDE-IT.csv\", sep=\",\", index_col='ID').sort_index()\n"
   ]
  },
  {
   "cell_type": "code",
   "execution_count": null,
   "metadata": {
    "pycharm": {
     "is_executing": true,
     "name": "#%%\n"
    }
   },
   "outputs": [],
   "source": [
    "def getPercentOutcome(dataset, labels, outcome, risk):\n",
    "    cluster = dataset.loc[dataset['Score' + outcome] == risk ]\n",
    "    labelMatches = labels[labels.index.isin(cluster.index)]\n",
    "    per = labelMatches[outcome].mean()\n",
    "    return per\n"
   ]
  },
  {
   "cell_type": "code",
   "execution_count": null,
   "metadata": {
    "pycharm": {
     "is_executing": true,
     "name": "#%%\n"
    }
   },
   "outputs": [],
   "source": [
    "risks = [5, 4, 3, 2, 1]\n",
    "lst = []\n",
    "outcome = 'Death'\n",
    "for r in risks:\n",
    "    per1 = getPercentOutcome(escapeHemo, escapeHemoLabels, outcome, r)\n",
    "    per2 = getPercentOutcome(cardShockHemo, cardShockHemoLabels, outcome, r)\n",
    "    per3 = getPercentOutcome(serialHemo, serialHemoLabels, outcome, r)\n",
    "    lst.append([r, per1, per2, per3])\n",
    "    \n",
    "df = pd.DataFrame(lst, columns = ['Cluster', 'ESCAPE', 'Card Shock', 'Serial']).set_index('Cluster')\n",
    "print(df.mean(axis=1))\n",
    "df.T\n"
   ]
  },
  {
   "cell_type": "code",
   "execution_count": null,
   "metadata": {
    "pycharm": {
     "is_executing": true,
     "name": "#%%\n"
    }
   },
   "outputs": [],
   "source": [
    "risks = [5, 4, 3, 2, 1]\n",
    "lst = []\n",
    "outcome = 'Rehosp'\n",
    "for r in risks:\n",
    "    per1 = getPercentOutcome(escapeHemo, escapeLabels, outcome, r)\n",
    "#     per2 = getPercentOutcome(cardShockHemo, cardShockHemoLabels, outcome, r)\n",
    "#     per3 = getPercentOutcome(serialHemo, serialHemoLabels, outcome, r)\n",
    "    lst.append([r, per1, per2, per3])\n",
    "    \n",
    "df = pd.DataFrame(lst, columns = ['Cluster', 'ESCAPE', 'Card Shock', 'Serial']).set_index('Cluster')\n",
    "print(df.mean(axis=1))\n",
    "df.T"
   ]
  },
  {
   "cell_type": "code",
   "execution_count": null,
   "metadata": {
    "pycharm": {
     "is_executing": true,
     "name": "#%%\n"
    }
   },
   "outputs": [],
   "source": []
  },
  {
   "cell_type": "markdown",
   "metadata": {
    "pycharm": {
     "name": "#%% md\n"
    }
   },
   "source": [
    "## All Data"
   ]
  },
  {
   "cell_type": "code",
   "execution_count": null,
   "metadata": {
    "pycharm": {
     "is_executing": true,
     "name": "#%%\n"
    }
   },
   "outputs": [],
   "source": [
    "risks = [5, 4, 3, 2, 1]\n",
    "lst = []\n",
    "outcome = 'Death'\n",
    "for r in risks:\n",
    "    per1 = getPercentOutcome(escapeAllData, escapeLabels, outcome, r)\n",
    "    per2 = getPercentOutcome(cardShockAllData, cardShockLabels, outcome, r)\n",
    "    per3 = getPercentOutcome(serialAllData, serialLabels, outcome, r)\n",
    "    per4 = getPercentOutcome(hfactionAllData, hfactionLabels, outcome, r)\n",
    "    per5 = getPercentOutcome(bestAllData, bestLabels, outcome, r)\n",
    "    per6 = getPercentOutcome(guideAllData, guideLabels, outcome, r)\n",
    "    lst.append([r, per1, per2, per3, per4, per5, per6])\n",
    "    \n",
    "df = pd.DataFrame(lst, columns = ['Cluster', 'ESCAPE', 'Card Shock', 'Serial', 'HF-ACTION', 'BEST', 'GUIDE']).set_index('Cluster')\n",
    "print(df.mean(axis=1))\n",
    "df.T"
   ]
  },
  {
   "cell_type": "code",
   "execution_count": null,
   "metadata": {
    "pycharm": {
     "is_executing": true,
     "name": "#%%\n"
    }
   },
   "outputs": [],
   "source": [
    "risks = [5, 4, 3, 2, 1]\n",
    "lst = []\n",
    "outcome = 'Rehosp'\n",
    "for r in risks:\n",
    "    per1 = getPercentOutcome(escapeAllData, escapeLabels, outcome, r)\n",
    "#     per2 = getPercentOutcome(cardShockAllData, cardShockLabels, outcome, r)\n",
    "#     per3 = getPercentOutcome(serialAllData, serialLabels, outcome, r)\n",
    "    per4 = getPercentOutcome(hfactionAllData, hfactionLabels, outcome, r)\n",
    "    per5 = getPercentOutcome(bestAllData, bestLabels, outcome, r)\n",
    "    per6 = getPercentOutcome(guideAllData, guideLabels, outcome, r)\n",
    "    lst.append([r, per1,  per4, per5, per6])\n",
    "    \n",
    "df = pd.DataFrame(lst, columns = ['Cluster', 'ESCAPE',  'HF-ACTION', 'BEST', 'GUIDE']).set_index('Cluster')\n",
    "print(df.mean(axis=1))\n",
    "df.T"
   ]
  },
  {
   "cell_type": "code",
   "execution_count": null,
   "metadata": {
    "pycharm": {
     "is_executing": true,
     "name": "#%%\n"
    }
   },
   "outputs": [],
   "source": [
    "risks = [5, 4, 3, 2, 1]\n",
    "lst = []\n",
    "outcome = 'Readmission'\n",
    "for r in risks:\n",
    "    per1 = getPercentOutcome(escapeAllData, escapeLabels, outcome, r)\n",
    "#     per2 = getPercentOutcome(cardShockAllData, cardShockLabels, outcome, r)\n",
    "#     per3 = getPercentOutcome(serialAllData, serialLabels, outcome, r)\n",
    "    per4 = getPercentOutcome(hfactionAllData, hfactionLabels, outcome, r)\n",
    "#     per5 = getPercentOutcome(bestAllData, bestLabels, outcome, r)\n",
    "#     per6 = getPercentOutcome(guideAllData, guideLabels, outcome, r)\n",
    "    lst.append([r, per1,  per4, ])\n",
    "    \n",
    "df = pd.DataFrame(lst, columns = ['Cluster', 'ESCAPE',  'HF-ACTION']).set_index('Cluster')\n",
    "print(df.mean(axis=1))\n",
    "df.T"
   ]
  },
  {
   "cell_type": "code",
   "execution_count": null,
   "metadata": {
    "pycharm": {
     "is_executing": true,
     "name": "#%%\n"
    }
   },
   "outputs": [],
   "source": []
  },
  {
   "cell_type": "markdown",
   "metadata": {
    "pycharm": {
     "name": "#%% md\n"
    }
   },
   "source": [
    "# Get Outcome Percentages Based on Cluster Group"
   ]
  },
  {
   "cell_type": "code",
   "execution_count": null,
   "metadata": {
    "pycharm": {
     "is_executing": true,
     "name": "#%%\n"
    }
   },
   "outputs": [],
   "source": [
    "#Load ESCAPE training data\n",
    "escapeAllData = pd.read_csv(\"Data/Preprocessed Data/ESCAPE_AllData.csv\", sep=\",\", index_col='ID').sort_index() #all feature dataset\n",
    "escapeHemo = pd.read_csv(\"Data/Preprocessed Data/ESCAPE_Hemo.csv\", sep=\",\", index_col='ID').sort_index() #dataset with only hemodynamics\n",
    "escapeLabels  = pd.read_csv(\"Data/Original DataFrames/Labels.csv\", sep=\",\", index_col='DEIDNUM').sort_index() #labels for prediction classes \n",
    "escapeHemoLabels = escapeLabels[escapeLabels.index.isin(escapeHemo.index)]\n",
    "\n",
    "#Cardiogenic Shock\n",
    "cardShockHemo = pd.read_csv(\"Data Validation/Cardiogenic Shock/Preprocessed Data/CardiogenicShock_Hemo.csv\", sep=\",\", index_col='ID').sort_index()\n",
    "cardShockAllData = pd.read_csv(\"Data Validation/Cardiogenic Shock/Preprocessed Data/CardiogenicShock_AllData.csv\", sep=\",\", index_col='ID').sort_index()\n",
    "cardShockHemoLabels = pd.read_csv(\"Data Validation/Cardiogenic Shock/Original DataFrames/HemoLabelsCardiogenicShock.csv\", sep=\",\", index_col='ID').sort_index()\n",
    "cardShockLabels = pd.read_csv(\"Data Validation/Cardiogenic Shock/Original DataFrames/LabelsCardiogenicShock.csv\", sep=\",\", index_col='ID').sort_index()\n",
    "\n",
    "#Serial Cardiac\n",
    "serialHemo = pd.read_csv(\"Data Validation/Serial Cardiac Caths/Preprocessed Data/SerialCardiac_Hemo.csv\", sep=\",\", index_col='ID').sort_index()\n",
    "serialAllData = pd.read_csv(\"Data Validation/Serial Cardiac Caths/Preprocessed Data/SerialCardiac_AllData.csv\", sep=\",\", index_col='ID').sort_index()\n",
    "serialHemoLabels = pd.read_csv(\"Data Validation/Serial Cardiac Caths/Original DataFrames/HemoLabelsSerialCardiac.csv\", sep=\",\", index_col='ID').sort_index()\n",
    "serialLabels = pd.read_csv(\"Data Validation/Serial Cardiac Caths/Original DataFrames/LabelsSerialCardiac.csv\", sep=\",\", index_col='ID').sort_index()\n",
    "\n",
    "#HF-ACTION\n",
    "hfactionAllData = pd.read_csv(\"Data Validation/HF-ACTION/Preprocessed Data/HF-ACTION_AllData.csv\", sep=\",\", index_col='ID').sort_index()\n",
    "hfactionLabels = pd.read_csv(\"Data Validation/HF-ACTION/Original DataFrames/LabelsHF-ACTION.csv\", sep=\",\", index_col='ID').sort_index()\n",
    "\n",
    "#BEST\n",
    "bestAllData = pd.read_csv(\"Data Validation/BEST/Preprocessed Data/BEST_AllData.csv\", sep=\",\", index_col='ID').sort_index()\n",
    "bestLabels = pd.read_csv(\"Data Validation/BEST/Original DataFrames/LabelsBEST.csv\", sep=\",\", index_col='ID').sort_index()\n",
    "\n",
    "#Guide it\n",
    "guideAllData = pd.read_csv(\"Data Validation/GUIDE-IT/Preprocessed Data/GUIDE-IT_AllData.csv\", sep=\",\", index_col='ID').sort_index()\n",
    "guideLabels = pd.read_csv(\"Data Validation/GUIDE-IT/Original DataFrames/LabelsGUIDE-IT.csv\", sep=\",\", index_col='ID').sort_index()\n"
   ]
  },
  {
   "cell_type": "code",
   "execution_count": null,
   "metadata": {
    "pycharm": {
     "is_executing": true,
     "name": "#%%\n"
    }
   },
   "outputs": [],
   "source": [
    "def getPercentOutcome(dataset, labels, outcome, risk):\n",
    "    cluster = dataset.loc[dataset['Score' + outcome] == risk ]\n",
    "    labelMatches = labels[labels.index.isin(cluster.index)]\n",
    "    per = labelMatches[outcome].mean()\n",
    "    return per\n"
   ]
  },
  {
   "cell_type": "code",
   "execution_count": null,
   "metadata": {
    "pycharm": {
     "is_executing": true,
     "name": "#%%\n"
    }
   },
   "outputs": [],
   "source": [
    "risks = [5, 4, 3, 2, 1]\n",
    "lst = []\n",
    "outcome = 'Death'\n",
    "for r in risks:\n",
    "    per1 = getPercentOutcome(escapeHemo, escapeHemoLabels, outcome, r)\n",
    "    per2 = getPercentOutcome(cardShockHemo, cardShockHemoLabels, outcome, r)\n",
    "    per3 = getPercentOutcome(serialHemo, serialHemoLabels, outcome, r)\n",
    "    lst.append([r, per1, per2, per3])\n",
    "    \n",
    "df = pd.DataFrame(lst, columns = ['Cluster', 'ESCAPE', 'Card Shock', 'Serial']).set_index('Cluster')\n",
    "print(df.mean(axis=1))\n",
    "df.T\n"
   ]
  },
  {
   "cell_type": "code",
   "execution_count": null,
   "metadata": {
    "pycharm": {
     "is_executing": true,
     "name": "#%%\n"
    }
   },
   "outputs": [],
   "source": [
    "risks = [5, 4, 3, 2, 1]\n",
    "lst = []\n",
    "outcome = 'Rehosp'\n",
    "for r in risks:\n",
    "    per1 = getPercentOutcome(escapeHemo, escapeLabels, outcome, r)\n",
    "#     per2 = getPercentOutcome(cardShockHemo, cardShockHemoLabels, outcome, r)\n",
    "#     per3 = getPercentOutcome(serialHemo, serialHemoLabels, outcome, r)\n",
    "    lst.append([r, per1, per2, per3])\n",
    "    \n",
    "df = pd.DataFrame(lst, columns = ['Cluster', 'ESCAPE', 'Card Shock', 'Serial']).set_index('Cluster')\n",
    "print(df.mean(axis=1))\n",
    "df.T"
   ]
  },
  {
   "cell_type": "code",
   "execution_count": null,
   "metadata": {
    "pycharm": {
     "is_executing": true,
     "name": "#%%\n"
    }
   },
   "outputs": [],
   "source": []
  },
  {
   "cell_type": "markdown",
   "metadata": {
    "pycharm": {
     "name": "#%% md\n"
    }
   },
   "source": [
    "## All Data"
   ]
  },
  {
   "cell_type": "code",
   "execution_count": null,
   "metadata": {
    "pycharm": {
     "is_executing": true,
     "name": "#%%\n"
    }
   },
   "outputs": [],
   "source": [
    "risks = [5, 4, 3, 2, 1]\n",
    "lst = []\n",
    "outcome = 'Death'\n",
    "for r in risks:\n",
    "    per1 = getPercentOutcome(escapeAllData, escapeLabels, outcome, r)\n",
    "    per2 = getPercentOutcome(cardShockAllData, cardShockLabels, outcome, r)\n",
    "    per3 = getPercentOutcome(serialAllData, serialLabels, outcome, r)\n",
    "    per4 = getPercentOutcome(hfactionAllData, hfactionLabels, outcome, r)\n",
    "    per5 = getPercentOutcome(bestAllData, bestLabels, outcome, r)\n",
    "    per6 = getPercentOutcome(guideAllData, guideLabels, outcome, r)\n",
    "    lst.append([r, per1, per2, per3, per4, per5, per6])\n",
    "    \n",
    "df = pd.DataFrame(lst, columns = ['Cluster', 'ESCAPE', 'Card Shock', 'Serial', 'HF-ACTION', 'BEST', 'GUIDE']).set_index('Cluster')\n",
    "print(df.mean(axis=1))\n",
    "df.T"
   ]
  },
  {
   "cell_type": "code",
   "execution_count": null,
   "metadata": {
    "pycharm": {
     "is_executing": true,
     "name": "#%%\n"
    }
   },
   "outputs": [],
   "source": [
    "risks = [5, 4, 3, 2, 1]\n",
    "lst = []\n",
    "outcome = 'Rehosp'\n",
    "for r in risks:\n",
    "    per1 = getPercentOutcome(escapeAllData, escapeLabels, outcome, r)\n",
    "#     per2 = getPercentOutcome(cardShockAllData, cardShockLabels, outcome, r)\n",
    "#     per3 = getPercentOutcome(serialAllData, serialLabels, outcome, r)\n",
    "    per4 = getPercentOutcome(hfactionAllData, hfactionLabels, outcome, r)\n",
    "    per5 = getPercentOutcome(bestAllData, bestLabels, outcome, r)\n",
    "    per6 = getPercentOutcome(guideAllData, guideLabels, outcome, r)\n",
    "    lst.append([r, per1,  per4, per5, per6])\n",
    "    \n",
    "df = pd.DataFrame(lst, columns = ['Cluster', 'ESCAPE',  'HF-ACTION', 'BEST', 'GUIDE']).set_index('Cluster')\n",
    "print(df.mean(axis=1))\n",
    "df.T"
   ]
  },
  {
   "cell_type": "code",
   "execution_count": null,
   "metadata": {
    "pycharm": {
     "is_executing": true,
     "name": "#%%\n"
    }
   },
   "outputs": [],
   "source": [
    "risks = [5, 4, 3, 2, 1]\n",
    "lst = []\n",
    "outcome = 'Readmission'\n",
    "for r in risks:\n",
    "    per1 = getPercentOutcome(escapeAllData, escapeLabels, outcome, r)\n",
    "#     per2 = getPercentOutcome(cardShockAllData, cardShockLabels, outcome, r)\n",
    "#     per3 = getPercentOutcome(serialAllData, serialLabels, outcome, r)\n",
    "    per4 = getPercentOutcome(hfactionAllData, hfactionLabels, outcome, r)\n",
    "#     per5 = getPercentOutcome(bestAllData, bestLabels, outcome, r)\n",
    "#     per6 = getPercentOutcome(guideAllData, guideLabels, outcome, r)\n",
    "    lst.append([r, per1,  per4, ])\n",
    "    \n",
    "df = pd.DataFrame(lst, columns = ['Cluster', 'ESCAPE',  'HF-ACTION']).set_index('Cluster')\n",
    "print(df.mean(axis=1))\n",
    "df.T"
   ]
  },
  {
   "cell_type": "code",
   "execution_count": null,
   "metadata": {
    "pycharm": {
     "is_executing": true,
     "name": "#%%\n"
    }
   },
   "outputs": [],
   "source": []
  },
  {
   "cell_type": "code",
   "execution_count": null,
   "metadata": {
    "pycharm": {
     "is_executing": true,
     "name": "#%%\n"
    }
   },
   "outputs": [],
   "source": [
    "test = pd.read_csv(\"Data/Preprocessed Data/ESCAPE_AllData.csv\", sep=\",\", index_col='ID').sort_index() #all feature dataset\n",
    "test"
   ]
  },
  {
   "cell_type": "code",
   "execution_count": null,
   "metadata": {
    "pycharm": {
     "is_executing": true,
     "name": "#%%\n"
    }
   },
   "outputs": [],
   "source": [
    "plt.hist(test['ScoreDeath'])"
   ]
  },
  {
   "cell_type": "code",
   "execution_count": null,
   "metadata": {
    "pycharm": {
     "is_executing": true,
     "name": "#%%\n"
    }
   },
   "outputs": [],
   "source": []
  },
  {
   "cell_type": "code",
   "execution_count": null,
   "metadata": {},
   "outputs": [],
   "source": []
  },
  {
   "cell_type": "code",
   "execution_count": null,
   "metadata": {},
   "outputs": [],
   "source": []
  },
  {
   "cell_type": "code",
   "execution_count": null,
   "metadata": {},
   "outputs": [],
   "source": []
  },
  {
   "cell_type": "code",
   "execution_count": null,
   "metadata": {},
   "outputs": [],
   "source": []
  }
 ],
 "metadata": {
  "kernelspec": {
   "display_name": "Python 3 (ipykernel)",
   "language": "python",
   "name": "python3"
  },
  "language_info": {
   "codemirror_mode": {
    "name": "ipython",
    "version": 3
   },
   "file_extension": ".py",
   "mimetype": "text/x-python",
   "name": "python",
   "nbconvert_exporter": "python",
   "pygments_lexer": "ipython3",
   "version": "3.8.9"
  }
 },
 "nbformat": 4,
 "nbformat_minor": 4
}