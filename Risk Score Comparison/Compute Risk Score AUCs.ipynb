{
 "cells": [
  {
   "cell_type": "code",
   "execution_count": 2,
   "metadata": {},
   "outputs": [],
   "source": [
    "#Import packages\n",
    "import pandas as pd\n",
    "import numpy as np\n",
    "import matplotlib.pyplot as plt\n",
    "import seaborn as sns\n",
    "import copy\n",
    "import warnings\n",
    "from sklearn import metrics\n",
    "from sklearn.metrics import * \n",
    "\n",
    "plt.rc('font', size=12)\n",
    "warnings.filterwarnings('ignore')"
   ]
  },
  {
   "cell_type": "code",
   "execution_count": 4,
   "metadata": {},
   "outputs": [],
   "source": [
    "def getAUC(labelDF, scoreDF):\n",
    "    #make comparison df of predicted prob vs real labels\n",
    "    lst = []\n",
    "    scoreList = scoreDF['Score'].tolist()\n",
    "    \n",
    "    for i in range(len(scoreList)):\n",
    "        if not np.isnan(scoreList[i]):\n",
    "            est = scoreList[i]\n",
    "            idx = scoreDF.iloc[i].name\n",
    "            real = labelDF.loc[idx].item()\n",
    "            \n",
    "            lst.append([idx, est, real])\n",
    "    \n",
    "    compDF = pd.DataFrame(lst, columns=['IDX', 'Predicted', 'Real']).set_index('IDX')\n",
    "    scr = roc_auc_score(compDF['Real'], compDF['Predicted'])\n",
    "    \n",
    "    return compDF, scr"
   ]
  },
  {
   "cell_type": "code",
   "execution_count": 5,
   "metadata": {},
   "outputs": [
    {
     "data": {
      "text/plain": [
       "0.46580674411426626"
      ]
     },
     "execution_count": 5,
     "metadata": {},
     "output_type": "execute_result"
    }
   ],
   "source": [
    "#Test prec recall\n",
    "esRs = escape.filter(['Age','BUN_D','SixFtWlk_D', 'SOD_D', 'CPR', 'MEVT', 'DIURDSE_D', 'BET_D', 'BNP_D'], axis=1)\n",
    "res = calcESCAPEScore(esRs)\n",
    "precision, recall, thresholds = precision_recall_curve(escapeLabels['Death'], res)\n",
    "auc = auc(recall, precision)\n",
    "auc"
   ]
  },
  {
   "cell_type": "code",
   "execution_count": 6,
   "metadata": {
    "scrolled": false
   },
   "outputs": [
    {
     "name": "stdout",
     "output_type": "stream",
     "text": [
      "Escape Risk AUC: 0.6805149843124527\n"
     ]
    },
    {
     "data": {
      "text/html": [
       "<div>\n",
       "<style scoped>\n",
       "    .dataframe tbody tr th:only-of-type {\n",
       "        vertical-align: middle;\n",
       "    }\n",
       "\n",
       "    .dataframe tbody tr th {\n",
       "        vertical-align: top;\n",
       "    }\n",
       "\n",
       "    .dataframe thead th {\n",
       "        text-align: right;\n",
       "    }\n",
       "</style>\n",
       "<table border=\"1\" class=\"dataframe\">\n",
       "  <thead>\n",
       "    <tr style=\"text-align: right;\">\n",
       "      <th></th>\n",
       "      <th>Predicted</th>\n",
       "      <th>Real</th>\n",
       "    </tr>\n",
       "    <tr>\n",
       "      <th>IDX</th>\n",
       "      <th></th>\n",
       "      <th></th>\n",
       "    </tr>\n",
       "  </thead>\n",
       "  <tbody>\n",
       "    <tr>\n",
       "      <th>72</th>\n",
       "      <td>0.368</td>\n",
       "      <td>1</td>\n",
       "    </tr>\n",
       "    <tr>\n",
       "      <th>81</th>\n",
       "      <td>0.033</td>\n",
       "      <td>0</td>\n",
       "    </tr>\n",
       "    <tr>\n",
       "      <th>86</th>\n",
       "      <td>0.123</td>\n",
       "      <td>0</td>\n",
       "    </tr>\n",
       "    <tr>\n",
       "      <th>267</th>\n",
       "      <td>0.368</td>\n",
       "      <td>1</td>\n",
       "    </tr>\n",
       "    <tr>\n",
       "      <th>814</th>\n",
       "      <td>0.065</td>\n",
       "      <td>0</td>\n",
       "    </tr>\n",
       "    <tr>\n",
       "      <th>...</th>\n",
       "      <td>...</td>\n",
       "      <td>...</td>\n",
       "    </tr>\n",
       "    <tr>\n",
       "      <th>98078</th>\n",
       "      <td>0.033</td>\n",
       "      <td>0</td>\n",
       "    </tr>\n",
       "    <tr>\n",
       "      <th>98508</th>\n",
       "      <td>0.033</td>\n",
       "      <td>0</td>\n",
       "    </tr>\n",
       "    <tr>\n",
       "      <th>99302</th>\n",
       "      <td>0.123</td>\n",
       "      <td>1</td>\n",
       "    </tr>\n",
       "    <tr>\n",
       "      <th>99912</th>\n",
       "      <td>0.033</td>\n",
       "      <td>0</td>\n",
       "    </tr>\n",
       "    <tr>\n",
       "      <th>99935</th>\n",
       "      <td>0.033</td>\n",
       "      <td>0</td>\n",
       "    </tr>\n",
       "  </tbody>\n",
       "</table>\n",
       "<p>433 rows × 2 columns</p>\n",
       "</div>"
      ],
      "text/plain": [
       "       Predicted  Real\n",
       "IDX                   \n",
       "72         0.368     1\n",
       "81         0.033     0\n",
       "86         0.123     0\n",
       "267        0.368     1\n",
       "814        0.065     0\n",
       "...          ...   ...\n",
       "98078      0.033     0\n",
       "98508      0.033     0\n",
       "99302      0.123     1\n",
       "99912      0.033     0\n",
       "99935      0.033     0\n",
       "\n",
       "[433 rows x 2 columns]"
      ]
     },
     "execution_count": 6,
     "metadata": {},
     "output_type": "execute_result"
    }
   ],
   "source": [
    "#ESCAPE Risk score\n",
    "esRs = escape.filter(['Age','BUN_D','SixFtWlk_D', 'SOD_D', 'CPR', 'MEVT', 'DIURDSE_D', 'BET_D', 'BNP_D'], axis=1)\n",
    "res = calcESCAPEScore(esRs)\n",
    "\n",
    "#given actual labels and predicted probability of the event (outcome), get AUC\n",
    "df, val = getAUC(escapeLabels['Death'], res)\n",
    "print(\"Escape Risk AUC:\", val)\n",
    "df"
   ]
  },
  {
   "cell_type": "code",
   "execution_count": 4,
   "metadata": {},
   "outputs": [],
   "source": [
    "#Escape score\n",
    "escape = pd.read_csv(\"Calculated Scores/ESCAPE_escapeScore.csv\")\n",
    "hfaction = pd.read_csv(\"Calculated Scores/HFACTION_escapeScore.csv\")\n",
    "best = pd.read_csv(\"Calculated Scores/BEST_escapeScore.csv\")\n",
    "card = pd.read_csv(\"Calculated Scores/CardiogenicShock_escapeScore.csv\")\n",
    "serial = pd.read_csv(\"Calculated Scores/SerialCardiac_escapeScore.csv\")\n",
    "\n"
   ]
  },
  {
   "cell_type": "code",
   "execution_count": 5,
   "metadata": {},
   "outputs": [],
   "source": [
    "#OPTIMIZE and EFFECT score\n",
    "escape = pd.read_csv(\"Calculated Scores/ESCAPE_optimizeEffectScore.csv\")\n",
    "hfaction = pd.read_csv(\"Calculated Scores/HFACTION_optimizeEffectScore.csv\")\n",
    "best = pd.read_csv(\"Calculated Scores/BEST_optimizeEffectScore.csv\")\n",
    "card = pd.read_csv(\"Calculated Scores/CardiogenicShock_optimizeEffectScore.csv\")\n",
    "serial = pd.read_csv(\"Calculated Scores/SerialCardiac_optimizeEffectScore.csv\")"
   ]
  },
  {
   "cell_type": "code",
   "execution_count": null,
   "metadata": {},
   "outputs": [],
   "source": []
  }
 ],
 "metadata": {
  "kernelspec": {
   "display_name": "Python 3",
   "language": "python",
   "name": "python3"
  },
  "language_info": {
   "codemirror_mode": {
    "name": "ipython",
    "version": 3
   },
   "file_extension": ".py",
   "mimetype": "text/x-python",
   "name": "python",
   "nbconvert_exporter": "python",
   "pygments_lexer": "ipython3",
   "version": "3.7.7"
  }
 },
 "nbformat": 4,
 "nbformat_minor": 1
}