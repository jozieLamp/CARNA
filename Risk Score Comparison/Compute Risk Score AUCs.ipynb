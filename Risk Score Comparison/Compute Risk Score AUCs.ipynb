{
 "cells": [
  {
   "cell_type": "code",
   "execution_count": 1,
   "metadata": {
    "pycharm": {
     "is_executing": true
    }
   },
   "outputs": [],
   "source": [
    "#Import packages\n",
    "import pandas as pd\n",
    "import numpy as np\n",
    "import matplotlib.pyplot as plt\n",
    "import seaborn as sns\n",
    "import copy\n",
    "import warnings\n",
    "from sklearn import metrics\n",
    "from sklearn.metrics import * \n",
    "\n",
    "plt.rc('font', size=12)\n",
    "warnings.filterwarnings('ignore')"
   ]
  },
  {
   "cell_type": "code",
   "execution_count": 2,
   "metadata": {},
   "outputs": [],
   "source": [
    "#Load Labels\n",
    "escapeLabels  = pd.read_csv(\"../Data/Original DataFrames/Labels.csv\", sep=\",\", index_col='DEIDNUM').sort_index() #labels for prediction classes \n",
    "bestLabels  = pd.read_csv(\"Preprocessed Data/LabelsBEST.csv\", sep=\",\", index_col='ID').sort_index() #labels for prediction classes \n",
    "hfactionLabels  = pd.read_csv(\"Preprocessed Data/LabelsHF-ACTION.csv\", sep=\",\", index_col='ID').sort_index() #labels for prediction classes \n",
    "guideLabels  = pd.read_csv(\"Preprocessed Data/LabelsGUIDE-IT.csv\", sep=\",\", index_col='ID').sort_index() #labels for prediction classes \n",
    "cardShockLabels = pd.read_csv(\"../Data Validation/Cardiogenic Shock/Original DataFrames/LabelsCardiogenicShock.csv\", sep=\",\", index_col='ID').sort_index()\n",
    "serialLabels = pd.read_csv(\"../Data Validation/Serial Cardiac Caths/Original DataFrames/LabelsSerialCardiac.csv\", sep=\",\", index_col='ID').sort_index()\n"
   ]
  },
  {
   "cell_type": "code",
   "execution_count": null,
   "metadata": {},
   "outputs": [],
   "source": [
    "#Need to get all scores and convert them to their mortality meaning\n",
    "#Then need to combine scores + real label values into a dataframe\n",
    "#Finally compute AUCs for each of the scores"
   ]
  },
  {
   "cell_type": "code",
   "execution_count": 51,
   "metadata": {},
   "outputs": [],
   "source": [
    "scoreName = 'ADHERE'\n",
    "dataName = 'ESCAPE'\n",
    "index = 'DEIDNUM'\n",
    "orig = pd.read_csv(\"Calculated Scores/\" + scoreName + \"/\"+ dataName + \"_\" + scoreName + \".csv\").set_index(index)\n"
   ]
  },
  {
   "cell_type": "code",
   "execution_count": null,
   "outputs": [],
   "source": [],
   "metadata": {
    "collapsed": false,
    "pycharm": {
     "name": "#%%\n"
    }
   }
  },
  {
   "cell_type": "code",
   "execution_count": null,
   "outputs": [],
   "source": [
    "def makeLabels(data, labels):\n",
    "    lst = []\n",
    "    idx = sorted(data.index)\n",
    "    for i in idx:\n",
    "        lab = labels.loc[i]\n",
    "        lst.append(lab['Death'])\n",
    "        \n",
    "    return pd.DataFrame(lst, columns=['Real'],index=idx)\n",
    "\n",
    "def makeScoreDF(dt, lbls, index):\n",
    "    #Get ESCAPE Score DF\n",
    "    orig = pd.read_csv(\"Calculated Scores/ESCAPE/\"+ dt + \"_ESCAPE.csv\").set_index(index)\n",
    "    labels = makeLabels(orig, lbls)\n",
    "    escDF = labels\n",
    "    escDF['ESCAPE'] = orig[['ESCAPE']]\n",
    "\n",
    "    #Get other scores\n",
    "    for scr in ['ADHERE', 'GWTG', 'MAGGIC']:\n",
    "        orig = pd.read_csv(\"Calculated Scores/\" + scr + \"/\"+ dt + \"_\" + scr + \".csv\").set_index(index)\n",
    "\n",
    "        #Make real labels\n",
    "        if scr == 'ADHERE':\n",
    "            labels = makeLabels(orig, lbls)\n",
    "            data = labels\n",
    "\n",
    "        #TODO HERE --> convert meaning of scores\n",
    "        data[scr] = orig[[scr]]\n",
    "\n",
    "        if data[scr].astype(str).str.contains('-').any():\n",
    "            data[[scr+'_Low', scr+'_High']] = data[scr].astype(str).str.split('-', expand=True)#.astype(float)\n",
    "\n",
    "    #Add Optimize and Effect scores\n",
    "    orig = pd.read_csv(\"Calculated Scores/OptimizeEffect/\"+ dt + \"_optimizeEffectScore.csv\").set_index(index)\n",
    "    data['OPTIMIZE-HF'] = orig['OPTIMIZE-HF']\n",
    "    data['EFFECT 30 Day'] = orig['EFFECT 30 Day']\n",
    "    data['EFFECT 1 Year'] = orig['EFFECT 1 Year']\n",
    "    \n",
    "    return escDF, data\n",
    "\n",
    "def getAUC(df):\n",
    "    colName = []\n",
    "    lst = []\n",
    "    for score in ['ADHERE_Low', 'ADHERE_High', 'GWTG_Low','GWTG_High', 'MAGGIC', 'OPTIMIZE-HF', \n",
    "                  'EFFECT 30 Day', 'EFFECT 1 Year']:\n",
    "        print(score)\n",
    "        \n",
    "        dfCpy = copy.deepcopy(df).dropna()\n",
    "        real = dfCpy['Real'].astype(float)\n",
    "        scoreVal = dfCpy[score].astype(float)\n",
    "        \n",
    "        precision, recall, thresholds = precision_recall_curve(real, scoreVal)\n",
    "        precAUC = auc(recall, precision)\n",
    "        print(\"Prec Recall AUC:\", precAUC)\n",
    "        lst.append(precAUC)\n",
    "\n",
    "        rocAUC = roc_auc_score(real, scoreVal)\n",
    "        print(\"ROC AUC:\", rocAUC)\n",
    "        lst.append(rocAUC)\n",
    "        \n",
    "        colName.append(score + \" Prec\")\n",
    "        colName.append(score + \" ROC\")\n",
    "    \n",
    "    return pd.DataFrame(lst, columns=colName)"
   ],
   "metadata": {
    "collapsed": false,
    "pycharm": {
     "name": "#%%\n"
    }
   }
  },
  {
   "cell_type": "code",
   "execution_count": null,
   "outputs": [],
   "source": [
    "# scores = ['ADHERE', 'ESCAPE', 'GWTG', 'MAGGIC']\n",
    "# datasets = ['ESCAPE', 'BEST', 'HF-ACTION', 'GUIDE-IT', 'CardShock', 'SerialCardiac']\n",
    "# labels = [escapeLabels, bestLabels, hfactionLabels, guideLabels, cardShockLabels, serialLabels]\n",
    "escapeDF, scoreDF = makeScoreDF('ESCAPE', escapeLabels, 'DEIDNUM')\n",
    "\n",
    "#ALSO TO DO SHFM"
   ],
   "metadata": {
    "collapsed": false,
    "pycharm": {
     "name": "#%%\n"
    }
   }
  },
  {
   "cell_type": "code",
   "execution_count": null,
   "outputs": [],
   "source": [
    "escapeDF, scoreDF = makeScoreDF('ESCAPE', escapeLabels, 'DEIDNUM')\n",
    "aucDF = getAUC(scoreDF)\n",
    "# escapeDF, scoreDF = makeScoreDF('GUIDE-IT', guideLabels, 'ID')\n",
    "\n",
    "aucDF"
   ],
   "metadata": {
    "collapsed": false,
    "pycharm": {
     "name": "#%%\n"
    }
   }
  },
  {
   "cell_type": "code",
   "execution_count": null,
   "outputs": [],
   "source": [
    "escapeDF"
   ],
   "metadata": {
    "collapsed": false,
    "pycharm": {
     "name": "#%%\n"
    }
   }
  },
  {
   "cell_type": "code",
   "execution_count": null,
   "outputs": [],
   "source": [],
   "metadata": {
    "collapsed": false,
    "pycharm": {
     "name": "#%%\n"
    }
   }
  },
  {
   "cell_type": "code",
   "execution_count": null,
   "outputs": [],
   "source": [],
   "metadata": {
    "collapsed": false,
    "pycharm": {
     "name": "#%%\n"
    }
   }
  },
  {
   "cell_type": "code",
   "execution_count": null,
   "outputs": [],
   "source": [
    "def getAUC(labelDF, scoreDF):\n",
    "    #make comparison df of predicted prob vs real labels\n",
    "    lst = []\n",
    "    scoreList = scoreDF['Score'].tolist()\n",
    "    \n",
    "    for i in range(len(scoreList)):\n",
    "        if not np.isnan(scoreList[i]):\n",
    "            est = scoreList[i]\n",
    "            idx = scoreDF.iloc[i].name\n",
    "            real = labelDF.loc[idx].item()\n",
    "            \n",
    "            lst.append([idx, est, real])\n",
    "    \n",
    "    compDF = pd.DataFrame(lst, columns=['IDX', 'Predicted', 'Real']).set_index('IDX')\n",
    "    scr = roc_auc_score(compDF['Real'], compDF['Predicted'])\n",
    "    \n",
    "    return compDF, scr"
   ],
   "metadata": {
    "collapsed": false,
    "pycharm": {
     "name": "#%%\n"
    }
   }
  },
  {
   "cell_type": "code",
   "execution_count": null,
   "outputs": [],
   "source": [
    "#Test prec recall\n",
    "esRs = escape.filter(['Age','BUN_D','SixFtWlk_D', 'SOD_D', 'CPR', 'MEVT', 'DIURDSE_D', 'BET_D', 'BNP_D'], axis=1)\n",
    "res = calcESCAPEScore(esRs)\n",
    "precision, recall, thresholds = precision_recall_curve(escapeLabels['Death'], res)\n",
    "auc = auc(recall, precision)\n",
    "auc"
   ],
   "metadata": {
    "collapsed": false,
    "pycharm": {
     "name": "#%%\n"
    }
   }
  },
  {
   "cell_type": "code",
   "execution_count": null,
   "outputs": [],
   "source": [
    "#ESCAPE Risk score\n",
    "esRs = escape.filter(['Age','BUN_D','SixFtWlk_D', 'SOD_D', 'CPR', 'MEVT', 'DIURDSE_D', 'BET_D', 'BNP_D'], axis=1)\n",
    "res = calcESCAPEScore(esRs)\n",
    "\n",
    "#given actual labels and predicted probability of the event (outcome), get AUC\n",
    "df, val = getAUC(escapeLabels['Death'], res)\n",
    "print(\"Escape Risk AUC:\", val)\n",
    "df"
   ],
   "metadata": {
    "collapsed": false,
    "pycharm": {
     "name": "#%%\n"
    }
   }
  },
  {
   "cell_type": "code",
   "execution_count": null,
   "outputs": [],
   "source": [
    "def getAUC(dataName, scoreName, index, labels):\n",
    "    data = pd.read_csv(\"Calculated Scores/\"+scoreName+\"/\" + dataName+\"_\" + scoreName + \".csv\")\n",
    "    \n",
    "    precision, recall, thresholds = precision_recall_curve(labels, data[scoreName])\n",
    "    precAUC = auc(recall, precision)\n",
    "    print(\"Prec Recall AUC:\", precAUC)\n",
    "    \n",
    "    rocAUC = roc_auc_score(labels, data[scoreName])\n",
    "    print(\"ROC AUC:\", rocAUC)\n",
    "    \n",
    "    return precAUC, rocAUC\n",
    "\n",
    "def makeLabels(data, labels, index):\n",
    "    lst = []\n",
    "    idx = sorted(data[index])\n",
    "    for i in idx:\n",
    "        lab = labels.loc[i]\n",
    "        lst.append(lab)\n",
    "        \n",
    "    return pd.DataFrame(lst, columns=['Death'],index=idx)\n",
    "\n",
    "def calcAUC(datasets, scores, labels, index):\n",
    "    grandLst = []\n",
    "    colNames = []\n",
    "    for scr in scores:\n",
    "        lst = []\n",
    "        for d in range(len(datasets)):\n",
    "            data = pd.read_csv(\"Calculated Scores/\"+scr+\"/\" + datasets[d] +\"_\" + scr + \".csv\")\n",
    "            lbl = labels[d]\n",
    "            \n",
    "            #check and fix labels if needed\n",
    "            if len(lbl) != len(data):\n",
    "                lbl = makeLabels(data, lbl, index[d])\n",
    "            \n",
    "            \n",
    "            \n",
    "            df = lbl\n",
    "            df['Score'] = data[scr]\n",
    "            \n",
    "            print(df)\n",
    "            \n",
    "            \n",
    "            #Calc scores\n",
    "            precision, recall, thresholds = precision_recall_curve(lbl, data[scr])\n",
    "            precAUC = auc(recall, precision)\n",
    "\n",
    "            rocAUC = roc_auc_score(lbl, data[scr])\n",
    "            \n",
    "            lst.append(precAUC)\n",
    "            lst.append(rocAUC)\n",
    "            \n",
    "            colNames.append(scr + \" \" + datasets[d] + \" Prec\")\n",
    "            colNames.append(scr + \" \" + datasets[d] + \" ROC\")\n",
    "        \n",
    "        grandLst.append(lst)\n",
    "        \n",
    "\n",
    "            \n",
    "            \n",
    "    aucDF = pd.DataFrame(grandLst, columns=colNames) \n",
    "    return aucDF"
   ],
   "metadata": {
    "collapsed": false,
    "pycharm": {
     "name": "#%%\n"
    }
   }
  },
  {
   "cell_type": "code",
   "execution_count": null,
   "outputs": [],
   "source": [
    "# scores = ['ADHERE', 'ESCAPE', 'GWTG', 'MAGGIC']\n",
    "# datasets = ['ESCAPE', 'BEST', 'HF-ACTION', 'GUIDE-IT', 'CardShock', 'SerialCardiac']\n",
    "# labels = [escapeLabels, bestLabels, hfactionLabels, guideLabels, cardShockLabels, serialLabels]\n",
    "\n",
    "scores = ['ESCAPE']\n",
    "datasets = ['ESCAPE', 'BEST']\n",
    "labels = [escapeLabels['Death'], bestLabels['Death']]\n",
    "index = ['DEIDNUM', 'ID']\n",
    "\n",
    "calcAUC(datasets, scores, labels, index)\n",
    "\n",
    "# getAUC(dataName='ESCAPE', scoreName=\"ESCAPE\", index='DEIDNUM', labels=escapeLabels['Death'])"
   ],
   "metadata": {
    "collapsed": false,
    "pycharm": {
     "name": "#%%\n"
    }
   }
  },
  {
   "cell_type": "code",
   "execution_count": null,
   "metadata": {},
   "outputs": [],
   "source": [
    "#Escape score\n",
    "escape = pd.read_csv(\"Calculated Scores/ESCAPE_escapeScore.csv\")\n",
    "hfaction = pd.read_csv(\"Calculated Scores/HFACTION_escapeScore.csv\")\n",
    "best = pd.read_csv(\"Calculated Scores/BEST_escapeScore.csv\")\n",
    "card = pd.read_csv(\"Calculated Scores/CardiogenicShock_escapeScore.csv\")\n",
    "serial = pd.read_csv(\"Calculated Scores/SerialCardiac_escapeScore.csv\")\n",
    "\n"
   ]
  },
  {
   "cell_type": "code",
   "execution_count": 43,
   "metadata": {},
   "outputs": [],
   "source": [
    "def makeLabels(data, labels):\n",
    "    lst = []\n",
    "    idx = sorted(data.index)\n",
    "    for i in idx:\n",
    "        lab = labels.loc[i]\n",
    "        lst.append(lab['Death'])\n",
    "        \n",
    "    return pd.DataFrame(lst, columns=['Real'],index=idx)\n",
    "\n",
    "def makeScoreDF(dt, lbls, index):\n",
    "    #Get ESCAPE Score DF\n",
    "    orig = pd.read_csv(\"Calculated Scores/ESCAPE/\"+ dt + \"_ESCAPE.csv\").set_index(index)\n",
    "    labels = makeLabels(orig, lbls)\n",
    "    escDF = labels\n",
    "    escDF['ESCAPE'] = orig[['ESCAPE']]\n",
    "\n",
    "    #Get other scores\n",
    "    for scr in ['ADHERE', 'GWTG', 'MAGGIC']:\n",
    "        orig = pd.read_csv(\"Calculated Scores/\" + scr + \"/\"+ dt + \"_\" + scr + \".csv\").set_index(index)\n",
    "\n",
    "        #Make real labels\n",
    "        if scr == 'ADHERE':\n",
    "            labels = makeLabels(orig, lbls)\n",
    "            data = labels\n",
    "\n",
    "        #TODO HERE --> convert meaning of scores\n",
    "        data[scr] = orig[[scr]]\n",
    "\n",
    "        if data[scr].astype(str).str.contains('-').any():\n",
    "            data[[scr+'_Low', scr+'_High']] = data[scr].astype(str).str.split('-', expand=True)#.astype(float)\n",
    "\n",
    "    #Add Optimize and Effect scores\n",
    "    orig = pd.read_csv(\"Calculated Scores/OptimizeEffect/\"+ dt + \"_optimizeEffectScore.csv\").set_index(index)\n",
    "    data['OPTIMIZE-HF'] = orig['OPTIMIZE-HF']\n",
    "    data['EFFECT 30 Day'] = orig['EFFECT 30 Day']\n",
    "    data['EFFECT 1 Year'] = orig['EFFECT 1 Year']\n",
    "    \n",
    "    return escDF, data\n",
    "\n",
    "def getAUC(df):\n",
    "    colName = []\n",
    "    lst = []\n",
    "    for score in ['ADHERE_Low', 'ADHERE_High', 'GWTG_Low','GWTG_High', 'MAGGIC', 'OPTIMIZE-HF', \n",
    "                  'EFFECT 30 Day', 'EFFECT 1 Year']:\n",
    "        print(score)\n",
    "        \n",
    "        dfCpy = copy.deepcopy(df).dropna()\n",
    "        real = dfCpy['Real'].astype(float)\n",
    "        scoreVal = dfCpy[score].astype(float)\n",
    "        \n",
    "        precision, recall, thresholds = precision_recall_curve(real, scoreVal)\n",
    "        precAUC = auc(recall, precision)\n",
    "        print(\"Prec Recall AUC:\", precAUC)\n",
    "        lst.append(precAUC)\n",
    "\n",
    "        rocAUC = roc_auc_score(real, scoreVal)\n",
    "        print(\"ROC AUC:\", rocAUC)\n",
    "        lst.append(rocAUC)\n",
    "        \n",
    "        colName.append(score + \" Prec\")\n",
    "        colName.append(score + \" ROC\")\n",
    "    \n",
    "    return pd.DataFrame(lst, columns=colName)"
   ]
  },
  {
   "cell_type": "code",
   "execution_count": 44,
   "metadata": {},
   "outputs": [],
   "source": [
    "# scores = ['ADHERE', 'ESCAPE', 'GWTG', 'MAGGIC']\n",
    "# datasets = ['ESCAPE', 'BEST', 'HF-ACTION', 'GUIDE-IT', 'CardShock', 'SerialCardiac']\n",
    "# labels = [escapeLabels, bestLabels, hfactionLabels, guideLabels, cardShockLabels, serialLabels]\n",
    "escapeDF, scoreDF = makeScoreDF('ESCAPE', escapeLabels, 'DEIDNUM')\n",
    "\n",
    "#ALSO TO DO SHFM"
   ]
  },
  {
   "cell_type": "code",
   "execution_count": 48,
   "metadata": {},
   "outputs": [
    {
     "name": "stdout",
     "output_type": "stream",
     "text": [
      "ADHERE_Low\n",
      "Prec Recall AUC: 0.6179271708683474\n",
      "ROC AUC: 0.575\n",
      "ADHERE_High\n",
      "Prec Recall AUC: 0.6179271708683474\n",
      "ROC AUC: 0.575\n",
      "GWTG_Low\n"
     ]
    },
    {
     "ename": "ValueError",
     "evalue": "could not convert string to float: ",
     "output_type": "error",
     "traceback": [
      "\u001B[0;31m---------------------------------------------------------------------------\u001B[0m",
      "\u001B[0;31mValueError\u001B[0m                                Traceback (most recent call last)",
      "\u001B[0;32m<ipython-input-48-5842b52747fa>\u001B[0m in \u001B[0;36m<module>\u001B[0;34m\u001B[0m\n\u001B[1;32m      1\u001B[0m \u001B[0mescapeDF\u001B[0m\u001B[0;34m,\u001B[0m \u001B[0mscoreDF\u001B[0m \u001B[0;34m=\u001B[0m \u001B[0mmakeScoreDF\u001B[0m\u001B[0;34m(\u001B[0m\u001B[0;34m'ESCAPE'\u001B[0m\u001B[0;34m,\u001B[0m \u001B[0mescapeLabels\u001B[0m\u001B[0;34m,\u001B[0m \u001B[0;34m'DEIDNUM'\u001B[0m\u001B[0;34m)\u001B[0m\u001B[0;34m\u001B[0m\u001B[0;34m\u001B[0m\u001B[0m\n\u001B[0;32m----> 2\u001B[0;31m \u001B[0maucDF\u001B[0m \u001B[0;34m=\u001B[0m \u001B[0mgetAUC\u001B[0m\u001B[0;34m(\u001B[0m\u001B[0mscoreDF\u001B[0m\u001B[0;34m)\u001B[0m\u001B[0;34m\u001B[0m\u001B[0;34m\u001B[0m\u001B[0m\n\u001B[0m\u001B[1;32m      3\u001B[0m \u001B[0;31m# escapeDF, scoreDF = makeScoreDF('GUIDE-IT', guideLabels, 'ID')\u001B[0m\u001B[0;34m\u001B[0m\u001B[0;34m\u001B[0m\u001B[0;34m\u001B[0m\u001B[0m\n\u001B[1;32m      4\u001B[0m \u001B[0;34m\u001B[0m\u001B[0m\n\u001B[1;32m      5\u001B[0m \u001B[0maucDF\u001B[0m\u001B[0;34m\u001B[0m\u001B[0;34m\u001B[0m\u001B[0m\n",
      "\u001B[0;32m<ipython-input-43-92f1b786a517>\u001B[0m in \u001B[0;36mgetAUC\u001B[0;34m(df)\u001B[0m\n\u001B[1;32m     46\u001B[0m         \u001B[0mdfCpy\u001B[0m \u001B[0;34m=\u001B[0m \u001B[0mcopy\u001B[0m\u001B[0;34m.\u001B[0m\u001B[0mdeepcopy\u001B[0m\u001B[0;34m(\u001B[0m\u001B[0mdf\u001B[0m\u001B[0;34m)\u001B[0m\u001B[0;34m.\u001B[0m\u001B[0mdropna\u001B[0m\u001B[0;34m(\u001B[0m\u001B[0;34m)\u001B[0m\u001B[0;34m\u001B[0m\u001B[0;34m\u001B[0m\u001B[0m\n\u001B[1;32m     47\u001B[0m         \u001B[0mreal\u001B[0m \u001B[0;34m=\u001B[0m \u001B[0mdfCpy\u001B[0m\u001B[0;34m[\u001B[0m\u001B[0;34m'Real'\u001B[0m\u001B[0;34m]\u001B[0m\u001B[0;34m.\u001B[0m\u001B[0mastype\u001B[0m\u001B[0;34m(\u001B[0m\u001B[0mfloat\u001B[0m\u001B[0;34m)\u001B[0m\u001B[0;34m\u001B[0m\u001B[0;34m\u001B[0m\u001B[0m\n\u001B[0;32m---> 48\u001B[0;31m         \u001B[0mscoreVal\u001B[0m \u001B[0;34m=\u001B[0m \u001B[0mdfCpy\u001B[0m\u001B[0;34m[\u001B[0m\u001B[0mscore\u001B[0m\u001B[0;34m]\u001B[0m\u001B[0;34m.\u001B[0m\u001B[0mastype\u001B[0m\u001B[0;34m(\u001B[0m\u001B[0mfloat\u001B[0m\u001B[0;34m)\u001B[0m\u001B[0;34m\u001B[0m\u001B[0;34m\u001B[0m\u001B[0m\n\u001B[0m\u001B[1;32m     49\u001B[0m \u001B[0;34m\u001B[0m\u001B[0m\n\u001B[1;32m     50\u001B[0m         \u001B[0mprecision\u001B[0m\u001B[0;34m,\u001B[0m \u001B[0mrecall\u001B[0m\u001B[0;34m,\u001B[0m \u001B[0mthresholds\u001B[0m \u001B[0;34m=\u001B[0m \u001B[0mprecision_recall_curve\u001B[0m\u001B[0;34m(\u001B[0m\u001B[0mreal\u001B[0m\u001B[0;34m,\u001B[0m \u001B[0mscoreVal\u001B[0m\u001B[0;34m)\u001B[0m\u001B[0;34m\u001B[0m\u001B[0;34m\u001B[0m\u001B[0m\n",
      "\u001B[0;32m~/PycharmProjects/HemoPheno4HF/venv/lib/python3.7/site-packages/pandas/core/generic.py\u001B[0m in \u001B[0;36mastype\u001B[0;34m(self, dtype, copy, errors)\u001B[0m\n\u001B[1;32m   5535\u001B[0m         \u001B[0;32melse\u001B[0m\u001B[0;34m:\u001B[0m\u001B[0;34m\u001B[0m\u001B[0;34m\u001B[0m\u001B[0m\n\u001B[1;32m   5536\u001B[0m             \u001B[0;31m# else, only a single dtype is given\u001B[0m\u001B[0;34m\u001B[0m\u001B[0;34m\u001B[0m\u001B[0;34m\u001B[0m\u001B[0m\n\u001B[0;32m-> 5537\u001B[0;31m             \u001B[0mnew_data\u001B[0m \u001B[0;34m=\u001B[0m \u001B[0mself\u001B[0m\u001B[0;34m.\u001B[0m\u001B[0m_mgr\u001B[0m\u001B[0;34m.\u001B[0m\u001B[0mastype\u001B[0m\u001B[0;34m(\u001B[0m\u001B[0mdtype\u001B[0m\u001B[0;34m=\u001B[0m\u001B[0mdtype\u001B[0m\u001B[0;34m,\u001B[0m \u001B[0mcopy\u001B[0m\u001B[0;34m=\u001B[0m\u001B[0mcopy\u001B[0m\u001B[0;34m,\u001B[0m \u001B[0merrors\u001B[0m\u001B[0;34m=\u001B[0m\u001B[0merrors\u001B[0m\u001B[0;34m,\u001B[0m\u001B[0;34m)\u001B[0m\u001B[0;34m\u001B[0m\u001B[0;34m\u001B[0m\u001B[0m\n\u001B[0m\u001B[1;32m   5538\u001B[0m             \u001B[0;32mreturn\u001B[0m \u001B[0mself\u001B[0m\u001B[0;34m.\u001B[0m\u001B[0m_constructor\u001B[0m\u001B[0;34m(\u001B[0m\u001B[0mnew_data\u001B[0m\u001B[0;34m)\u001B[0m\u001B[0;34m.\u001B[0m\u001B[0m__finalize__\u001B[0m\u001B[0;34m(\u001B[0m\u001B[0mself\u001B[0m\u001B[0;34m,\u001B[0m \u001B[0mmethod\u001B[0m\u001B[0;34m=\u001B[0m\u001B[0;34m\"astype\"\u001B[0m\u001B[0;34m)\u001B[0m\u001B[0;34m\u001B[0m\u001B[0;34m\u001B[0m\u001B[0m\n\u001B[1;32m   5539\u001B[0m \u001B[0;34m\u001B[0m\u001B[0m\n",
      "\u001B[0;32m~/PycharmProjects/HemoPheno4HF/venv/lib/python3.7/site-packages/pandas/core/internals/managers.py\u001B[0m in \u001B[0;36mastype\u001B[0;34m(self, dtype, copy, errors)\u001B[0m\n\u001B[1;32m    593\u001B[0m         \u001B[0mself\u001B[0m\u001B[0;34m,\u001B[0m \u001B[0mdtype\u001B[0m\u001B[0;34m,\u001B[0m \u001B[0mcopy\u001B[0m\u001B[0;34m:\u001B[0m \u001B[0mbool\u001B[0m \u001B[0;34m=\u001B[0m \u001B[0;32mFalse\u001B[0m\u001B[0;34m,\u001B[0m \u001B[0merrors\u001B[0m\u001B[0;34m:\u001B[0m \u001B[0mstr\u001B[0m \u001B[0;34m=\u001B[0m \u001B[0;34m\"raise\"\u001B[0m\u001B[0;34m\u001B[0m\u001B[0;34m\u001B[0m\u001B[0m\n\u001B[1;32m    594\u001B[0m     ) -> \"BlockManager\":\n\u001B[0;32m--> 595\u001B[0;31m         \u001B[0;32mreturn\u001B[0m \u001B[0mself\u001B[0m\u001B[0;34m.\u001B[0m\u001B[0mapply\u001B[0m\u001B[0;34m(\u001B[0m\u001B[0;34m\"astype\"\u001B[0m\u001B[0;34m,\u001B[0m \u001B[0mdtype\u001B[0m\u001B[0;34m=\u001B[0m\u001B[0mdtype\u001B[0m\u001B[0;34m,\u001B[0m \u001B[0mcopy\u001B[0m\u001B[0;34m=\u001B[0m\u001B[0mcopy\u001B[0m\u001B[0;34m,\u001B[0m \u001B[0merrors\u001B[0m\u001B[0;34m=\u001B[0m\u001B[0merrors\u001B[0m\u001B[0;34m)\u001B[0m\u001B[0;34m\u001B[0m\u001B[0;34m\u001B[0m\u001B[0m\n\u001B[0m\u001B[1;32m    596\u001B[0m \u001B[0;34m\u001B[0m\u001B[0m\n\u001B[1;32m    597\u001B[0m     def convert(\n",
      "\u001B[0;32m~/PycharmProjects/HemoPheno4HF/venv/lib/python3.7/site-packages/pandas/core/internals/managers.py\u001B[0m in \u001B[0;36mapply\u001B[0;34m(self, f, align_keys, **kwargs)\u001B[0m\n\u001B[1;32m    404\u001B[0m                 \u001B[0mapplied\u001B[0m \u001B[0;34m=\u001B[0m \u001B[0mb\u001B[0m\u001B[0;34m.\u001B[0m\u001B[0mapply\u001B[0m\u001B[0;34m(\u001B[0m\u001B[0mf\u001B[0m\u001B[0;34m,\u001B[0m \u001B[0;34m**\u001B[0m\u001B[0mkwargs\u001B[0m\u001B[0;34m)\u001B[0m\u001B[0;34m\u001B[0m\u001B[0;34m\u001B[0m\u001B[0m\n\u001B[1;32m    405\u001B[0m             \u001B[0;32melse\u001B[0m\u001B[0;34m:\u001B[0m\u001B[0;34m\u001B[0m\u001B[0;34m\u001B[0m\u001B[0m\n\u001B[0;32m--> 406\u001B[0;31m                 \u001B[0mapplied\u001B[0m \u001B[0;34m=\u001B[0m \u001B[0mgetattr\u001B[0m\u001B[0;34m(\u001B[0m\u001B[0mb\u001B[0m\u001B[0;34m,\u001B[0m \u001B[0mf\u001B[0m\u001B[0;34m)\u001B[0m\u001B[0;34m(\u001B[0m\u001B[0;34m**\u001B[0m\u001B[0mkwargs\u001B[0m\u001B[0;34m)\u001B[0m\u001B[0;34m\u001B[0m\u001B[0;34m\u001B[0m\u001B[0m\n\u001B[0m\u001B[1;32m    407\u001B[0m             \u001B[0mresult_blocks\u001B[0m \u001B[0;34m=\u001B[0m \u001B[0m_extend_blocks\u001B[0m\u001B[0;34m(\u001B[0m\u001B[0mapplied\u001B[0m\u001B[0;34m,\u001B[0m \u001B[0mresult_blocks\u001B[0m\u001B[0;34m)\u001B[0m\u001B[0;34m\u001B[0m\u001B[0;34m\u001B[0m\u001B[0m\n\u001B[1;32m    408\u001B[0m \u001B[0;34m\u001B[0m\u001B[0m\n",
      "\u001B[0;32m~/PycharmProjects/HemoPheno4HF/venv/lib/python3.7/site-packages/pandas/core/internals/blocks.py\u001B[0m in \u001B[0;36mastype\u001B[0;34m(self, dtype, copy, errors)\u001B[0m\n\u001B[1;32m    587\u001B[0m             \u001B[0mvals1d\u001B[0m \u001B[0;34m=\u001B[0m \u001B[0mvalues\u001B[0m\u001B[0;34m.\u001B[0m\u001B[0mravel\u001B[0m\u001B[0;34m(\u001B[0m\u001B[0;34m)\u001B[0m\u001B[0;34m\u001B[0m\u001B[0;34m\u001B[0m\u001B[0m\n\u001B[1;32m    588\u001B[0m             \u001B[0;32mtry\u001B[0m\u001B[0;34m:\u001B[0m\u001B[0;34m\u001B[0m\u001B[0;34m\u001B[0m\u001B[0m\n\u001B[0;32m--> 589\u001B[0;31m                 \u001B[0mvalues\u001B[0m \u001B[0;34m=\u001B[0m \u001B[0mastype_nansafe\u001B[0m\u001B[0;34m(\u001B[0m\u001B[0mvals1d\u001B[0m\u001B[0;34m,\u001B[0m \u001B[0mdtype\u001B[0m\u001B[0;34m,\u001B[0m \u001B[0mcopy\u001B[0m\u001B[0;34m=\u001B[0m\u001B[0;32mTrue\u001B[0m\u001B[0;34m)\u001B[0m\u001B[0;34m\u001B[0m\u001B[0;34m\u001B[0m\u001B[0m\n\u001B[0m\u001B[1;32m    590\u001B[0m             \u001B[0;32mexcept\u001B[0m \u001B[0;34m(\u001B[0m\u001B[0mValueError\u001B[0m\u001B[0;34m,\u001B[0m \u001B[0mTypeError\u001B[0m\u001B[0;34m)\u001B[0m\u001B[0;34m:\u001B[0m\u001B[0;34m\u001B[0m\u001B[0;34m\u001B[0m\u001B[0m\n\u001B[1;32m    591\u001B[0m                 \u001B[0;31m# e.g. astype_nansafe can fail on object-dtype of strings\u001B[0m\u001B[0;34m\u001B[0m\u001B[0;34m\u001B[0m\u001B[0;34m\u001B[0m\u001B[0m\n",
      "\u001B[0;32m~/PycharmProjects/HemoPheno4HF/venv/lib/python3.7/site-packages/pandas/core/dtypes/cast.py\u001B[0m in \u001B[0;36mastype_nansafe\u001B[0;34m(arr, dtype, copy, skipna)\u001B[0m\n\u001B[1;32m    987\u001B[0m     \u001B[0;32mif\u001B[0m \u001B[0mcopy\u001B[0m \u001B[0;32mor\u001B[0m \u001B[0mis_object_dtype\u001B[0m\u001B[0;34m(\u001B[0m\u001B[0marr\u001B[0m\u001B[0;34m)\u001B[0m \u001B[0;32mor\u001B[0m \u001B[0mis_object_dtype\u001B[0m\u001B[0;34m(\u001B[0m\u001B[0mdtype\u001B[0m\u001B[0;34m)\u001B[0m\u001B[0;34m:\u001B[0m\u001B[0;34m\u001B[0m\u001B[0;34m\u001B[0m\u001B[0m\n\u001B[1;32m    988\u001B[0m         \u001B[0;31m# Explicit copy, or required since NumPy can't view from / to object.\u001B[0m\u001B[0;34m\u001B[0m\u001B[0;34m\u001B[0m\u001B[0;34m\u001B[0m\u001B[0m\n\u001B[0;32m--> 989\u001B[0;31m         \u001B[0;32mreturn\u001B[0m \u001B[0marr\u001B[0m\u001B[0;34m.\u001B[0m\u001B[0mastype\u001B[0m\u001B[0;34m(\u001B[0m\u001B[0mdtype\u001B[0m\u001B[0;34m,\u001B[0m \u001B[0mcopy\u001B[0m\u001B[0;34m=\u001B[0m\u001B[0;32mTrue\u001B[0m\u001B[0;34m)\u001B[0m\u001B[0;34m\u001B[0m\u001B[0;34m\u001B[0m\u001B[0m\n\u001B[0m\u001B[1;32m    990\u001B[0m \u001B[0;34m\u001B[0m\u001B[0m\n\u001B[1;32m    991\u001B[0m     \u001B[0;32mreturn\u001B[0m \u001B[0marr\u001B[0m\u001B[0;34m.\u001B[0m\u001B[0mview\u001B[0m\u001B[0;34m(\u001B[0m\u001B[0mdtype\u001B[0m\u001B[0;34m)\u001B[0m\u001B[0;34m\u001B[0m\u001B[0;34m\u001B[0m\u001B[0m\n",
      "\u001B[0;31mValueError\u001B[0m: could not convert string to float: "
     ]
    }
   ],
   "source": [
    "escapeDF, scoreDF = makeScoreDF('ESCAPE', escapeLabels, 'DEIDNUM')\n",
    "aucDF = getAUC(scoreDF)\n",
    "# escapeDF, scoreDF = makeScoreDF('GUIDE-IT', guideLabels, 'ID')\n",
    "\n",
    "aucDF"
   ]
  },
  {
   "cell_type": "code",
   "execution_count": 49,
   "metadata": {},
   "outputs": [
    {
     "data": {
      "text/html": [
       "<div>\n",
       "<style scoped>\n",
       "    .dataframe tbody tr th:only-of-type {\n",
       "        vertical-align: middle;\n",
       "    }\n",
       "\n",
       "    .dataframe tbody tr th {\n",
       "        vertical-align: top;\n",
       "    }\n",
       "\n",
       "    .dataframe thead th {\n",
       "        text-align: right;\n",
       "    }\n",
       "</style>\n",
       "<table border=\"1\" class=\"dataframe\">\n",
       "  <thead>\n",
       "    <tr style=\"text-align: right;\">\n",
       "      <th></th>\n",
       "      <th>Real</th>\n",
       "      <th>ESCAPE</th>\n",
       "    </tr>\n",
       "  </thead>\n",
       "  <tbody>\n",
       "    <tr>\n",
       "      <th>72</th>\n",
       "      <td>1</td>\n",
       "      <td>0.368</td>\n",
       "    </tr>\n",
       "    <tr>\n",
       "      <th>81</th>\n",
       "      <td>0</td>\n",
       "      <td>0.033</td>\n",
       "    </tr>\n",
       "    <tr>\n",
       "      <th>86</th>\n",
       "      <td>0</td>\n",
       "      <td>0.123</td>\n",
       "    </tr>\n",
       "    <tr>\n",
       "      <th>267</th>\n",
       "      <td>1</td>\n",
       "      <td>0.368</td>\n",
       "    </tr>\n",
       "    <tr>\n",
       "      <th>814</th>\n",
       "      <td>0</td>\n",
       "      <td>0.065</td>\n",
       "    </tr>\n",
       "    <tr>\n",
       "      <th>...</th>\n",
       "      <td>...</td>\n",
       "      <td>...</td>\n",
       "    </tr>\n",
       "    <tr>\n",
       "      <th>98078</th>\n",
       "      <td>0</td>\n",
       "      <td>0.033</td>\n",
       "    </tr>\n",
       "    <tr>\n",
       "      <th>98508</th>\n",
       "      <td>0</td>\n",
       "      <td>0.033</td>\n",
       "    </tr>\n",
       "    <tr>\n",
       "      <th>99302</th>\n",
       "      <td>1</td>\n",
       "      <td>0.123</td>\n",
       "    </tr>\n",
       "    <tr>\n",
       "      <th>99912</th>\n",
       "      <td>0</td>\n",
       "      <td>0.033</td>\n",
       "    </tr>\n",
       "    <tr>\n",
       "      <th>99935</th>\n",
       "      <td>0</td>\n",
       "      <td>0.033</td>\n",
       "    </tr>\n",
       "  </tbody>\n",
       "</table>\n",
       "<p>433 rows × 2 columns</p>\n",
       "</div>"
      ],
      "text/plain": [
       "       Real  ESCAPE\n",
       "72        1   0.368\n",
       "81        0   0.033\n",
       "86        0   0.123\n",
       "267       1   0.368\n",
       "814       0   0.065\n",
       "...     ...     ...\n",
       "98078     0   0.033\n",
       "98508     0   0.033\n",
       "99302     1   0.123\n",
       "99912     0   0.033\n",
       "99935     0   0.033\n",
       "\n",
       "[433 rows x 2 columns]"
      ]
     },
     "execution_count": 49,
     "metadata": {},
     "output_type": "execute_result"
    }
   ],
   "source": [
    "escapeDF"
   ]
  },
  {
   "cell_type": "code",
   "execution_count": null,
   "metadata": {},
   "outputs": [],
   "source": []
  },
  {
   "cell_type": "code",
   "execution_count": null,
   "metadata": {},
   "outputs": [],
   "source": []
  },
  {
   "cell_type": "code",
   "execution_count": null,
   "metadata": {
    "pycharm": {
     "is_executing": true
    }
   },
   "outputs": [],
   "source": [
    "def getAUC(labelDF, scoreDF):\n",
    "    #make comparison df of predicted prob vs real labels\n",
    "    lst = []\n",
    "    scoreList = scoreDF['Score'].tolist()\n",
    "    \n",
    "    for i in range(len(scoreList)):\n",
    "        if not np.isnan(scoreList[i]):\n",
    "            est = scoreList[i]\n",
    "            idx = scoreDF.iloc[i].name\n",
    "            real = labelDF.loc[idx].item()\n",
    "            \n",
    "            lst.append([idx, est, real])\n",
    "    \n",
    "    compDF = pd.DataFrame(lst, columns=['IDX', 'Predicted', 'Real']).set_index('IDX')\n",
    "    scr = roc_auc_score(compDF['Real'], compDF['Predicted'])\n",
    "    \n",
    "    return compDF, scr"
   ]
  },
  {
   "cell_type": "code",
   "execution_count": null,
   "metadata": {
    "pycharm": {
     "is_executing": true
    }
   },
   "outputs": [],
   "source": [
    "#Test prec recall\n",
    "esRs = escape.filter(['Age','BUN_D','SixFtWlk_D', 'SOD_D', 'CPR', 'MEVT', 'DIURDSE_D', 'BET_D', 'BNP_D'], axis=1)\n",
    "res = calcESCAPEScore(esRs)\n",
    "precision, recall, thresholds = precision_recall_curve(escapeLabels['Death'], res)\n",
    "auc = auc(recall, precision)\n",
    "auc"
   ]
  },
  {
   "cell_type": "code",
   "execution_count": null,
   "metadata": {
    "pycharm": {
     "is_executing": true
    },
    "scrolled": false
   },
   "outputs": [],
   "source": [
    "#ESCAPE Risk score\n",
    "esRs = escape.filter(['Age','BUN_D','SixFtWlk_D', 'SOD_D', 'CPR', 'MEVT', 'DIURDSE_D', 'BET_D', 'BNP_D'], axis=1)\n",
    "res = calcESCAPEScore(esRs)\n",
    "\n",
    "#given actual labels and predicted probability of the event (outcome), get AUC\n",
    "df, val = getAUC(escapeLabels['Death'], res)\n",
    "print(\"Escape Risk AUC:\", val)\n",
    "df"
   ]
  },
  {
   "cell_type": "code",
   "execution_count": 64,
   "metadata": {},
   "outputs": [],
   "source": [
    "def getAUC(dataName, scoreName, index, labels):\n",
    "    data = pd.read_csv(\"Calculated Scores/\"+scoreName+\"/\" + dataName+\"_\" + scoreName + \".csv\")\n",
    "    \n",
    "    precision, recall, thresholds = precision_recall_curve(labels, data[scoreName])\n",
    "    precAUC = auc(recall, precision)\n",
    "    print(\"Prec Recall AUC:\", precAUC)\n",
    "    \n",
    "    rocAUC = roc_auc_score(labels, data[scoreName])\n",
    "    print(\"ROC AUC:\", rocAUC)\n",
    "    \n",
    "    return precAUC, rocAUC\n",
    "\n",
    "def makeLabels(data, labels, index):\n",
    "    lst = []\n",
    "    idx = sorted(data[index])\n",
    "    for i in idx:\n",
    "        lab = labels.loc[i]\n",
    "        lst.append(lab)\n",
    "        \n",
    "    return pd.DataFrame(lst, columns=['Death'],index=idx)\n",
    "\n",
    "def calcAUC(datasets, scores, labels, index):\n",
    "    grandLst = []\n",
    "    colNames = []\n",
    "    for scr in scores:\n",
    "        lst = []\n",
    "        for d in range(len(datasets)):\n",
    "            data = pd.read_csv(\"Calculated Scores/\"+scr+\"/\" + datasets[d] +\"_\" + scr + \".csv\")\n",
    "            lbl = labels[d]\n",
    "            \n",
    "            #check and fix labels if needed\n",
    "            if len(lbl) != len(data):\n",
    "                lbl = makeLabels(data, lbl, index[d])\n",
    "            \n",
    "            \n",
    "            \n",
    "            df = lbl\n",
    "            df['Score'] = data[scr]\n",
    "            \n",
    "            print(df)\n",
    "            \n",
    "            \n",
    "            #Calc scores\n",
    "            precision, recall, thresholds = precision_recall_curve(lbl, data[scr])\n",
    "            precAUC = auc(recall, precision)\n",
    "\n",
    "            rocAUC = roc_auc_score(lbl, data[scr])\n",
    "            \n",
    "            lst.append(precAUC)\n",
    "            lst.append(rocAUC)\n",
    "            \n",
    "            colNames.append(scr + \" \" + datasets[d] + \" Prec\")\n",
    "            colNames.append(scr + \" \" + datasets[d] + \" ROC\")\n",
    "        \n",
    "        grandLst.append(lst)\n",
    "        \n",
    "\n",
    "            \n",
    "            \n",
    "    aucDF = pd.DataFrame(grandLst, columns=colNames) \n",
    "    return aucDF"
   ]
  },
  {
   "cell_type": "code",
   "execution_count": 66,
   "metadata": {},
   "outputs": [
    {
     "name": "stdout",
     "output_type": "stream",
     "text": [
      "DEIDNUM\n",
      "72                                                       1\n",
      "81                                                       0\n",
      "86                                                       0\n",
      "267                                                      1\n",
      "814                                                      0\n",
      "                               ...                        \n",
      "98508                                                    0\n",
      "99302                                                    1\n",
      "99912                                                    0\n",
      "99935                                                    0\n",
      "Score    0      0.368\n",
      "1      0.033\n",
      "2      0.123\n",
      "3      ...\n",
      "Name: Death, Length: 434, dtype: object\n"
     ]
    },
    {
     "ename": "ValueError",
     "evalue": "unknown format is not supported",
     "output_type": "error",
     "traceback": [
      "\u001B[0;31m---------------------------------------------------------------------------\u001B[0m",
      "\u001B[0;31mValueError\u001B[0m                                Traceback (most recent call last)",
      "\u001B[0;32m<ipython-input-66-f199e87ab141>\u001B[0m in \u001B[0;36m<module>\u001B[0;34m\u001B[0m\n\u001B[1;32m      8\u001B[0m \u001B[0mindex\u001B[0m \u001B[0;34m=\u001B[0m \u001B[0;34m[\u001B[0m\u001B[0;34m'DEIDNUM'\u001B[0m\u001B[0;34m,\u001B[0m \u001B[0;34m'ID'\u001B[0m\u001B[0;34m]\u001B[0m\u001B[0;34m\u001B[0m\u001B[0;34m\u001B[0m\u001B[0m\n\u001B[1;32m      9\u001B[0m \u001B[0;34m\u001B[0m\u001B[0m\n\u001B[0;32m---> 10\u001B[0;31m \u001B[0mcalcAUC\u001B[0m\u001B[0;34m(\u001B[0m\u001B[0mdatasets\u001B[0m\u001B[0;34m,\u001B[0m \u001B[0mscores\u001B[0m\u001B[0;34m,\u001B[0m \u001B[0mlabels\u001B[0m\u001B[0;34m,\u001B[0m \u001B[0mindex\u001B[0m\u001B[0;34m)\u001B[0m\u001B[0;34m\u001B[0m\u001B[0;34m\u001B[0m\u001B[0m\n\u001B[0m\u001B[1;32m     11\u001B[0m \u001B[0;34m\u001B[0m\u001B[0m\n\u001B[1;32m     12\u001B[0m \u001B[0;31m# getAUC(dataName='ESCAPE', scoreName=\"ESCAPE\", index='DEIDNUM', labels=escapeLabels['Death'])\u001B[0m\u001B[0;34m\u001B[0m\u001B[0;34m\u001B[0m\u001B[0;34m\u001B[0m\u001B[0m\n",
      "\u001B[0;32m<ipython-input-64-e6ac9a6a2a99>\u001B[0m in \u001B[0;36mcalcAUC\u001B[0;34m(datasets, scores, labels, index)\u001B[0m\n\u001B[1;32m     42\u001B[0m \u001B[0;34m\u001B[0m\u001B[0m\n\u001B[1;32m     43\u001B[0m             \u001B[0;31m#Calc scores\u001B[0m\u001B[0;34m\u001B[0m\u001B[0;34m\u001B[0m\u001B[0;34m\u001B[0m\u001B[0m\n\u001B[0;32m---> 44\u001B[0;31m             \u001B[0mprecision\u001B[0m\u001B[0;34m,\u001B[0m \u001B[0mrecall\u001B[0m\u001B[0;34m,\u001B[0m \u001B[0mthresholds\u001B[0m \u001B[0;34m=\u001B[0m \u001B[0mprecision_recall_curve\u001B[0m\u001B[0;34m(\u001B[0m\u001B[0mlbl\u001B[0m\u001B[0;34m,\u001B[0m \u001B[0mdata\u001B[0m\u001B[0;34m[\u001B[0m\u001B[0mscr\u001B[0m\u001B[0;34m]\u001B[0m\u001B[0;34m)\u001B[0m\u001B[0;34m\u001B[0m\u001B[0;34m\u001B[0m\u001B[0m\n\u001B[0m\u001B[1;32m     45\u001B[0m             \u001B[0mprecAUC\u001B[0m \u001B[0;34m=\u001B[0m \u001B[0mauc\u001B[0m\u001B[0;34m(\u001B[0m\u001B[0mrecall\u001B[0m\u001B[0;34m,\u001B[0m \u001B[0mprecision\u001B[0m\u001B[0;34m)\u001B[0m\u001B[0;34m\u001B[0m\u001B[0;34m\u001B[0m\u001B[0m\n\u001B[1;32m     46\u001B[0m \u001B[0;34m\u001B[0m\u001B[0m\n",
      "\u001B[0;32m~/PycharmProjects/HemoPheno4HF/venv/lib/python3.7/site-packages/sklearn/utils/validation.py\u001B[0m in \u001B[0;36minner_f\u001B[0;34m(*args, **kwargs)\u001B[0m\n\u001B[1;32m     70\u001B[0m                           FutureWarning)\n\u001B[1;32m     71\u001B[0m         \u001B[0mkwargs\u001B[0m\u001B[0;34m.\u001B[0m\u001B[0mupdate\u001B[0m\u001B[0;34m(\u001B[0m\u001B[0;34m{\u001B[0m\u001B[0mk\u001B[0m\u001B[0;34m:\u001B[0m \u001B[0marg\u001B[0m \u001B[0;32mfor\u001B[0m \u001B[0mk\u001B[0m\u001B[0;34m,\u001B[0m \u001B[0marg\u001B[0m \u001B[0;32min\u001B[0m \u001B[0mzip\u001B[0m\u001B[0;34m(\u001B[0m\u001B[0msig\u001B[0m\u001B[0;34m.\u001B[0m\u001B[0mparameters\u001B[0m\u001B[0;34m,\u001B[0m \u001B[0margs\u001B[0m\u001B[0;34m)\u001B[0m\u001B[0;34m}\u001B[0m\u001B[0;34m)\u001B[0m\u001B[0;34m\u001B[0m\u001B[0;34m\u001B[0m\u001B[0m\n\u001B[0;32m---> 72\u001B[0;31m         \u001B[0;32mreturn\u001B[0m \u001B[0mf\u001B[0m\u001B[0;34m(\u001B[0m\u001B[0;34m**\u001B[0m\u001B[0mkwargs\u001B[0m\u001B[0;34m)\u001B[0m\u001B[0;34m\u001B[0m\u001B[0;34m\u001B[0m\u001B[0m\n\u001B[0m\u001B[1;32m     73\u001B[0m     \u001B[0;32mreturn\u001B[0m \u001B[0minner_f\u001B[0m\u001B[0;34m\u001B[0m\u001B[0;34m\u001B[0m\u001B[0m\n\u001B[1;32m     74\u001B[0m \u001B[0;34m\u001B[0m\u001B[0m\n",
      "\u001B[0;32m~/PycharmProjects/HemoPheno4HF/venv/lib/python3.7/site-packages/sklearn/metrics/_ranking.py\u001B[0m in \u001B[0;36mprecision_recall_curve\u001B[0;34m(y_true, probas_pred, pos_label, sample_weight)\u001B[0m\n\u001B[1;32m    675\u001B[0m     fps, tps, thresholds = _binary_clf_curve(y_true, probas_pred,\n\u001B[1;32m    676\u001B[0m                                              \u001B[0mpos_label\u001B[0m\u001B[0;34m=\u001B[0m\u001B[0mpos_label\u001B[0m\u001B[0;34m,\u001B[0m\u001B[0;34m\u001B[0m\u001B[0;34m\u001B[0m\u001B[0m\n\u001B[0;32m--> 677\u001B[0;31m                                              sample_weight=sample_weight)\n\u001B[0m\u001B[1;32m    678\u001B[0m \u001B[0;34m\u001B[0m\u001B[0m\n\u001B[1;32m    679\u001B[0m     \u001B[0mprecision\u001B[0m \u001B[0;34m=\u001B[0m \u001B[0mtps\u001B[0m \u001B[0;34m/\u001B[0m \u001B[0;34m(\u001B[0m\u001B[0mtps\u001B[0m \u001B[0;34m+\u001B[0m \u001B[0mfps\u001B[0m\u001B[0;34m)\u001B[0m\u001B[0;34m\u001B[0m\u001B[0;34m\u001B[0m\u001B[0m\n",
      "\u001B[0;32m~/PycharmProjects/HemoPheno4HF/venv/lib/python3.7/site-packages/sklearn/metrics/_ranking.py\u001B[0m in \u001B[0;36m_binary_clf_curve\u001B[0;34m(y_true, y_score, pos_label, sample_weight)\u001B[0m\n\u001B[1;32m    537\u001B[0m     if not (y_type == \"binary\" or\n\u001B[1;32m    538\u001B[0m             (y_type == \"multiclass\" and pos_label is not None)):\n\u001B[0;32m--> 539\u001B[0;31m         \u001B[0;32mraise\u001B[0m \u001B[0mValueError\u001B[0m\u001B[0;34m(\u001B[0m\u001B[0;34m\"{0} format is not supported\"\u001B[0m\u001B[0;34m.\u001B[0m\u001B[0mformat\u001B[0m\u001B[0;34m(\u001B[0m\u001B[0my_type\u001B[0m\u001B[0;34m)\u001B[0m\u001B[0;34m)\u001B[0m\u001B[0;34m\u001B[0m\u001B[0;34m\u001B[0m\u001B[0m\n\u001B[0m\u001B[1;32m    540\u001B[0m \u001B[0;34m\u001B[0m\u001B[0m\n\u001B[1;32m    541\u001B[0m     \u001B[0mcheck_consistent_length\u001B[0m\u001B[0;34m(\u001B[0m\u001B[0my_true\u001B[0m\u001B[0;34m,\u001B[0m \u001B[0my_score\u001B[0m\u001B[0;34m,\u001B[0m \u001B[0msample_weight\u001B[0m\u001B[0;34m)\u001B[0m\u001B[0;34m\u001B[0m\u001B[0;34m\u001B[0m\u001B[0m\n",
      "\u001B[0;31mValueError\u001B[0m: unknown format is not supported"
     ]
    }
   ],
   "source": [
    "# scores = ['ADHERE', 'ESCAPE', 'GWTG', 'MAGGIC']\n",
    "# datasets = ['ESCAPE', 'BEST', 'HF-ACTION', 'GUIDE-IT', 'CardShock', 'SerialCardiac']\n",
    "# labels = [escapeLabels, bestLabels, hfactionLabels, guideLabels, cardShockLabels, serialLabels]\n",
    "\n",
    "scores = ['ESCAPE']\n",
    "datasets = ['ESCAPE', 'BEST']\n",
    "labels = [escapeLabels['Death'], bestLabels['Death']]\n",
    "index = ['DEIDNUM', 'ID']\n",
    "\n",
    "calcAUC(datasets, scores, labels, index)\n",
    "\n",
    "# getAUC(dataName='ESCAPE', scoreName=\"ESCAPE\", index='DEIDNUM', labels=escapeLabels['Death'])"
   ]
  },
  {
   "cell_type": "code",
   "execution_count": null,
   "metadata": {
    "pycharm": {
     "is_executing": true
    }
   },
   "outputs": [],
   "source": [
    "#Escape score\n",
    "escape = pd.read_csv(\"Calculated Scores/ESCAPE_escapeScore.csv\")\n",
    "hfaction = pd.read_csv(\"Calculated Scores/HFACTION_escapeScore.csv\")\n",
    "best = pd.read_csv(\"Calculated Scores/BEST_escapeScore.csv\")\n",
    "card = pd.read_csv(\"Calculated Scores/CardiogenicShock_escapeScore.csv\")\n",
    "serial = pd.read_csv(\"Calculated Scores/SerialCardiac_escapeScore.csv\")\n",
    "\n"
   ]
  },
  {
   "cell_type": "code",
   "execution_count": null,
   "metadata": {
    "pycharm": {
     "is_executing": true
    }
   },
   "outputs": [],
   "source": [
    "#OPTIMIZE and EFFECT score\n",
    "escape = pd.read_csv(\"Calculated Scores/ESCAPE_optimizeEffectScore.csv\")\n",
    "hfaction = pd.read_csv(\"Calculated Scores/HFACTION_optimizeEffectScore.csv\")\n",
    "best = pd.read_csv(\"Calculated Scores/BEST_optimizeEffectScore.csv\")\n",
    "card = pd.read_csv(\"Calculated Scores/CardiogenicShock_optimizeEffectScore.csv\")\n",
    "serial = pd.read_csv(\"Calculated Scores/SerialCardiac_optimizeEffectScore.csv\")"
   ]
  },
  {
   "cell_type": "code",
   "execution_count": null,
   "metadata": {
    "pycharm": {
     "is_executing": true
    }
   },
   "outputs": [],
   "source": []
  }
 ],
 "metadata": {
  "kernelspec": {
   "display_name": "Python 3",
   "language": "python",
   "name": "python3"
  },
  "language_info": {
   "codemirror_mode": {
    "name": "ipython",
    "version": 3
   },
   "file_extension": ".py",
   "mimetype": "text/x-python",
   "name": "python",
   "nbconvert_exporter": "python",
   "pygments_lexer": "ipython3",
   "version": "3.7.7"
  }
 },
 "nbformat": 4,
 "nbformat_minor": 1
}