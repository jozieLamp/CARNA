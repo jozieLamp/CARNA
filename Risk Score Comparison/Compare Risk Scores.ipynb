{
 "cells": [
  {
   "cell_type": "code",
   "execution_count": null,
   "metadata": {
    "pycharm": {
     "is_executing": true
    }
   },
   "outputs": [],
   "source": [
    "#Import packages\n",
    "import pandas as pd\n",
    "import numpy as np\n",
    "import matplotlib.pyplot as plt\n",
    "import seaborn as sns\n",
    "import copy\n",
    "import warnings\n",
    "from sklearn import metrics\n",
    "from sklearn.metrics import * \n",
    "\n",
    "plt.rc('font', size=12)\n",
    "warnings.filterwarnings('ignore')"
   ]
  },
  {
   "cell_type": "code",
   "execution_count": null,
   "metadata": {
    "pycharm": {
     "is_executing": true
    }
   },
   "outputs": [],
   "source": [
    "#Load data\n",
    "#ESCAPE\n",
    "escape = pd.read_csv(\"Preprocessed Data/EscapeAllData.csv\", sep=\",\", index_col='DEIDNUM').sort_index() #all feature dataset\n",
    "escapeSV = pd.read_csv(\"Preprocessed Data/EscapeAllDataSingleValue.csv\", sep=\",\", index_col='DEIDNUM').sort_index() #all feature dataset\n",
    "escapeLabels  = pd.read_csv(\"../Data/Original DataFrames/Labels.csv\", sep=\",\", index_col='DEIDNUM').sort_index() #labels for prediction classes \n",
    "\n",
    "#BEST\n",
    "#Only has discharge data + no hemo\n",
    "best = pd.read_csv(\"Preprocessed Data/AllDataBEST.csv\", sep=\",\", index_col='ID').sort_index() #all feature dataset\n",
    "bestLabels  = pd.read_csv(\"Preprocessed Data/LabelsBEST.csv\", sep=\",\", index_col='ID').sort_index() #labels for prediction classes \n",
    "\n",
    "#HF ACTION\n",
    "#Only has discharge data + no hemo\n",
    "hfaction = pd.read_csv(\"Preprocessed Data/AllDataHF-ACTION.csv\", sep=\",\", index_col='ID').sort_index() #all feature dataset\n",
    "hfactionLabels  = pd.read_csv(\"Preprocessed Data/LabelsHF-ACTION.csv\", sep=\",\", index_col='ID').sort_index() #labels for prediction classes \n",
    "\n",
    "#Guide it\n",
    "guide = pd.read_csv(\"Preprocessed Data/GUIDEAllData.csv\", sep=\",\", index_col='ID').sort_index() #all feature dataset\n",
    "guideSV = pd.read_csv(\"Preprocessed Data/GUIDEAllDataSingleValue.csv\", sep=\",\", index_col='ID').sort_index() #all feature dataset\n",
    "guideLabels  = pd.read_csv(\"Preprocessed Data/LabelsGUIDE-IT.csv\", sep=\",\", index_col='ID').sort_index() #labels for prediction classes \n",
    "\n",
    "\n",
    "# #Cardiogenic shock\n",
    "# cardShockHemo = pd.read_csv(\"../Data Validation/Cardiogenic Shock/Original DataFrames/HemoCardiogenicShock.csv\", sep=\",\", index_col='ID').sort_index()\n",
    "# cardShockAllData = pd.read_csv(\"../Data Validation/Cardiogenic Shock/Original DataFrames/AllDataCardiogenicShock.csv\", sep=\",\", index_col='ID').sort_index()\n",
    "# cardShockLabels = pd.read_csv(\"../Data Validation/Cardiogenic Shock/Original DataFrames/LabelsCardiogenicShock.csv\", sep=\",\", index_col='ID').sort_index()\n",
    "# cardShockHemoLabels = pd.read_csv(\"../Data Validation/Cardiogenic Shock/Original DataFrames/HemoLabelsCardiogenicShock.csv\", sep=\",\", index_col='ID').sort_index()\n",
    "\n",
    "# #Serial Cardiac\n",
    "# serialHemo = pd.read_csv(\"../Data Validation/Serial Cardiac Caths/Original DataFrames/HemoSerialCardiac.csv\", sep=\",\", index_col='ID').sort_index()\n",
    "# serialAllData = pd.read_csv(\"../Data Validation/Serial Cardiac Caths/Original DataFrames/AllDataSerialCardiac.csv\", sep=\",\", index_col='ID').sort_index()\n",
    "# serialHemoLabels = pd.read_csv(\"../Data Validation/Serial Cardiac Caths/Original DataFrames/HemoLabelsSerialCardiac.csv\", sep=\",\", index_col='ID').sort_index()\n",
    "# serialLabels = pd.read_csv(\"../Data Validation/Serial Cardiac Caths/Original DataFrames/LabelsSerialCardiac.csv\", sep=\",\", index_col='ID').sort_index()\n",
    "\n",
    "# #HF-ACTION\n",
    "# hfactionAllData = pd.read_csv(\"../Data Validation/HF-ACTION/Original DataFrames/AllDataHF-ACTION.csv\", sep=\",\", index_col='ID').sort_index()\n",
    "# hfactionLabels = pd.read_csv(\"../Data Validation/HF-ACTION/Original DataFrames/LabelsHF-ACTION.csv\", sep=\",\", index_col='ID').sort_index()\n",
    "\n",
    "# #BEST\n",
    "# bestAllData = pd.read_csv(\"../Data Validation/BEST/Original DataFrames/AllDataBEST.csv\", sep=\",\", index_col='ID').sort_index()\n",
    "# bestLabels = pd.read_csv(\"../Data Validation/BEST/Original DataFrames/LabelsBEST.csv\", sep=\",\", index_col='ID').sort_index()\n",
    "\n",
    "# #Guide it\n",
    "# guideAllData = pd.read_csv(\"../Data Validation/GUIDE-IT/Original DataFrames/AllDataGUIDE-IT.csv\", sep=\",\", index_col='ID').sort_index()\n",
    "# guideLabels = pd.read_csv(\"../Data Validation/GUIDE-IT/Original DataFrames/LabelsGUIDE-IT.csv\", sep=\",\", index_col='ID').sort_index()\n",
    "\n"
   ]
  },
  {
   "cell_type": "code",
   "execution_count": null,
   "metadata": {
    "pycharm": {
     "is_executing": true
    }
   },
   "outputs": [],
   "source": [
    "cardShockAllData"
   ]
  },
  {
   "cell_type": "code",
   "execution_count": null,
   "metadata": {
    "pycharm": {
     "is_executing": true
    }
   },
   "outputs": [],
   "source": [
    "#Calculate ESCAPE Risk score\n",
    "\n",
    "def calcESCAPEScore(data):\n",
    "    lst = []\n",
    "    for idx in data.index:\n",
    "        pt = data.loc[idx]\n",
    "        scr = 0\n",
    "        if pt.iloc[0] > 70: #Age\n",
    "            scr += 1\n",
    "        if pt.iloc[1] > 40: #BUN\n",
    "            scr += 1\n",
    "        if pt.iloc[1] > 90: #BUN\n",
    "            scr += 1\n",
    "        if pt.iloc[2] < 300: #Walk ft\n",
    "            scr += 1\n",
    "        if pt.iloc[3] < 130: #SOD\n",
    "            scr += 1\n",
    "        if pt.iloc[4] == 1.0 or pt.iloc[5] == 1.0: #CPR or MEVT\n",
    "            scr += 2\n",
    "        if pt.iloc[6] > 240: #DIUR Dose\n",
    "            scr += 1\n",
    "        if pt.iloc[7] == 0.0: #BETA blockers\n",
    "            scr += 1\n",
    "        if pt.iloc[8] > 500: #BNP\n",
    "            scr += 1\n",
    "        if pt.iloc[8] > 1300: #BNP\n",
    "            scr += 3\n",
    "            \n",
    "        #associate score with prob of outcome\n",
    "        prob = 0\n",
    "        if scr == 0:\n",
    "            prob = 0.033\n",
    "        elif scr == 1:\n",
    "            prob = 0.065\n",
    "        elif scr == 2:\n",
    "            prob = 0.123\n",
    "        elif scr == 3:\n",
    "            prob = 0.223\n",
    "        elif scr == 4:\n",
    "            prob = 0.368\n",
    "        elif scr == 5:\n",
    "            prob = 0.543\n",
    "        elif scr == 6:\n",
    "            prob = 0.708\n",
    "        elif scr == 7:\n",
    "            prob = 0.831\n",
    "        else: #>= 8 \n",
    "            prob = 0.909\n",
    "\n",
    "        lst.append(prob)\n",
    "\n",
    "\n",
    "    rskDF = pd.DataFrame(lst, columns=['Score'], index=data.index)\n",
    "    return rskDF\n",
    "\n",
    "def calcEUROMACS(data): #Preoperative model\n",
    "    lst = []\n",
    "    for idx in data.index:\n",
    "        pt = data.loc[idx]\n",
    "        scr = 0\n",
    "        \n",
    "        if data.iloc[0] > 0.54 or data.iloc[1] > 0.54: #RAP or PCWP\n",
    "            scr += 2\n",
    "        if data.iloc[2] <= 10: #hemoglobin\n",
    "            scr += 1\n",
    "        if data.iloc[3] == 1.0: #multiple intravenous inotropes\n",
    "            scr += 2.5\n",
    "        if data.iloc[4] <= 3: #Intermacs class 1-3\n",
    "            scr += 2\n",
    "        if data.iloc[5] == 1.0: #severe RV dysfunction\n",
    "            scr += 2\n",
    "            \n",
    "        lst.append(scr)\n",
    "        \n",
    "    rskDF = pd.DataFrame(lst, columns=['Score'], index=data.index)\n",
    "    return rskDF\n",
    "        \n",
    "# def calcHealthABC(data):\n",
    "#     lst = []\n",
    "#     for idx in data.index:\n",
    "#         pt = data.loc[idx]\n",
    "#         scr = 0\n",
    "        \n",
    "#         if data.iloc[0] > 0.54 or data.iloc[1] > 0.54: #RAP or PCWP\n",
    "#             scr += 2\n",
    "#         if data.iloc[2] <= 10: #hemoglobin\n",
    "#             scr += 1\n",
    "#         if data.iloc[3] == 1.0: #multiple intravenous inotropes\n",
    "#             scr += 2.5\n",
    "#         if data.iloc[4] <= 3: #Intermacs class 1-3\n",
    "#             scr += 2\n",
    "#         if data.iloc[5] == 1.0: #severe RV dysfunction\n",
    "#             scr += 2\n",
    "            \n",
    "#         lst.append(scr)\n",
    "        \n",
    "#     rskDF = pd.DataFrame(lst, columns=['Score'], index=data.index)\n",
    "#     return rskDF\n",
    "\n"
   ]
  },
  {
   "cell_type": "code",
   "execution_count": null,
   "metadata": {
    "pycharm": {
     "is_executing": true
    }
   },
   "outputs": [],
   "source": [
    "aucs = []\n",
    "\n",
    "#Calculate all scores for this dataset\n",
    "\n",
    "#ESCAPE Risk score\n",
    "esRs = escape.filter(['Age','BUN_D','SixFtWlk_D', 'SOD_D', 'CPR', 'MEVT', 'DIURDSE_D', 'BET_D', 'BNP_D'], axis=1)\n",
    "res = calcESCAPEScore(esRs)\n",
    "#given actual labels and predicted probability of the event (outcome), get AUC\n",
    "actualVals = escapeLabels['Death']\n",
    "scr = roc_auc_score(actualVals, res['Score'])\n",
    "print(\"Escape Risk AUC:\", scr)\n",
    "aucs.append(scr)\n",
    "\n",
    "#EUROMACS - TBD once figure out how to properly code ...\n",
    "# esRs = escapeSV.filter(['RAP','PCWP','HEM', 'INOT', 'INTERMACS', 'SevRV'], axis=1)\n",
    "# res = calcEUROMACS(data)\n",
    "\n",
    "\n",
    "##\n",
    "Intermacs --> "
   ]
  },
  {
   "cell_type": "markdown",
   "metadata": {
    "pycharm": {
     "name": "#%% md\n"
    }
   },
   "source": [
    "Needed Vars:\n",
    "CPR or MEVT\n",
    "BNP\n",
    "Diuretics dose\n",
    "inotropes\n",
    "intermacs?\n",
    "severe rv dysfunction?\n",
    "\n",
    "HF diagnosed in last 18 months\n",
    "Diuretics doses:\n",
    "- Furosemide\n",
    "- Bumetanide\n",
    "- Torsemide\n",
    "- Metolazone\n",
    "- ChloroTZ\n",
    "\n",
    "HGB\n",
    "uric acid\n",
    "Total cholesterol\n"
   ]
  },
  {
   "cell_type": "code",
   "execution_count": null,
   "metadata": {
    "pycharm": {
     "is_executing": true
    }
   },
   "outputs": [],
   "source": [
    "#BEST has\n",
    "\n",
    "Diuretics but no dose\n",
    "inotropes\n",
    "HGB\n",
    "uric acid\n",
    "Total cholesterol"
   ]
  },
  {
   "cell_type": "code",
   "execution_count": null,
   "metadata": {
    "pycharm": {
     "is_executing": true
    }
   },
   "outputs": [],
   "source": [
    "#HF action has\n",
    "\n",
    "BNP\n",
    "Diuretics dose\n",
    "\n",
    "Diuretics doses:\n",
    "- Furosemide\n",
    "\n",
    "Total cholesterol\n"
   ]
  },
  {
   "cell_type": "code",
   "execution_count": null,
   "metadata": {
    "pycharm": {
     "is_executing": true,
     "name": "#%%\n"
    }
   },
   "outputs": [],
   "source": [
    "#GUIDe it has\n",
    "Needed Vars:\n",
    "MEVT\n",
    "BNP\n",
    "Diuretics dose\n",
    "inotropes\n",
    "\n",
    "Diuretics doses - use furosemide from diurdse\n",
    "\n",
    "uric acid\n",
    "Total cholesterol\n"
   ]
  },
  {
   "cell_type": "code",
   "execution_count": null,
   "metadata": {
    "pycharm": {
     "is_executing": true
    }
   },
   "outputs": [],
   "source": []
  },
  {
   "cell_type": "code",
   "execution_count": null,
   "metadata": {
    "pycharm": {
     "is_executing": true
    }
   },
   "outputs": [],
   "source": []
  },
  {
   "cell_type": "code",
   "execution_count": null,
   "metadata": {
    "pycharm": {
     "is_executing": true
    }
   },
   "outputs": [],
   "source": [
    "actual = []\n",
    "actual.extend([0.077 for i in range(91)])\n",
    "actual.extend([0.104 for i in range(125)])\n",
    "actual.extend([0.167 for i in range(114)])\n",
    "actual.extend([0.264 for i in range(53)])\n",
    "actual.extend([0.448 for i in range(29)])\n",
    "actual.extend([0.800 for i in range(15)])\n",
    "actual.extend([0.750 for i in range(4)])\n",
    "actual.extend([1.000 for i in range(1)])\n",
    "actual.extend([1.000 for i in range(1)])\n",
    "\n",
    "predBNP = []\n",
    "predBNP.extend([0.033 for i in range(91)])\n",
    "predBNP.extend([0.065 for i in range(125)])\n",
    "predBNP.extend([0.123 for i in range(114)])\n",
    "predBNP.extend([0.223 for i in range(53)])\n",
    "predBNP.extend([0.368 for i in range(29)])\n",
    "predBNP.extend([0.543 for i in range(15)])\n",
    "predBNP.extend([0.708 for i in range(4)])\n",
    "predBNP.extend([0.831 for i in range(1)])\n",
    "predBNP.extend([0.909 for i in range(1)])\n",
    "\n",
    "predNoBNP = []\n",
    "predNoBNP.extend([0.053 for i in range(91)])\n",
    "predNoBNP.extend([0.103 for i in range(125)])\n",
    "predNoBNP.extend([0.189 for i in range(114)])\n",
    "predNoBNP.extend([0.322 for i in range(53)])\n",
    "predNoBNP.extend([0.492 for i in range(29)])\n",
    "predNoBNP.extend([0.664 for i in range(15)])\n",
    "predNoBNP.extend([0.801 for i in range(4)])\n",
    "predNoBNP.extend([0.891 for i in range(1)])\n",
    "predNoBNP.extend([0.943 for i in range(1)])\n"
   ]
  },
  {
   "cell_type": "code",
   "execution_count": null,
   "metadata": {
    "pycharm": {
     "is_executing": true
    }
   },
   "outputs": [],
   "source": []
  }
 ],
 "metadata": {
  "kernelspec": {
   "display_name": "Python 3",
   "language": "python",
   "name": "python3"
  },
  "language_info": {
   "codemirror_mode": {
    "name": "ipython",
    "version": 3
   },
   "file_extension": ".py",
   "mimetype": "text/x-python",
   "name": "python",
   "nbconvert_exporter": "python",
   "pygments_lexer": "ipython3",
   "version": "3.7.7"
  }
 },
 "nbformat": 4,
 "nbformat_minor": 1
}
